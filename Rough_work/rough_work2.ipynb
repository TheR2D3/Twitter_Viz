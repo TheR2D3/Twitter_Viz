{
 "cells": [
  {
   "cell_type": "code",
   "execution_count": 1,
   "metadata": {},
   "outputs": [],
   "source": [
    "import pandas as pd\n",
    "import numpy as np\n",
    "import tweepy"
   ]
  },
  {
   "cell_type": "code",
   "execution_count": 6,
   "metadata": {},
   "outputs": [],
   "source": [
    "# The auth methods\n",
    "auth = tweepy.OAuthHandler('PwIx3tXnoN6LNEjHMWtn2b7s2', '8vr859bsLSRyiijzMvFaACYqxnYNdLhcwTWhKEUPSrRSnrQziU')\n",
    "\n",
    "auth.set_access_token('150554502-Svlt33TXWClnGYpJ5G01SfVUYhXcEvXCaIfQW8nW', 'eiKA07ylhb5Y5dWWXTaRU09H39N8rVZMFQTOmNjD081n5')\n",
    "\n",
    "data_set = pd.DataFrame()\n",
    "data_string = []"
   ]
  },
  {
   "cell_type": "code",
   "execution_count": 7,
   "metadata": {},
   "outputs": [],
   "source": [
    "api = tweepy.API(auth)"
   ]
  },
  {
   "cell_type": "code",
   "execution_count": 12,
   "metadata": {
    "tags": [
     "outputPrepend"
    ]
   },
   "outputs": [],
   "source": [
    "#new_tweets = api.user_timeline(screen_name = 'realDonaldTrump',count=10)\n",
    "#full_tweets = new_tweets.extend()\n",
    "screen_name='realDonaldTrump'\n",
    "tweet_object = api.user_timeline(screen_name = screen_name,count=10)"
   ]
  },
  {
   "cell_type": "code",
   "execution_count": 4,
   "metadata": {},
   "outputs": [
    {
     "output_type": "error",
     "ename": "NameError",
     "evalue": "name 'tweet_object' is not defined",
     "traceback": [
      "\u001b[0;31m---------------------------------------------------------------------------\u001b[0m",
      "\u001b[0;31mNameError\u001b[0m                                 Traceback (most recent call last)",
      "\u001b[0;32m<ipython-input-4-650a28789b36>\u001b[0m in \u001b[0;36m<module>\u001b[0;34m\u001b[0m\n\u001b[1;32m      1\u001b[0m \u001b[0mtweet_list\u001b[0m\u001b[0;34m=\u001b[0m\u001b[0;34m[\u001b[0m\u001b[0;34m]\u001b[0m\u001b[0;34m\u001b[0m\u001b[0;34m\u001b[0m\u001b[0m\n\u001b[0;32m----> 2\u001b[0;31m \u001b[0;32mfor\u001b[0m \u001b[0mtweet\u001b[0m \u001b[0;32min\u001b[0m \u001b[0mtweet_object\u001b[0m\u001b[0;34m:\u001b[0m\u001b[0;34m\u001b[0m\u001b[0;34m\u001b[0m\u001b[0m\n\u001b[0m\u001b[1;32m      3\u001b[0m    \u001b[0mtweet_id\u001b[0m \u001b[0;34m=\u001b[0m \u001b[0mtweet\u001b[0m\u001b[0;34m.\u001b[0m\u001b[0mid\u001b[0m \u001b[0;31m# unique integer identifier for tweet\u001b[0m\u001b[0;34m\u001b[0m\u001b[0;34m\u001b[0m\u001b[0m\n\u001b[1;32m      4\u001b[0m    \u001b[0mtext\u001b[0m \u001b[0;34m=\u001b[0m \u001b[0mtweet\u001b[0m\u001b[0;34m.\u001b[0m\u001b[0mtext\u001b[0m \u001b[0;31m# utf-8 text of tweet\u001b[0m\u001b[0;34m\u001b[0m\u001b[0;34m\u001b[0m\u001b[0m\n\u001b[1;32m      5\u001b[0m    \u001b[0mfavorite_count\u001b[0m \u001b[0;34m=\u001b[0m \u001b[0mtweet\u001b[0m\u001b[0;34m.\u001b[0m\u001b[0mfavorite_count\u001b[0m\u001b[0;34m\u001b[0m\u001b[0;34m\u001b[0m\u001b[0m\n",
      "\u001b[0;31mNameError\u001b[0m: name 'tweet_object' is not defined"
     ]
    }
   ],
   "source": [
    "tweet_list=[]\n",
    "for tweet in tweet_object:    \n",
    "   tweet_id = tweet.id # unique integer identifier for tweet\n",
    "   text = tweet.text # utf-8 text of tweet\n",
    "   favorite_count = tweet.favorite_count\n",
    "   retweet_count = tweet.retweet_count\n",
    "   created_at = tweet.created_at # utc time tweet created\n",
    "   source = tweet.source # utility used to post tweet\n",
    "   reply_to_status = tweet.in_reply_to_status_id # if reply int of orginal tweet id\n",
    "   reply_to_user = tweet.in_reply_to_screen_name # if reply original tweetes screenname\n",
    "   retweets = tweet.retweet_count # number of times this tweet retweeted\n",
    "   favorites = tweet.favorite_count # number of time this tweet liked\n",
    "   # append attributes to list\n",
    "   tweet_list.append({'tweet_id':tweet_id, 'text':text, 'favorite_count':favorite_count,'retweet_count':retweet_count, 'created_at':created_at, 'source':source,                                        'reply_to_status':reply_to_status, 'reply_to_user':reply_to_user, 'retweets':retweets, 'favorites':favorites})\n",
    "\n",
    "    "
   ]
  },
  {
   "cell_type": "code",
   "execution_count": 14,
   "metadata": {},
   "outputs": [],
   "source": [
    "tweet_data_frame = pd.DataFrame(tweet_list, columns=['tweet_id', 'text',\n",
    "                                           'favorite_count',\n",
    "                                           'retweet_count',\n",
    "                                           'created_at',\n",
    "                                           'source',\n",
    "                                           'reply_to_status',\n",
    "                                           'reply_to_user',\n",
    "                                           'retweets',\n",
    "                                           'favorites'])"
   ]
  },
  {
   "cell_type": "code",
   "execution_count": 15,
   "metadata": {},
   "outputs": [
    {
     "output_type": "execute_result",
     "data": {
      "text/plain": "              tweet_id                                               text  \\\n0  1253690189144379392  Just spoke to President Nayib Bukele of El Sal...   \n1  1253688241947107331  Just spoke to my friend, President Joko Widodo...   \n2  1253684917038452736  Great conversation with President Lenin Moreno...   \n3  1253683467801563138  Our Country wants to move safely forward. Ther...   \n4  1253681801018605568  The Fake and totally corrupt News is after her...   \n5  1253680829580169218  RT @GeraldoRivera: If--as @VP tells me on our ...   \n6  1253680155656101897  RT @GOPChairwoman: We have a decision as to wh...   \n7  1253679957475307520               RT @realDonaldTrump: Important news!   \n8  1253679654734573570  Getting VERY good reviews of the job the Feder...   \n9  1253541777598013440  RT @DonaldJTrumpJr: After the pandemic passes ...   \n\n   favorite_count  retweet_count          created_at              source  \\\n0            6340           1418 2020-04-24 14:20:08  Twitter for iPhone   \n1           13541           2637 2020-04-24 14:12:23  Twitter for iPhone   \n2           17147           3806 2020-04-24 13:59:11  Twitter for iPhone   \n3           35065           6996 2020-04-24 13:53:25  Twitter for iPhone   \n4           18681           5741 2020-04-24 13:46:48  Twitter for iPhone   \n5               0           1568 2020-04-24 13:42:56  Twitter for iPhone   \n6               0           3613 2020-04-24 13:40:16  Twitter for iPhone   \n7               0          14971 2020-04-24 13:39:28  Twitter for iPhone   \n8           32889           6727 2020-04-24 13:38:16  Twitter for iPhone   \n9               0          25155 2020-04-24 04:30:24  Twitter for iPhone   \n\n  reply_to_status reply_to_user  retweets  favorites  \n0            None          None      1418       6340  \n1            None          None      2637      13541  \n2            None          None      3806      17147  \n3            None          None      6996      35065  \n4            None          None      5741      18681  \n5            None          None      1568          0  \n6            None          None      3613          0  \n7            None          None     14971          0  \n8            None          None      6727      32889  \n9            None          None     25155          0  ",
      "text/html": "<div>\n<style scoped>\n    .dataframe tbody tr th:only-of-type {\n        vertical-align: middle;\n    }\n\n    .dataframe tbody tr th {\n        vertical-align: top;\n    }\n\n    .dataframe thead th {\n        text-align: right;\n    }\n</style>\n<table border=\"1\" class=\"dataframe\">\n  <thead>\n    <tr style=\"text-align: right;\">\n      <th></th>\n      <th>tweet_id</th>\n      <th>text</th>\n      <th>favorite_count</th>\n      <th>retweet_count</th>\n      <th>created_at</th>\n      <th>source</th>\n      <th>reply_to_status</th>\n      <th>reply_to_user</th>\n      <th>retweets</th>\n      <th>favorites</th>\n    </tr>\n  </thead>\n  <tbody>\n    <tr>\n      <td>0</td>\n      <td>1253690189144379392</td>\n      <td>Just spoke to President Nayib Bukele of El Sal...</td>\n      <td>6340</td>\n      <td>1418</td>\n      <td>2020-04-24 14:20:08</td>\n      <td>Twitter for iPhone</td>\n      <td>None</td>\n      <td>None</td>\n      <td>1418</td>\n      <td>6340</td>\n    </tr>\n    <tr>\n      <td>1</td>\n      <td>1253688241947107331</td>\n      <td>Just spoke to my friend, President Joko Widodo...</td>\n      <td>13541</td>\n      <td>2637</td>\n      <td>2020-04-24 14:12:23</td>\n      <td>Twitter for iPhone</td>\n      <td>None</td>\n      <td>None</td>\n      <td>2637</td>\n      <td>13541</td>\n    </tr>\n    <tr>\n      <td>2</td>\n      <td>1253684917038452736</td>\n      <td>Great conversation with President Lenin Moreno...</td>\n      <td>17147</td>\n      <td>3806</td>\n      <td>2020-04-24 13:59:11</td>\n      <td>Twitter for iPhone</td>\n      <td>None</td>\n      <td>None</td>\n      <td>3806</td>\n      <td>17147</td>\n    </tr>\n    <tr>\n      <td>3</td>\n      <td>1253683467801563138</td>\n      <td>Our Country wants to move safely forward. Ther...</td>\n      <td>35065</td>\n      <td>6996</td>\n      <td>2020-04-24 13:53:25</td>\n      <td>Twitter for iPhone</td>\n      <td>None</td>\n      <td>None</td>\n      <td>6996</td>\n      <td>35065</td>\n    </tr>\n    <tr>\n      <td>4</td>\n      <td>1253681801018605568</td>\n      <td>The Fake and totally corrupt News is after her...</td>\n      <td>18681</td>\n      <td>5741</td>\n      <td>2020-04-24 13:46:48</td>\n      <td>Twitter for iPhone</td>\n      <td>None</td>\n      <td>None</td>\n      <td>5741</td>\n      <td>18681</td>\n    </tr>\n    <tr>\n      <td>5</td>\n      <td>1253680829580169218</td>\n      <td>RT @GeraldoRivera: If--as @VP tells me on our ...</td>\n      <td>0</td>\n      <td>1568</td>\n      <td>2020-04-24 13:42:56</td>\n      <td>Twitter for iPhone</td>\n      <td>None</td>\n      <td>None</td>\n      <td>1568</td>\n      <td>0</td>\n    </tr>\n    <tr>\n      <td>6</td>\n      <td>1253680155656101897</td>\n      <td>RT @GOPChairwoman: We have a decision as to wh...</td>\n      <td>0</td>\n      <td>3613</td>\n      <td>2020-04-24 13:40:16</td>\n      <td>Twitter for iPhone</td>\n      <td>None</td>\n      <td>None</td>\n      <td>3613</td>\n      <td>0</td>\n    </tr>\n    <tr>\n      <td>7</td>\n      <td>1253679957475307520</td>\n      <td>RT @realDonaldTrump: Important news!</td>\n      <td>0</td>\n      <td>14971</td>\n      <td>2020-04-24 13:39:28</td>\n      <td>Twitter for iPhone</td>\n      <td>None</td>\n      <td>None</td>\n      <td>14971</td>\n      <td>0</td>\n    </tr>\n    <tr>\n      <td>8</td>\n      <td>1253679654734573570</td>\n      <td>Getting VERY good reviews of the job the Feder...</td>\n      <td>32889</td>\n      <td>6727</td>\n      <td>2020-04-24 13:38:16</td>\n      <td>Twitter for iPhone</td>\n      <td>None</td>\n      <td>None</td>\n      <td>6727</td>\n      <td>32889</td>\n    </tr>\n    <tr>\n      <td>9</td>\n      <td>1253541777598013440</td>\n      <td>RT @DonaldJTrumpJr: After the pandemic passes ...</td>\n      <td>0</td>\n      <td>25155</td>\n      <td>2020-04-24 04:30:24</td>\n      <td>Twitter for iPhone</td>\n      <td>None</td>\n      <td>None</td>\n      <td>25155</td>\n      <td>0</td>\n    </tr>\n  </tbody>\n</table>\n</div>"
     },
     "metadata": {},
     "execution_count": 15
    }
   ],
   "source": [
    "tweet_data_frame"
   ]
  },
  {
   "cell_type": "code",
   "execution_count": 6,
   "metadata": {},
   "outputs": [
    {
     "output_type": "stream",
     "name": "stdout",
     "text": "Sign up for email updates from New York State on #Coronavirus: https://t.co/ehrgNI3avoTweeted at: 2020-04-23 17:24:04\nShe gets it. If only Armin #Laschet would. #Laschetfordert #coronavirus https://t.co/FHc6IL0l2xTweeted at: 2020-04-23 17:24:04\nClay County posts 12th #coronavirus death via @DrewDixon30 https://t.co/Xw55lgIyeR #FlaPol https://t.co/7WQwOQhtGCTweeted at: 2020-04-23 17:24:04\nInstagram Working On ‘Memorialized Account’ Feature as COVID Deaths Rise https://t.co/SfO9AQXrCU #Culture #News #coronavirus https://t.co/rbamH0I1WnTweeted at: 2020-04-23 17:24:03\n@AriFleischer POTUS clearly said it was the types of businesses GA was allowing. #COVID19 #coronavirus #thursdayvibesTweeted at: 2020-04-23 17:24:02\n#Options Flow Grid Update $GILD #OptionsTrading #Gilead Sciences Shares Down 6.91% to $75.69 #HealthTech #healthcare #drug #drugs #manufacturers #stocks #StockMarket #stockstowatch #StocksToTrade #stock #StockTrading #coronavirus #CoronavirusPandemic https://t.co/5JE2nlalc3 https://t.co/aCj5wcSP4UTweeted at: 2020-04-23 17:24:02\nThis data though. A lot of new cases in a weeks times. \n\n#Covid_19\n#coronavirus\n#WeAreCPUT\n#WeAreCPUTMedia https://t.co/ZfuU3Ixy9ATweeted at: 2020-04-23 17:24:00\n@GovKemp says:\n\"Welcome #Georgians to our little shops of Horror\".\n#Georgia\n#Atlanta\n#coronavirus \n#Phase1 https://t.co/wUSOMKxfe3Tweeted at: 2020-04-23 17:23:58\nSo humbling ! #coronavirus #lockdownextension https://t.co/MMkP4aP87WTweeted at: 2020-04-23 17:23:58\nDon't forget the Chinese doctor who first warned about #coronavirus and was threatened, attacked, smeared, made to sign a confession, silenced, isolated and then died after being infected while trying to help others.\n\nChina did all of this. #ChineseVirus . https://t.co/dxCdX1uW0rTweeted at: 2020-04-23 17:23:57\n#JUSTIN || One death and 27 new #coronavirus #Covid_19 cases recorded in #Telangana today. Total no of cases mounts to 970 of which 693 are active cases. 58 patients were discharged today. @amjedmbt @HiHyderabadTweeted at: 2020-04-23 17:23:53\nCoronavirus: US unemployment figures skyrocket to 26 million #Coronavirus https://t.co/k3nToD4JroTweeted at: 2020-04-23 17:23:53\nPolice are reporting a spike in domestic violence calls since shelter-in-place orders began. If you or someone you know needs to speak with someone or get help with other services, contact the 24 hour #Georgia Crisis and Access Line. #fox5atl #COVID19 #coronavirus #MentalHealth https://t.co/ELbp0lUwZrTweeted at: 2020-04-23 17:23:52\nFirst responders honor healthcare workers in parade of vehicles through hospital’s campus #coronavirus  https://t.co/Uk9NQRlj0nTweeted at: 2020-04-23 17:23:52\nThe first human trial in Europe of a coronavirus vaccine has begun in Oxford.\nhttps://t.co/tZdhexJp3G\n#coronavirus #CoronaVaccine #COVID19 #COVID19LKTweeted at: 2020-04-23 17:23:51\nDeleting tweets because someone pointed out all the propaganda running on netflix and other sites by the #deepstate right now. The #coronavirus is making people think irrationally. Calm down and pay attention. https://t.co/e3qodwP66dTweeted at: 2020-04-23 17:23:49\ncredit: @nasw...\n #NASW supports expanding paid emergency leave to allow workers to recover from illness or care for loved ones. The latest #coronavirus response act left millions of frontline workers from getting… https://t.co/05OTTZ2FQxTweeted at: 2020-04-23 17:23:48\n@atrupar How pathetic! They should be helping burying the dead from #coronavirus ! https://t.co/OjXEBqxP7CTweeted at: 2020-04-23 17:23:47\n#CoronavirusPandemic #coronavirus #chicagoIL Looks like Illinois is extended until the end of May\nhttps://t.co/125D1YusEcTweeted at: 2020-04-23 17:23:47\nCheck out this article I was featured in where I share my take on how companies can adapt to a digital workplace during COVID-19.  \n\nHow do you think companies can best adapt to a digital workplace? \n\n#wfh #workfromhome #covid19 #coronavirus #careercoach\n\nhttps://t.co/C9njhsR4CNTweeted at: 2020-04-23 17:23:47\n"
    }
   ],
   "source": [
    "hashtag_phrase=\"#coronavirus\"\n",
    "for tweet in tweepy.Cursor(api.search, q=hashtag_phrase+' -filter:retweets', lang=\"en\", tweet_mode='extended').items(20):\n",
    "    #print(tweet.full_text.replace('\\n',' ').encode('utf-8'))\n",
    "    print(tweet.full_text + \"Tweeted at: \" + str(tweet.created_at))               \n",
    "                                   "
   ]
  },
  {
   "cell_type": "code",
   "execution_count": 1,
   "metadata": {},
   "outputs": [
    {
     "output_type": "stream",
     "name": "stdout",
     "text": "Welcome!\n"
    }
   ],
   "source": [
    "print(\"Welcome!\")"
   ]
  },
  {
   "cell_type": "code",
   "execution_count": 1,
   "metadata": {},
   "outputs": [
    {
     "output_type": "stream",
     "name": "stderr",
     "text": "[nltk_data] Downloading package stopwords to /home/ubuntu/nltk_data...\n[nltk_data]   Package stopwords is already up-to-date!\n"
    }
   ],
   "source": [
    "import pandas as pd\n",
    "import numpy as np\n",
    "import tweepy\n",
    "from dataframe_populator_rough import dataframe_populator\n",
    "\n",
    "my_temp_dataset = dataframe_populator('realDonaldTrump')\n"
   ]
  },
  {
   "cell_type": "code",
   "execution_count": 3,
   "metadata": {},
   "outputs": [],
   "source": [
    "my_temp_dataset.to_csv('stemmed_senti.csv')"
   ]
  },
  {
   "cell_type": "code",
   "execution_count": 2,
   "metadata": {},
   "outputs": [],
   "source": [
    "my_new_dataset = pd.read_csv('stemmed_senti.csv')"
   ]
  },
  {
   "cell_type": "code",
   "execution_count": 5,
   "metadata": {},
   "outputs": [],
   "source": [
    "my_new_dataset['Sentiment'] = my_new_dataset['Sentiment'].apply(lambda x:round(x,2) * 100) "
   ]
  },
  {
   "cell_type": "code",
   "execution_count": 18,
   "metadata": {},
   "outputs": [
    {
     "output_type": "display_data",
     "data": {
      "application/vnd.plotly.v1+json": {
       "config": {
        "plotlyServerURL": "https://plot.ly"
       },
       "data": [
        {
         "type": "scatter",
         "y": [
          0,
          0,
          0,
          10,
          70,
          0,
          3,
          0,
          -60,
          0
         ]
        }
       ],
       "layout": {
        "template": {
         "data": {
          "bar": [
           {
            "error_x": {
             "color": "#2a3f5f"
            },
            "error_y": {
             "color": "#2a3f5f"
            },
            "marker": {
             "line": {
              "color": "#E5ECF6",
              "width": 0.5
             }
            },
            "type": "bar"
           }
          ],
          "barpolar": [
           {
            "marker": {
             "line": {
              "color": "#E5ECF6",
              "width": 0.5
             }
            },
            "type": "barpolar"
           }
          ],
          "carpet": [
           {
            "aaxis": {
             "endlinecolor": "#2a3f5f",
             "gridcolor": "white",
             "linecolor": "white",
             "minorgridcolor": "white",
             "startlinecolor": "#2a3f5f"
            },
            "baxis": {
             "endlinecolor": "#2a3f5f",
             "gridcolor": "white",
             "linecolor": "white",
             "minorgridcolor": "white",
             "startlinecolor": "#2a3f5f"
            },
            "type": "carpet"
           }
          ],
          "choropleth": [
           {
            "colorbar": {
             "outlinewidth": 0,
             "ticks": ""
            },
            "type": "choropleth"
           }
          ],
          "contour": [
           {
            "colorbar": {
             "outlinewidth": 0,
             "ticks": ""
            },
            "colorscale": [
             [
              0,
              "#0d0887"
             ],
             [
              0.1111111111111111,
              "#46039f"
             ],
             [
              0.2222222222222222,
              "#7201a8"
             ],
             [
              0.3333333333333333,
              "#9c179e"
             ],
             [
              0.4444444444444444,
              "#bd3786"
             ],
             [
              0.5555555555555556,
              "#d8576b"
             ],
             [
              0.6666666666666666,
              "#ed7953"
             ],
             [
              0.7777777777777778,
              "#fb9f3a"
             ],
             [
              0.8888888888888888,
              "#fdca26"
             ],
             [
              1,
              "#f0f921"
             ]
            ],
            "type": "contour"
           }
          ],
          "contourcarpet": [
           {
            "colorbar": {
             "outlinewidth": 0,
             "ticks": ""
            },
            "type": "contourcarpet"
           }
          ],
          "heatmap": [
           {
            "colorbar": {
             "outlinewidth": 0,
             "ticks": ""
            },
            "colorscale": [
             [
              0,
              "#0d0887"
             ],
             [
              0.1111111111111111,
              "#46039f"
             ],
             [
              0.2222222222222222,
              "#7201a8"
             ],
             [
              0.3333333333333333,
              "#9c179e"
             ],
             [
              0.4444444444444444,
              "#bd3786"
             ],
             [
              0.5555555555555556,
              "#d8576b"
             ],
             [
              0.6666666666666666,
              "#ed7953"
             ],
             [
              0.7777777777777778,
              "#fb9f3a"
             ],
             [
              0.8888888888888888,
              "#fdca26"
             ],
             [
              1,
              "#f0f921"
             ]
            ],
            "type": "heatmap"
           }
          ],
          "heatmapgl": [
           {
            "colorbar": {
             "outlinewidth": 0,
             "ticks": ""
            },
            "colorscale": [
             [
              0,
              "#0d0887"
             ],
             [
              0.1111111111111111,
              "#46039f"
             ],
             [
              0.2222222222222222,
              "#7201a8"
             ],
             [
              0.3333333333333333,
              "#9c179e"
             ],
             [
              0.4444444444444444,
              "#bd3786"
             ],
             [
              0.5555555555555556,
              "#d8576b"
             ],
             [
              0.6666666666666666,
              "#ed7953"
             ],
             [
              0.7777777777777778,
              "#fb9f3a"
             ],
             [
              0.8888888888888888,
              "#fdca26"
             ],
             [
              1,
              "#f0f921"
             ]
            ],
            "type": "heatmapgl"
           }
          ],
          "histogram": [
           {
            "marker": {
             "colorbar": {
              "outlinewidth": 0,
              "ticks": ""
             }
            },
            "type": "histogram"
           }
          ],
          "histogram2d": [
           {
            "colorbar": {
             "outlinewidth": 0,
             "ticks": ""
            },
            "colorscale": [
             [
              0,
              "#0d0887"
             ],
             [
              0.1111111111111111,
              "#46039f"
             ],
             [
              0.2222222222222222,
              "#7201a8"
             ],
             [
              0.3333333333333333,
              "#9c179e"
             ],
             [
              0.4444444444444444,
              "#bd3786"
             ],
             [
              0.5555555555555556,
              "#d8576b"
             ],
             [
              0.6666666666666666,
              "#ed7953"
             ],
             [
              0.7777777777777778,
              "#fb9f3a"
             ],
             [
              0.8888888888888888,
              "#fdca26"
             ],
             [
              1,
              "#f0f921"
             ]
            ],
            "type": "histogram2d"
           }
          ],
          "histogram2dcontour": [
           {
            "colorbar": {
             "outlinewidth": 0,
             "ticks": ""
            },
            "colorscale": [
             [
              0,
              "#0d0887"
             ],
             [
              0.1111111111111111,
              "#46039f"
             ],
             [
              0.2222222222222222,
              "#7201a8"
             ],
             [
              0.3333333333333333,
              "#9c179e"
             ],
             [
              0.4444444444444444,
              "#bd3786"
             ],
             [
              0.5555555555555556,
              "#d8576b"
             ],
             [
              0.6666666666666666,
              "#ed7953"
             ],
             [
              0.7777777777777778,
              "#fb9f3a"
             ],
             [
              0.8888888888888888,
              "#fdca26"
             ],
             [
              1,
              "#f0f921"
             ]
            ],
            "type": "histogram2dcontour"
           }
          ],
          "mesh3d": [
           {
            "colorbar": {
             "outlinewidth": 0,
             "ticks": ""
            },
            "type": "mesh3d"
           }
          ],
          "parcoords": [
           {
            "line": {
             "colorbar": {
              "outlinewidth": 0,
              "ticks": ""
             }
            },
            "type": "parcoords"
           }
          ],
          "pie": [
           {
            "automargin": true,
            "type": "pie"
           }
          ],
          "scatter": [
           {
            "marker": {
             "colorbar": {
              "outlinewidth": 0,
              "ticks": ""
             }
            },
            "type": "scatter"
           }
          ],
          "scatter3d": [
           {
            "line": {
             "colorbar": {
              "outlinewidth": 0,
              "ticks": ""
             }
            },
            "marker": {
             "colorbar": {
              "outlinewidth": 0,
              "ticks": ""
             }
            },
            "type": "scatter3d"
           }
          ],
          "scattercarpet": [
           {
            "marker": {
             "colorbar": {
              "outlinewidth": 0,
              "ticks": ""
             }
            },
            "type": "scattercarpet"
           }
          ],
          "scattergeo": [
           {
            "marker": {
             "colorbar": {
              "outlinewidth": 0,
              "ticks": ""
             }
            },
            "type": "scattergeo"
           }
          ],
          "scattergl": [
           {
            "marker": {
             "colorbar": {
              "outlinewidth": 0,
              "ticks": ""
             }
            },
            "type": "scattergl"
           }
          ],
          "scattermapbox": [
           {
            "marker": {
             "colorbar": {
              "outlinewidth": 0,
              "ticks": ""
             }
            },
            "type": "scattermapbox"
           }
          ],
          "scatterpolar": [
           {
            "marker": {
             "colorbar": {
              "outlinewidth": 0,
              "ticks": ""
             }
            },
            "type": "scatterpolar"
           }
          ],
          "scatterpolargl": [
           {
            "marker": {
             "colorbar": {
              "outlinewidth": 0,
              "ticks": ""
             }
            },
            "type": "scatterpolargl"
           }
          ],
          "scatterternary": [
           {
            "marker": {
             "colorbar": {
              "outlinewidth": 0,
              "ticks": ""
             }
            },
            "type": "scatterternary"
           }
          ],
          "surface": [
           {
            "colorbar": {
             "outlinewidth": 0,
             "ticks": ""
            },
            "colorscale": [
             [
              0,
              "#0d0887"
             ],
             [
              0.1111111111111111,
              "#46039f"
             ],
             [
              0.2222222222222222,
              "#7201a8"
             ],
             [
              0.3333333333333333,
              "#9c179e"
             ],
             [
              0.4444444444444444,
              "#bd3786"
             ],
             [
              0.5555555555555556,
              "#d8576b"
             ],
             [
              0.6666666666666666,
              "#ed7953"
             ],
             [
              0.7777777777777778,
              "#fb9f3a"
             ],
             [
              0.8888888888888888,
              "#fdca26"
             ],
             [
              1,
              "#f0f921"
             ]
            ],
            "type": "surface"
           }
          ],
          "table": [
           {
            "cells": {
             "fill": {
              "color": "#EBF0F8"
             },
             "line": {
              "color": "white"
             }
            },
            "header": {
             "fill": {
              "color": "#C8D4E3"
             },
             "line": {
              "color": "white"
             }
            },
            "type": "table"
           }
          ]
         },
         "layout": {
          "annotationdefaults": {
           "arrowcolor": "#2a3f5f",
           "arrowhead": 0,
           "arrowwidth": 1
          },
          "coloraxis": {
           "colorbar": {
            "outlinewidth": 0,
            "ticks": ""
           }
          },
          "colorscale": {
           "diverging": [
            [
             0,
             "#8e0152"
            ],
            [
             0.1,
             "#c51b7d"
            ],
            [
             0.2,
             "#de77ae"
            ],
            [
             0.3,
             "#f1b6da"
            ],
            [
             0.4,
             "#fde0ef"
            ],
            [
             0.5,
             "#f7f7f7"
            ],
            [
             0.6,
             "#e6f5d0"
            ],
            [
             0.7,
             "#b8e186"
            ],
            [
             0.8,
             "#7fbc41"
            ],
            [
             0.9,
             "#4d9221"
            ],
            [
             1,
             "#276419"
            ]
           ],
           "sequential": [
            [
             0,
             "#0d0887"
            ],
            [
             0.1111111111111111,
             "#46039f"
            ],
            [
             0.2222222222222222,
             "#7201a8"
            ],
            [
             0.3333333333333333,
             "#9c179e"
            ],
            [
             0.4444444444444444,
             "#bd3786"
            ],
            [
             0.5555555555555556,
             "#d8576b"
            ],
            [
             0.6666666666666666,
             "#ed7953"
            ],
            [
             0.7777777777777778,
             "#fb9f3a"
            ],
            [
             0.8888888888888888,
             "#fdca26"
            ],
            [
             1,
             "#f0f921"
            ]
           ],
           "sequentialminus": [
            [
             0,
             "#0d0887"
            ],
            [
             0.1111111111111111,
             "#46039f"
            ],
            [
             0.2222222222222222,
             "#7201a8"
            ],
            [
             0.3333333333333333,
             "#9c179e"
            ],
            [
             0.4444444444444444,
             "#bd3786"
            ],
            [
             0.5555555555555556,
             "#d8576b"
            ],
            [
             0.6666666666666666,
             "#ed7953"
            ],
            [
             0.7777777777777778,
             "#fb9f3a"
            ],
            [
             0.8888888888888888,
             "#fdca26"
            ],
            [
             1,
             "#f0f921"
            ]
           ]
          },
          "colorway": [
           "#636efa",
           "#EF553B",
           "#00cc96",
           "#ab63fa",
           "#FFA15A",
           "#19d3f3",
           "#FF6692",
           "#B6E880",
           "#FF97FF",
           "#FECB52"
          ],
          "font": {
           "color": "#2a3f5f"
          },
          "geo": {
           "bgcolor": "white",
           "lakecolor": "white",
           "landcolor": "#E5ECF6",
           "showlakes": true,
           "showland": true,
           "subunitcolor": "white"
          },
          "hoverlabel": {
           "align": "left"
          },
          "hovermode": "closest",
          "mapbox": {
           "style": "light"
          },
          "paper_bgcolor": "white",
          "plot_bgcolor": "#E5ECF6",
          "polar": {
           "angularaxis": {
            "gridcolor": "white",
            "linecolor": "white",
            "ticks": ""
           },
           "bgcolor": "#E5ECF6",
           "radialaxis": {
            "gridcolor": "white",
            "linecolor": "white",
            "ticks": ""
           }
          },
          "scene": {
           "xaxis": {
            "backgroundcolor": "#E5ECF6",
            "gridcolor": "white",
            "gridwidth": 2,
            "linecolor": "white",
            "showbackground": true,
            "ticks": "",
            "zerolinecolor": "white"
           },
           "yaxis": {
            "backgroundcolor": "#E5ECF6",
            "gridcolor": "white",
            "gridwidth": 2,
            "linecolor": "white",
            "showbackground": true,
            "ticks": "",
            "zerolinecolor": "white"
           },
           "zaxis": {
            "backgroundcolor": "#E5ECF6",
            "gridcolor": "white",
            "gridwidth": 2,
            "linecolor": "white",
            "showbackground": true,
            "ticks": "",
            "zerolinecolor": "white"
           }
          },
          "shapedefaults": {
           "line": {
            "color": "#2a3f5f"
           }
          },
          "ternary": {
           "aaxis": {
            "gridcolor": "white",
            "linecolor": "white",
            "ticks": ""
           },
           "baxis": {
            "gridcolor": "white",
            "linecolor": "white",
            "ticks": ""
           },
           "bgcolor": "#E5ECF6",
           "caxis": {
            "gridcolor": "white",
            "linecolor": "white",
            "ticks": ""
           }
          },
          "title": {
           "x": 0.05
          },
          "xaxis": {
           "automargin": true,
           "gridcolor": "white",
           "linecolor": "white",
           "ticks": "",
           "title": {
            "standoff": 15
           },
           "zerolinecolor": "white",
           "zerolinewidth": 2
          },
          "yaxis": {
           "automargin": true,
           "gridcolor": "white",
           "linecolor": "white",
           "ticks": "",
           "title": {
            "standoff": 15
           },
           "zerolinecolor": "white",
           "zerolinewidth": 2
          }
         }
        },
        "title": {
         "text": "A Figure Displaying Itself"
        }
       }
      }
     },
     "metadata": {}
    }
   ],
   "source": [
    "import dash_core_components as dcc\n",
    "import plotly.express as px\n",
    "\n",
    "x_val =  range(1, 11)\n",
    "\n",
    "import plotly.graph_objects as go\n",
    "fig = go.Figure(\n",
    "    data=[go.Scatter(y=my_new_dataset['Sentiment'])],\n",
    "    layout_title_text=\"A Figure Displaying Itself\"\n",
    ")\n",
    "fig"
   ]
  },
  {
   "cell_type": "code",
   "execution_count": 1,
   "metadata": {},
   "outputs": [],
   "source": [
    "#Hash tag testing\n",
    "\n",
    "import pandas as pd\n",
    "import numpy as np\n",
    "import tweepy\n",
    "\n",
    "# The auth methods\n",
    "auth = tweepy.OAuthHandler('PwIx3tXnoN6LNEjHMWtn2b7s2', '8vr859bsLSRyiijzMvFaACYqxnYNdLhcwTWhKEUPSrRSnrQziU')\n",
    "auth.set_access_token('150554502-Svlt33TXWClnGYpJ5G01SfVUYhXcEvXCaIfQW8nW', 'eiKA07ylhb5Y5dWWXTaRU09H39N8rVZMFQTOmNjD081n5')\n",
    "\n",
    "api = tweepy.API(auth)"
   ]
  },
  {
   "cell_type": "code",
   "execution_count": 8,
   "metadata": {},
   "outputs": [
    {
     "output_type": "stream",
     "name": "stdout",
     "text": "A presentation I gave to the @TheWFA on what became of the #Gallipoli men in the last year of the war #WW1\n\nhttps://t.co/WSmkvMhQ4i https://t.co/hsqXPHnotwTweeted at: 2020-04-26 16:53:02\n#Gallipoli: Images from the first days of the landings at the Dardanelles: https://t.co/WWVqt9yyjF https://t.co/iTk2vAofMGTweeted at: 2020-04-26 16:04:00\n@markcurtis30 I say @BorisJohnson will kill between 80K and 100K this year, so will kill more than #Churchill at #Gallipoli and he will get the same media cover up #COVID19 19Tweeted at: 2020-04-26 12:44:39\nExcerpt from ‘Glory is No Compensation’ the published account of The #Border Regiment’s involvement in the 1915 #Gallipoli campaign. #WW1 #AnzacAtHome\nhttps://t.co/QZnsRNregd https://t.co/yIAEnloViiTweeted at: 2020-04-26 12:25:49\n#OnThisDayInHistory An #IrishHero of #Gallipoli emerged to help win the day. Definitely one of Ireland's #FrontLineHeroes.\n#AnzacDay2020 #ANZAC2020 #Proud https://t.co/5xmniLjHhKTweeted at: 2020-04-26 12:12:07\n#Gallipoli facts: in 260 days 130,840 men were killed, 4,000 of them were Irish. Read about the Irish dead here: https://t.co/yhZUZFz0dM https://t.co/qsvXXPb58eTweeted at: 2020-04-26 12:03:00\nOn the weekend that would normally be events and parade to mark #Gallipoli rememberance a quieter affair this year. And look out for details this coming week on how VE75 will be commemorated in Bury in a world of social distancing and staying homeTweeted at: 2020-04-26 11:06:37\nOfficers of the 6th South Lancashires at #Aldershot before sailing to #Gallipoli. Captain Clement Attlee, the future Prime Minister, is 2nd from the right in the front row. https://t.co/RSVjWDbVQLTweeted at: 2020-04-26 10:19:05\nEach episode of the #OldFrontLine #WW1 podcast now has its own webpage. The page for the Walking #Gallipoli: W Beach episode can be found here: https://t.co/LZ8PR2vvctTweeted at: 2020-04-26 10:10:19\n#Gallipoli: What was the Gallipoli campaign?\nhttps://t.co/5Y1eKk03eY https://t.co/LckJxenquTTweeted at: 2020-04-26 09:00:00\n"
    }
   ],
   "source": [
    "hashtag_phrase=\"#Gallipoli\"\n",
    "for tweet in tweepy.Cursor(api.search, q=hashtag_phrase+' -filter:retweets', lang=\"en\", tweet_mode='extended').items(10):\n",
    "    #print(tweet.full_text.replace('\\n',' ').encode('utf-8'))\n",
    "    print(tweet.full_text + \"Tweeted at: \" + str(tweet.created_at))"
   ]
  },
  {
   "cell_type": "code",
   "execution_count": 3,
   "metadata": {},
   "outputs": [],
   "source": [
    "#Find trends of a place\n",
    "# Where On Earth ID for Brazil is 23424768.\n",
    "import json\n",
    "BRAZIL_WOE_ID = 23424748 \n",
    "brazil_trends = api.trends_place(BRAZIL_WOE_ID) \n",
    "trends = json.loads(json.dumps(brazil_trends, indent=1))\n",
    "\n",
    "trends_output=[]\n",
    " \n",
    "for trend in trends[0][\"trends\"]:\n",
    "\t#print (trend[\"name\"])\n",
    "\ttrends_output.append(trend[\"name\"])"
   ]
  },
  {
   "cell_type": "code",
   "execution_count": 8,
   "metadata": {},
   "outputs": [
    {
     "output_type": "execute_result",
     "data": {
      "text/plain": "'#Atomicon20'"
     },
     "metadata": {},
     "execution_count": 8
    }
   ],
   "source": [
    "trends_output[3]"
   ]
  },
  {
   "cell_type": "code",
   "execution_count": 14,
   "metadata": {},
   "outputs": [],
   "source": [
    "with open('woe_id.json', encoding='utf-8-sig') as f:\n",
    "    data = json.load(f)"
   ]
  },
  {
   "cell_type": "code",
   "execution_count": 62,
   "metadata": {
    "tags": [
     "outputPrepend"
    ]
   },
   "outputs": [],
   "source": [
    "#for i in data:\n",
    "#    print(i[\"woeid\"] ,i[\"name\"])\n",
    "\n",
    "woe_id = []\n",
    "place_id = []\n",
    "country_id = []\n",
    "country_code = []\n",
    "for i in data:\n",
    "    woe_id.append(i[\"woeid\"])\n",
    "    place_id.append(i[\"name\"])\n",
    "    country_id.append(i[\"country\"])\n",
    "    country_code.append(i[\"countryCode\"])\n"
   ]
  },
  {
   "cell_type": "code",
   "execution_count": 63,
   "metadata": {},
   "outputs": [],
   "source": [
    "woe_id_dataframe = pd.DataFrame()\n",
    "woe_id_dataframe['Woe_id'] = woe_id\n",
    "woe_id_dataframe['Location'] = place_id\n",
    "woe_id_dataframe['Country'] = country_id\n",
    "woe_id_dataframe['Country_Code'] = country_code\n"
   ]
  },
  {
   "cell_type": "code",
   "execution_count": 64,
   "metadata": {},
   "outputs": [],
   "source": [
    "woe_id_dataframe.to_csv('woe_id_data.csv')"
   ]
  },
  {
   "cell_type": "code",
   "execution_count": 3,
   "metadata": {},
   "outputs": [
    {
     "output_type": "display_data",
     "data": {
      "application/vnd.plotly.v1+json": {
       "config": {
        "plotlyServerURL": "https://plot.ly"
       },
       "data": [
        {
         "geo": "geo",
         "hoverlabel": {
          "namelength": 0
         },
         "hovertemplate": "Location=%{location}",
         "legendgroup": "",
         "locations": [
          "United Arab Emirates",
          "Algeria",
          "Argentina",
          "Australia",
          "Austria",
          "Bahrain",
          "Belgium",
          "Belarus",
          "Brazil",
          "Canada",
          "Chile",
          "Colombia",
          "Denmark",
          "Dominican Republic",
          "Ecuador",
          "Egypt",
          "Ireland",
          "France",
          "Ghana",
          "Germany",
          "Greece",
          "Guatemala",
          "Indonesia",
          "India",
          "Israel",
          "Italy",
          "Japan",
          "Jordan",
          "Kenya",
          "Korea",
          "Kuwait",
          "Lebanon",
          "Latvia",
          "Oman",
          "Mexico",
          "Malaysia",
          "Nigeria",
          "Netherlands",
          "Norway",
          "New Zealand",
          "Peru",
          "Pakistan",
          "Poland",
          "Panama",
          "Portugal",
          "Qatar",
          "Philippines",
          "Puerto Rico",
          "Russia",
          "Saudi Arabia",
          "South Africa",
          "Singapore",
          "Spain",
          "Sweden",
          "Switzerland",
          "Thailand",
          "Turkey",
          "United Kingdom",
          "Ukraine",
          "United States",
          "Venezuela",
          "Vietnam",
          "Petaling",
          "Hulu Langat",
          "Ahsa",
          "Okayama"
         ],
         "marker": {
          "color": "#636efa"
         },
         "name": "",
         "showlegend": false,
         "type": "scattergeo"
        }
       ],
       "layout": {
        "geo": {
         "center": {},
         "domain": {
          "x": [
           0,
           1
          ],
          "y": [
           0,
           1
          ]
         }
        },
        "legend": {
         "tracegroupgap": 0
        },
        "margin": {
         "t": 60
        },
        "template": {
         "data": {
          "bar": [
           {
            "error_x": {
             "color": "#2a3f5f"
            },
            "error_y": {
             "color": "#2a3f5f"
            },
            "marker": {
             "line": {
              "color": "#E5ECF6",
              "width": 0.5
             }
            },
            "type": "bar"
           }
          ],
          "barpolar": [
           {
            "marker": {
             "line": {
              "color": "#E5ECF6",
              "width": 0.5
             }
            },
            "type": "barpolar"
           }
          ],
          "carpet": [
           {
            "aaxis": {
             "endlinecolor": "#2a3f5f",
             "gridcolor": "white",
             "linecolor": "white",
             "minorgridcolor": "white",
             "startlinecolor": "#2a3f5f"
            },
            "baxis": {
             "endlinecolor": "#2a3f5f",
             "gridcolor": "white",
             "linecolor": "white",
             "minorgridcolor": "white",
             "startlinecolor": "#2a3f5f"
            },
            "type": "carpet"
           }
          ],
          "choropleth": [
           {
            "colorbar": {
             "outlinewidth": 0,
             "ticks": ""
            },
            "type": "choropleth"
           }
          ],
          "contour": [
           {
            "colorbar": {
             "outlinewidth": 0,
             "ticks": ""
            },
            "colorscale": [
             [
              0,
              "#0d0887"
             ],
             [
              0.1111111111111111,
              "#46039f"
             ],
             [
              0.2222222222222222,
              "#7201a8"
             ],
             [
              0.3333333333333333,
              "#9c179e"
             ],
             [
              0.4444444444444444,
              "#bd3786"
             ],
             [
              0.5555555555555556,
              "#d8576b"
             ],
             [
              0.6666666666666666,
              "#ed7953"
             ],
             [
              0.7777777777777778,
              "#fb9f3a"
             ],
             [
              0.8888888888888888,
              "#fdca26"
             ],
             [
              1,
              "#f0f921"
             ]
            ],
            "type": "contour"
           }
          ],
          "contourcarpet": [
           {
            "colorbar": {
             "outlinewidth": 0,
             "ticks": ""
            },
            "type": "contourcarpet"
           }
          ],
          "heatmap": [
           {
            "colorbar": {
             "outlinewidth": 0,
             "ticks": ""
            },
            "colorscale": [
             [
              0,
              "#0d0887"
             ],
             [
              0.1111111111111111,
              "#46039f"
             ],
             [
              0.2222222222222222,
              "#7201a8"
             ],
             [
              0.3333333333333333,
              "#9c179e"
             ],
             [
              0.4444444444444444,
              "#bd3786"
             ],
             [
              0.5555555555555556,
              "#d8576b"
             ],
             [
              0.6666666666666666,
              "#ed7953"
             ],
             [
              0.7777777777777778,
              "#fb9f3a"
             ],
             [
              0.8888888888888888,
              "#fdca26"
             ],
             [
              1,
              "#f0f921"
             ]
            ],
            "type": "heatmap"
           }
          ],
          "heatmapgl": [
           {
            "colorbar": {
             "outlinewidth": 0,
             "ticks": ""
            },
            "colorscale": [
             [
              0,
              "#0d0887"
             ],
             [
              0.1111111111111111,
              "#46039f"
             ],
             [
              0.2222222222222222,
              "#7201a8"
             ],
             [
              0.3333333333333333,
              "#9c179e"
             ],
             [
              0.4444444444444444,
              "#bd3786"
             ],
             [
              0.5555555555555556,
              "#d8576b"
             ],
             [
              0.6666666666666666,
              "#ed7953"
             ],
             [
              0.7777777777777778,
              "#fb9f3a"
             ],
             [
              0.8888888888888888,
              "#fdca26"
             ],
             [
              1,
              "#f0f921"
             ]
            ],
            "type": "heatmapgl"
           }
          ],
          "histogram": [
           {
            "marker": {
             "colorbar": {
              "outlinewidth": 0,
              "ticks": ""
             }
            },
            "type": "histogram"
           }
          ],
          "histogram2d": [
           {
            "colorbar": {
             "outlinewidth": 0,
             "ticks": ""
            },
            "colorscale": [
             [
              0,
              "#0d0887"
             ],
             [
              0.1111111111111111,
              "#46039f"
             ],
             [
              0.2222222222222222,
              "#7201a8"
             ],
             [
              0.3333333333333333,
              "#9c179e"
             ],
             [
              0.4444444444444444,
              "#bd3786"
             ],
             [
              0.5555555555555556,
              "#d8576b"
             ],
             [
              0.6666666666666666,
              "#ed7953"
             ],
             [
              0.7777777777777778,
              "#fb9f3a"
             ],
             [
              0.8888888888888888,
              "#fdca26"
             ],
             [
              1,
              "#f0f921"
             ]
            ],
            "type": "histogram2d"
           }
          ],
          "histogram2dcontour": [
           {
            "colorbar": {
             "outlinewidth": 0,
             "ticks": ""
            },
            "colorscale": [
             [
              0,
              "#0d0887"
             ],
             [
              0.1111111111111111,
              "#46039f"
             ],
             [
              0.2222222222222222,
              "#7201a8"
             ],
             [
              0.3333333333333333,
              "#9c179e"
             ],
             [
              0.4444444444444444,
              "#bd3786"
             ],
             [
              0.5555555555555556,
              "#d8576b"
             ],
             [
              0.6666666666666666,
              "#ed7953"
             ],
             [
              0.7777777777777778,
              "#fb9f3a"
             ],
             [
              0.8888888888888888,
              "#fdca26"
             ],
             [
              1,
              "#f0f921"
             ]
            ],
            "type": "histogram2dcontour"
           }
          ],
          "mesh3d": [
           {
            "colorbar": {
             "outlinewidth": 0,
             "ticks": ""
            },
            "type": "mesh3d"
           }
          ],
          "parcoords": [
           {
            "line": {
             "colorbar": {
              "outlinewidth": 0,
              "ticks": ""
             }
            },
            "type": "parcoords"
           }
          ],
          "pie": [
           {
            "automargin": true,
            "type": "pie"
           }
          ],
          "scatter": [
           {
            "marker": {
             "colorbar": {
              "outlinewidth": 0,
              "ticks": ""
             }
            },
            "type": "scatter"
           }
          ],
          "scatter3d": [
           {
            "line": {
             "colorbar": {
              "outlinewidth": 0,
              "ticks": ""
             }
            },
            "marker": {
             "colorbar": {
              "outlinewidth": 0,
              "ticks": ""
             }
            },
            "type": "scatter3d"
           }
          ],
          "scattercarpet": [
           {
            "marker": {
             "colorbar": {
              "outlinewidth": 0,
              "ticks": ""
             }
            },
            "type": "scattercarpet"
           }
          ],
          "scattergeo": [
           {
            "marker": {
             "colorbar": {
              "outlinewidth": 0,
              "ticks": ""
             }
            },
            "type": "scattergeo"
           }
          ],
          "scattergl": [
           {
            "marker": {
             "colorbar": {
              "outlinewidth": 0,
              "ticks": ""
             }
            },
            "type": "scattergl"
           }
          ],
          "scattermapbox": [
           {
            "marker": {
             "colorbar": {
              "outlinewidth": 0,
              "ticks": ""
             }
            },
            "type": "scattermapbox"
           }
          ],
          "scatterpolar": [
           {
            "marker": {
             "colorbar": {
              "outlinewidth": 0,
              "ticks": ""
             }
            },
            "type": "scatterpolar"
           }
          ],
          "scatterpolargl": [
           {
            "marker": {
             "colorbar": {
              "outlinewidth": 0,
              "ticks": ""
             }
            },
            "type": "scatterpolargl"
           }
          ],
          "scatterternary": [
           {
            "marker": {
             "colorbar": {
              "outlinewidth": 0,
              "ticks": ""
             }
            },
            "type": "scatterternary"
           }
          ],
          "surface": [
           {
            "colorbar": {
             "outlinewidth": 0,
             "ticks": ""
            },
            "colorscale": [
             [
              0,
              "#0d0887"
             ],
             [
              0.1111111111111111,
              "#46039f"
             ],
             [
              0.2222222222222222,
              "#7201a8"
             ],
             [
              0.3333333333333333,
              "#9c179e"
             ],
             [
              0.4444444444444444,
              "#bd3786"
             ],
             [
              0.5555555555555556,
              "#d8576b"
             ],
             [
              0.6666666666666666,
              "#ed7953"
             ],
             [
              0.7777777777777778,
              "#fb9f3a"
             ],
             [
              0.8888888888888888,
              "#fdca26"
             ],
             [
              1,
              "#f0f921"
             ]
            ],
            "type": "surface"
           }
          ],
          "table": [
           {
            "cells": {
             "fill": {
              "color": "#EBF0F8"
             },
             "line": {
              "color": "white"
             }
            },
            "header": {
             "fill": {
              "color": "#C8D4E3"
             },
             "line": {
              "color": "white"
             }
            },
            "type": "table"
           }
          ]
         },
         "layout": {
          "annotationdefaults": {
           "arrowcolor": "#2a3f5f",
           "arrowhead": 0,
           "arrowwidth": 1
          },
          "coloraxis": {
           "colorbar": {
            "outlinewidth": 0,
            "ticks": ""
           }
          },
          "colorscale": {
           "diverging": [
            [
             0,
             "#8e0152"
            ],
            [
             0.1,
             "#c51b7d"
            ],
            [
             0.2,
             "#de77ae"
            ],
            [
             0.3,
             "#f1b6da"
            ],
            [
             0.4,
             "#fde0ef"
            ],
            [
             0.5,
             "#f7f7f7"
            ],
            [
             0.6,
             "#e6f5d0"
            ],
            [
             0.7,
             "#b8e186"
            ],
            [
             0.8,
             "#7fbc41"
            ],
            [
             0.9,
             "#4d9221"
            ],
            [
             1,
             "#276419"
            ]
           ],
           "sequential": [
            [
             0,
             "#0d0887"
            ],
            [
             0.1111111111111111,
             "#46039f"
            ],
            [
             0.2222222222222222,
             "#7201a8"
            ],
            [
             0.3333333333333333,
             "#9c179e"
            ],
            [
             0.4444444444444444,
             "#bd3786"
            ],
            [
             0.5555555555555556,
             "#d8576b"
            ],
            [
             0.6666666666666666,
             "#ed7953"
            ],
            [
             0.7777777777777778,
             "#fb9f3a"
            ],
            [
             0.8888888888888888,
             "#fdca26"
            ],
            [
             1,
             "#f0f921"
            ]
           ],
           "sequentialminus": [
            [
             0,
             "#0d0887"
            ],
            [
             0.1111111111111111,
             "#46039f"
            ],
            [
             0.2222222222222222,
             "#7201a8"
            ],
            [
             0.3333333333333333,
             "#9c179e"
            ],
            [
             0.4444444444444444,
             "#bd3786"
            ],
            [
             0.5555555555555556,
             "#d8576b"
            ],
            [
             0.6666666666666666,
             "#ed7953"
            ],
            [
             0.7777777777777778,
             "#fb9f3a"
            ],
            [
             0.8888888888888888,
             "#fdca26"
            ],
            [
             1,
             "#f0f921"
            ]
           ]
          },
          "colorway": [
           "#636efa",
           "#EF553B",
           "#00cc96",
           "#ab63fa",
           "#FFA15A",
           "#19d3f3",
           "#FF6692",
           "#B6E880",
           "#FF97FF",
           "#FECB52"
          ],
          "font": {
           "color": "#2a3f5f"
          },
          "geo": {
           "bgcolor": "white",
           "lakecolor": "white",
           "landcolor": "#E5ECF6",
           "showlakes": true,
           "showland": true,
           "subunitcolor": "white"
          },
          "hoverlabel": {
           "align": "left"
          },
          "hovermode": "closest",
          "mapbox": {
           "style": "light"
          },
          "paper_bgcolor": "white",
          "plot_bgcolor": "#E5ECF6",
          "polar": {
           "angularaxis": {
            "gridcolor": "white",
            "linecolor": "white",
            "ticks": ""
           },
           "bgcolor": "#E5ECF6",
           "radialaxis": {
            "gridcolor": "white",
            "linecolor": "white",
            "ticks": ""
           }
          },
          "scene": {
           "xaxis": {
            "backgroundcolor": "#E5ECF6",
            "gridcolor": "white",
            "gridwidth": 2,
            "linecolor": "white",
            "showbackground": true,
            "ticks": "",
            "zerolinecolor": "white"
           },
           "yaxis": {
            "backgroundcolor": "#E5ECF6",
            "gridcolor": "white",
            "gridwidth": 2,
            "linecolor": "white",
            "showbackground": true,
            "ticks": "",
            "zerolinecolor": "white"
           },
           "zaxis": {
            "backgroundcolor": "#E5ECF6",
            "gridcolor": "white",
            "gridwidth": 2,
            "linecolor": "white",
            "showbackground": true,
            "ticks": "",
            "zerolinecolor": "white"
           }
          },
          "shapedefaults": {
           "line": {
            "color": "#2a3f5f"
           }
          },
          "ternary": {
           "aaxis": {
            "gridcolor": "white",
            "linecolor": "white",
            "ticks": ""
           },
           "baxis": {
            "gridcolor": "white",
            "linecolor": "white",
            "ticks": ""
           },
           "bgcolor": "#E5ECF6",
           "caxis": {
            "gridcolor": "white",
            "linecolor": "white",
            "ticks": ""
           }
          },
          "title": {
           "x": 0.05
          },
          "xaxis": {
           "automargin": true,
           "gridcolor": "white",
           "linecolor": "white",
           "ticks": "",
           "title": {
            "standoff": 15
           },
           "zerolinecolor": "white",
           "zerolinewidth": 2
          },
          "yaxis": {
           "automargin": true,
           "gridcolor": "white",
           "linecolor": "white",
           "ticks": "",
           "title": {
            "standoff": 15
           },
           "zerolinecolor": "white",
           "zerolinewidth": 2
          }
         }
        }
       }
      }
     },
     "metadata": {}
    }
   ],
   "source": [
    "#Globe data test\n",
    "import plotly.express as px\n",
    "import pandas as pd\n",
    "\n",
    "woe_df = pd.read_csv('woe_id_data_new2.csv')\n",
    "fig = px.scatter_geo(woe_df, locations='Location')                     \n",
    "fig.show()\n"
   ]
  },
  {
   "cell_type": "code",
   "execution_count": 61,
   "metadata": {},
   "outputs": [
    {
     "output_type": "display_data",
     "data": {
      "application/vnd.plotly.v1+json": {
       "config": {
        "plotlyServerURL": "https://plot.ly"
       },
       "data": [
        {
         "coloraxis": "coloraxis",
         "geo": "geo",
         "hoverlabel": {
          "namelength": 0
         },
         "hovertemplate": "<b>%{hovertext}</b><br><br>iso_alpha=%{location}<br>lifeExp=%{z}",
         "hovertext": [
          "Afghanistan",
          "Albania",
          "Algeria",
          "Angola",
          "Argentina",
          "Australia",
          "Austria",
          "Bahrain",
          "Bangladesh",
          "Belgium",
          "Benin",
          "Bolivia",
          "Bosnia and Herzegovina",
          "Botswana",
          "Brazil",
          "Bulgaria",
          "Burkina Faso",
          "Burundi",
          "Cambodia",
          "Cameroon",
          "Canada",
          "Central African Republic",
          "Chad",
          "Chile",
          "China",
          "Colombia",
          "Comoros",
          "Congo, Dem. Rep.",
          "Congo, Rep.",
          "Costa Rica",
          "Cote d'Ivoire",
          "Croatia",
          "Cuba",
          "Czech Republic",
          "Denmark",
          "Djibouti",
          "Dominican Republic",
          "Ecuador",
          "Egypt",
          "El Salvador",
          "Equatorial Guinea",
          "Eritrea",
          "Ethiopia",
          "Finland",
          "France",
          "Gabon",
          "Gambia",
          "Germany",
          "Ghana",
          "Greece",
          "Guatemala",
          "Guinea",
          "Guinea-Bissau",
          "Haiti",
          "Honduras",
          "Hong Kong, China",
          "Hungary",
          "Iceland",
          "India",
          "Indonesia",
          "Iran",
          "Iraq",
          "Ireland",
          "Israel",
          "Italy",
          "Jamaica",
          "Japan",
          "Jordan",
          "Kenya",
          "Korea, Dem. Rep.",
          "Korea, Rep.",
          "Kuwait",
          "Lebanon",
          "Lesotho",
          "Liberia",
          "Libya",
          "Madagascar",
          "Malawi",
          "Malaysia",
          "Mali",
          "Mauritania",
          "Mauritius",
          "Mexico",
          "Mongolia",
          "Montenegro",
          "Morocco",
          "Mozambique",
          "Myanmar",
          "Namibia",
          "Nepal",
          "Netherlands",
          "New Zealand",
          "Nicaragua",
          "Niger",
          "Nigeria",
          "Norway",
          "Oman",
          "Pakistan",
          "Panama",
          "Paraguay",
          "Peru",
          "Philippines",
          "Poland",
          "Portugal",
          "Puerto Rico",
          "Reunion",
          "Romania",
          "Rwanda",
          "Sao Tome and Principe",
          "Saudi Arabia",
          "Senegal",
          "Serbia",
          "Sierra Leone",
          "Singapore",
          "Slovak Republic",
          "Slovenia",
          "Somalia",
          "South Africa",
          "Spain",
          "Sri Lanka",
          "Sudan",
          "Swaziland",
          "Sweden",
          "Switzerland",
          "Syria",
          "Taiwan",
          "Tanzania",
          "Thailand",
          "Togo",
          "Trinidad and Tobago",
          "Tunisia",
          "Turkey",
          "Uganda",
          "United Kingdom",
          "United States",
          "Uruguay",
          "Venezuela",
          "Vietnam",
          "West Bank and Gaza",
          "Yemen, Rep.",
          "Zambia",
          "Zimbabwe"
         ],
         "locations": [
          "AFG",
          "ALB",
          "DZA",
          "AGO",
          "ARG",
          "AUS",
          "AUT",
          "BHR",
          "BGD",
          "BEL",
          "BEN",
          "BOL",
          "BIH",
          "BWA",
          "BRA",
          "BGR",
          "BFA",
          "BDI",
          "KHM",
          "CMR",
          "CAN",
          "CAF",
          "TCD",
          "CHL",
          "CHN",
          "COL",
          "COM",
          "COD",
          "COG",
          "CRI",
          "CIV",
          "HRV",
          "CUB",
          "CZE",
          "DNK",
          "DJI",
          "DOM",
          "ECU",
          "EGY",
          "SLV",
          "GNQ",
          "ERI",
          "ETH",
          "FIN",
          "FRA",
          "GAB",
          "GMB",
          "DEU",
          "GHA",
          "GRC",
          "GTM",
          "GIN",
          "GNB",
          "HTI",
          "HND",
          "HKG",
          "HUN",
          "ISL",
          "IND",
          "IDN",
          "IRN",
          "IRQ",
          "IRL",
          "ISR",
          "ITA",
          "JAM",
          "JPN",
          "JOR",
          "KEN",
          "KOR",
          "KOR",
          "KWT",
          "LBN",
          "LSO",
          "LBR",
          "LBY",
          "MDG",
          "MWI",
          "MYS",
          "MLI",
          "MRT",
          "MUS",
          "MEX",
          "MNG",
          "MNE",
          "MAR",
          "MOZ",
          "MMR",
          "NAM",
          "NPL",
          "NLD",
          "NZL",
          "NIC",
          "NER",
          "NGA",
          "NOR",
          "OMN",
          "PAK",
          "PAN",
          "PRY",
          "PER",
          "PHL",
          "POL",
          "PRT",
          "PRI",
          "REU",
          "ROU",
          "RWA",
          "STP",
          "SAU",
          "SEN",
          "SRB",
          "SLE",
          "SGP",
          "SVK",
          "SVN",
          "SOM",
          "ZAF",
          "ESP",
          "LKA",
          "SDN",
          "SWZ",
          "SWE",
          "CHE",
          "SYR",
          "TWN",
          "TZA",
          "THA",
          "TGO",
          "TTO",
          "TUN",
          "TUR",
          "UGA",
          "GBR",
          "USA",
          "URY",
          "VEN",
          "VNM",
          "PSE",
          "YEM",
          "ZMB",
          "ZWE"
         ],
         "name": "",
         "type": "choropleth",
         "z": [
          43.828,
          76.423,
          72.301,
          42.731,
          75.32,
          81.235,
          79.829,
          75.635,
          64.062,
          79.441,
          56.728,
          65.554,
          74.852,
          50.728,
          72.39,
          73.005,
          52.295,
          49.58,
          59.723,
          50.43,
          80.653,
          44.74100000000001,
          50.651,
          78.553,
          72.961,
          72.889,
          65.152,
          46.461999999999996,
          55.321999999999996,
          78.782,
          48.328,
          75.748,
          78.273,
          76.486,
          78.332,
          54.791000000000004,
          72.235,
          74.994,
          71.33800000000001,
          71.878,
          51.57899999999999,
          58.04,
          52.946999999999996,
          79.313,
          80.657,
          56.735,
          59.448,
          79.406,
          60.022,
          79.483,
          70.259,
          56.007,
          46.388000000000005,
          60.916000000000004,
          70.19800000000001,
          82.208,
          73.33800000000001,
          81.757,
          64.69800000000001,
          70.65,
          70.964,
          59.545,
          78.885,
          80.745,
          80.546,
          72.567,
          82.603,
          72.535,
          54.11,
          67.297,
          78.623,
          77.58800000000001,
          71.993,
          42.592,
          45.678000000000004,
          73.952,
          59.443000000000005,
          48.303000000000004,
          74.241,
          54.467,
          64.164,
          72.801,
          76.195,
          66.803,
          74.543,
          71.164,
          42.082,
          62.068999999999996,
          52.906000000000006,
          63.785,
          79.762,
          80.204,
          72.899,
          56.867,
          46.858999999999995,
          80.196,
          75.64,
          65.483,
          75.53699999999999,
          71.752,
          71.421,
          71.688,
          75.563,
          78.098,
          78.74600000000001,
          76.442,
          72.476,
          46.242,
          65.528,
          72.777,
          63.062,
          74.002,
          42.568000000000005,
          79.972,
          74.663,
          77.926,
          48.159,
          49.339,
          80.941,
          72.396,
          58.556000000000004,
          39.613,
          80.884,
          81.70100000000001,
          74.143,
          78.4,
          52.516999999999996,
          70.616,
          58.42,
          69.819,
          73.923,
          71.777,
          51.542,
          79.425,
          78.242,
          76.384,
          73.747,
          74.249,
          73.422,
          62.698,
          42.38399999999999,
          43.486999999999995
         ]
        }
       ],
       "layout": {
        "coloraxis": {
         "colorbar": {
          "title": {
           "text": "lifeExp"
          }
         },
         "colorscale": [
          [
           0,
           "#0d0887"
          ],
          [
           0.1111111111111111,
           "#46039f"
          ],
          [
           0.2222222222222222,
           "#7201a8"
          ],
          [
           0.3333333333333333,
           "#9c179e"
          ],
          [
           0.4444444444444444,
           "#bd3786"
          ],
          [
           0.5555555555555556,
           "#d8576b"
          ],
          [
           0.6666666666666666,
           "#ed7953"
          ],
          [
           0.7777777777777778,
           "#fb9f3a"
          ],
          [
           0.8888888888888888,
           "#fdca26"
          ],
          [
           1,
           "#f0f921"
          ]
         ]
        },
        "geo": {
         "center": {},
         "domain": {
          "x": [
           0,
           1
          ],
          "y": [
           0,
           1
          ]
         }
        },
        "legend": {
         "tracegroupgap": 0
        },
        "margin": {
         "t": 60
        },
        "template": {
         "data": {
          "bar": [
           {
            "error_x": {
             "color": "#2a3f5f"
            },
            "error_y": {
             "color": "#2a3f5f"
            },
            "marker": {
             "line": {
              "color": "#E5ECF6",
              "width": 0.5
             }
            },
            "type": "bar"
           }
          ],
          "barpolar": [
           {
            "marker": {
             "line": {
              "color": "#E5ECF6",
              "width": 0.5
             }
            },
            "type": "barpolar"
           }
          ],
          "carpet": [
           {
            "aaxis": {
             "endlinecolor": "#2a3f5f",
             "gridcolor": "white",
             "linecolor": "white",
             "minorgridcolor": "white",
             "startlinecolor": "#2a3f5f"
            },
            "baxis": {
             "endlinecolor": "#2a3f5f",
             "gridcolor": "white",
             "linecolor": "white",
             "minorgridcolor": "white",
             "startlinecolor": "#2a3f5f"
            },
            "type": "carpet"
           }
          ],
          "choropleth": [
           {
            "colorbar": {
             "outlinewidth": 0,
             "ticks": ""
            },
            "type": "choropleth"
           }
          ],
          "contour": [
           {
            "colorbar": {
             "outlinewidth": 0,
             "ticks": ""
            },
            "colorscale": [
             [
              0,
              "#0d0887"
             ],
             [
              0.1111111111111111,
              "#46039f"
             ],
             [
              0.2222222222222222,
              "#7201a8"
             ],
             [
              0.3333333333333333,
              "#9c179e"
             ],
             [
              0.4444444444444444,
              "#bd3786"
             ],
             [
              0.5555555555555556,
              "#d8576b"
             ],
             [
              0.6666666666666666,
              "#ed7953"
             ],
             [
              0.7777777777777778,
              "#fb9f3a"
             ],
             [
              0.8888888888888888,
              "#fdca26"
             ],
             [
              1,
              "#f0f921"
             ]
            ],
            "type": "contour"
           }
          ],
          "contourcarpet": [
           {
            "colorbar": {
             "outlinewidth": 0,
             "ticks": ""
            },
            "type": "contourcarpet"
           }
          ],
          "heatmap": [
           {
            "colorbar": {
             "outlinewidth": 0,
             "ticks": ""
            },
            "colorscale": [
             [
              0,
              "#0d0887"
             ],
             [
              0.1111111111111111,
              "#46039f"
             ],
             [
              0.2222222222222222,
              "#7201a8"
             ],
             [
              0.3333333333333333,
              "#9c179e"
             ],
             [
              0.4444444444444444,
              "#bd3786"
             ],
             [
              0.5555555555555556,
              "#d8576b"
             ],
             [
              0.6666666666666666,
              "#ed7953"
             ],
             [
              0.7777777777777778,
              "#fb9f3a"
             ],
             [
              0.8888888888888888,
              "#fdca26"
             ],
             [
              1,
              "#f0f921"
             ]
            ],
            "type": "heatmap"
           }
          ],
          "heatmapgl": [
           {
            "colorbar": {
             "outlinewidth": 0,
             "ticks": ""
            },
            "colorscale": [
             [
              0,
              "#0d0887"
             ],
             [
              0.1111111111111111,
              "#46039f"
             ],
             [
              0.2222222222222222,
              "#7201a8"
             ],
             [
              0.3333333333333333,
              "#9c179e"
             ],
             [
              0.4444444444444444,
              "#bd3786"
             ],
             [
              0.5555555555555556,
              "#d8576b"
             ],
             [
              0.6666666666666666,
              "#ed7953"
             ],
             [
              0.7777777777777778,
              "#fb9f3a"
             ],
             [
              0.8888888888888888,
              "#fdca26"
             ],
             [
              1,
              "#f0f921"
             ]
            ],
            "type": "heatmapgl"
           }
          ],
          "histogram": [
           {
            "marker": {
             "colorbar": {
              "outlinewidth": 0,
              "ticks": ""
             }
            },
            "type": "histogram"
           }
          ],
          "histogram2d": [
           {
            "colorbar": {
             "outlinewidth": 0,
             "ticks": ""
            },
            "colorscale": [
             [
              0,
              "#0d0887"
             ],
             [
              0.1111111111111111,
              "#46039f"
             ],
             [
              0.2222222222222222,
              "#7201a8"
             ],
             [
              0.3333333333333333,
              "#9c179e"
             ],
             [
              0.4444444444444444,
              "#bd3786"
             ],
             [
              0.5555555555555556,
              "#d8576b"
             ],
             [
              0.6666666666666666,
              "#ed7953"
             ],
             [
              0.7777777777777778,
              "#fb9f3a"
             ],
             [
              0.8888888888888888,
              "#fdca26"
             ],
             [
              1,
              "#f0f921"
             ]
            ],
            "type": "histogram2d"
           }
          ],
          "histogram2dcontour": [
           {
            "colorbar": {
             "outlinewidth": 0,
             "ticks": ""
            },
            "colorscale": [
             [
              0,
              "#0d0887"
             ],
             [
              0.1111111111111111,
              "#46039f"
             ],
             [
              0.2222222222222222,
              "#7201a8"
             ],
             [
              0.3333333333333333,
              "#9c179e"
             ],
             [
              0.4444444444444444,
              "#bd3786"
             ],
             [
              0.5555555555555556,
              "#d8576b"
             ],
             [
              0.6666666666666666,
              "#ed7953"
             ],
             [
              0.7777777777777778,
              "#fb9f3a"
             ],
             [
              0.8888888888888888,
              "#fdca26"
             ],
             [
              1,
              "#f0f921"
             ]
            ],
            "type": "histogram2dcontour"
           }
          ],
          "mesh3d": [
           {
            "colorbar": {
             "outlinewidth": 0,
             "ticks": ""
            },
            "type": "mesh3d"
           }
          ],
          "parcoords": [
           {
            "line": {
             "colorbar": {
              "outlinewidth": 0,
              "ticks": ""
             }
            },
            "type": "parcoords"
           }
          ],
          "pie": [
           {
            "automargin": true,
            "type": "pie"
           }
          ],
          "scatter": [
           {
            "marker": {
             "colorbar": {
              "outlinewidth": 0,
              "ticks": ""
             }
            },
            "type": "scatter"
           }
          ],
          "scatter3d": [
           {
            "line": {
             "colorbar": {
              "outlinewidth": 0,
              "ticks": ""
             }
            },
            "marker": {
             "colorbar": {
              "outlinewidth": 0,
              "ticks": ""
             }
            },
            "type": "scatter3d"
           }
          ],
          "scattercarpet": [
           {
            "marker": {
             "colorbar": {
              "outlinewidth": 0,
              "ticks": ""
             }
            },
            "type": "scattercarpet"
           }
          ],
          "scattergeo": [
           {
            "marker": {
             "colorbar": {
              "outlinewidth": 0,
              "ticks": ""
             }
            },
            "type": "scattergeo"
           }
          ],
          "scattergl": [
           {
            "marker": {
             "colorbar": {
              "outlinewidth": 0,
              "ticks": ""
             }
            },
            "type": "scattergl"
           }
          ],
          "scattermapbox": [
           {
            "marker": {
             "colorbar": {
              "outlinewidth": 0,
              "ticks": ""
             }
            },
            "type": "scattermapbox"
           }
          ],
          "scatterpolar": [
           {
            "marker": {
             "colorbar": {
              "outlinewidth": 0,
              "ticks": ""
             }
            },
            "type": "scatterpolar"
           }
          ],
          "scatterpolargl": [
           {
            "marker": {
             "colorbar": {
              "outlinewidth": 0,
              "ticks": ""
             }
            },
            "type": "scatterpolargl"
           }
          ],
          "scatterternary": [
           {
            "marker": {
             "colorbar": {
              "outlinewidth": 0,
              "ticks": ""
             }
            },
            "type": "scatterternary"
           }
          ],
          "surface": [
           {
            "colorbar": {
             "outlinewidth": 0,
             "ticks": ""
            },
            "colorscale": [
             [
              0,
              "#0d0887"
             ],
             [
              0.1111111111111111,
              "#46039f"
             ],
             [
              0.2222222222222222,
              "#7201a8"
             ],
             [
              0.3333333333333333,
              "#9c179e"
             ],
             [
              0.4444444444444444,
              "#bd3786"
             ],
             [
              0.5555555555555556,
              "#d8576b"
             ],
             [
              0.6666666666666666,
              "#ed7953"
             ],
             [
              0.7777777777777778,
              "#fb9f3a"
             ],
             [
              0.8888888888888888,
              "#fdca26"
             ],
             [
              1,
              "#f0f921"
             ]
            ],
            "type": "surface"
           }
          ],
          "table": [
           {
            "cells": {
             "fill": {
              "color": "#EBF0F8"
             },
             "line": {
              "color": "white"
             }
            },
            "header": {
             "fill": {
              "color": "#C8D4E3"
             },
             "line": {
              "color": "white"
             }
            },
            "type": "table"
           }
          ]
         },
         "layout": {
          "annotationdefaults": {
           "arrowcolor": "#2a3f5f",
           "arrowhead": 0,
           "arrowwidth": 1
          },
          "coloraxis": {
           "colorbar": {
            "outlinewidth": 0,
            "ticks": ""
           }
          },
          "colorscale": {
           "diverging": [
            [
             0,
             "#8e0152"
            ],
            [
             0.1,
             "#c51b7d"
            ],
            [
             0.2,
             "#de77ae"
            ],
            [
             0.3,
             "#f1b6da"
            ],
            [
             0.4,
             "#fde0ef"
            ],
            [
             0.5,
             "#f7f7f7"
            ],
            [
             0.6,
             "#e6f5d0"
            ],
            [
             0.7,
             "#b8e186"
            ],
            [
             0.8,
             "#7fbc41"
            ],
            [
             0.9,
             "#4d9221"
            ],
            [
             1,
             "#276419"
            ]
           ],
           "sequential": [
            [
             0,
             "#0d0887"
            ],
            [
             0.1111111111111111,
             "#46039f"
            ],
            [
             0.2222222222222222,
             "#7201a8"
            ],
            [
             0.3333333333333333,
             "#9c179e"
            ],
            [
             0.4444444444444444,
             "#bd3786"
            ],
            [
             0.5555555555555556,
             "#d8576b"
            ],
            [
             0.6666666666666666,
             "#ed7953"
            ],
            [
             0.7777777777777778,
             "#fb9f3a"
            ],
            [
             0.8888888888888888,
             "#fdca26"
            ],
            [
             1,
             "#f0f921"
            ]
           ],
           "sequentialminus": [
            [
             0,
             "#0d0887"
            ],
            [
             0.1111111111111111,
             "#46039f"
            ],
            [
             0.2222222222222222,
             "#7201a8"
            ],
            [
             0.3333333333333333,
             "#9c179e"
            ],
            [
             0.4444444444444444,
             "#bd3786"
            ],
            [
             0.5555555555555556,
             "#d8576b"
            ],
            [
             0.6666666666666666,
             "#ed7953"
            ],
            [
             0.7777777777777778,
             "#fb9f3a"
            ],
            [
             0.8888888888888888,
             "#fdca26"
            ],
            [
             1,
             "#f0f921"
            ]
           ]
          },
          "colorway": [
           "#636efa",
           "#EF553B",
           "#00cc96",
           "#ab63fa",
           "#FFA15A",
           "#19d3f3",
           "#FF6692",
           "#B6E880",
           "#FF97FF",
           "#FECB52"
          ],
          "font": {
           "color": "#2a3f5f"
          },
          "geo": {
           "bgcolor": "white",
           "lakecolor": "white",
           "landcolor": "#E5ECF6",
           "showlakes": true,
           "showland": true,
           "subunitcolor": "white"
          },
          "hoverlabel": {
           "align": "left"
          },
          "hovermode": "closest",
          "mapbox": {
           "style": "light"
          },
          "paper_bgcolor": "white",
          "plot_bgcolor": "#E5ECF6",
          "polar": {
           "angularaxis": {
            "gridcolor": "white",
            "linecolor": "white",
            "ticks": ""
           },
           "bgcolor": "#E5ECF6",
           "radialaxis": {
            "gridcolor": "white",
            "linecolor": "white",
            "ticks": ""
           }
          },
          "scene": {
           "xaxis": {
            "backgroundcolor": "#E5ECF6",
            "gridcolor": "white",
            "gridwidth": 2,
            "linecolor": "white",
            "showbackground": true,
            "ticks": "",
            "zerolinecolor": "white"
           },
           "yaxis": {
            "backgroundcolor": "#E5ECF6",
            "gridcolor": "white",
            "gridwidth": 2,
            "linecolor": "white",
            "showbackground": true,
            "ticks": "",
            "zerolinecolor": "white"
           },
           "zaxis": {
            "backgroundcolor": "#E5ECF6",
            "gridcolor": "white",
            "gridwidth": 2,
            "linecolor": "white",
            "showbackground": true,
            "ticks": "",
            "zerolinecolor": "white"
           }
          },
          "shapedefaults": {
           "line": {
            "color": "#2a3f5f"
           }
          },
          "ternary": {
           "aaxis": {
            "gridcolor": "white",
            "linecolor": "white",
            "ticks": ""
           },
           "baxis": {
            "gridcolor": "white",
            "linecolor": "white",
            "ticks": ""
           },
           "bgcolor": "#E5ECF6",
           "caxis": {
            "gridcolor": "white",
            "linecolor": "white",
            "ticks": ""
           }
          },
          "title": {
           "x": 0.05
          },
          "xaxis": {
           "automargin": true,
           "gridcolor": "white",
           "linecolor": "white",
           "ticks": "",
           "title": {
            "standoff": 15
           },
           "zerolinecolor": "white",
           "zerolinewidth": 2
          },
          "yaxis": {
           "automargin": true,
           "gridcolor": "white",
           "linecolor": "white",
           "ticks": "",
           "title": {
            "standoff": 15
           },
           "zerolinecolor": "white",
           "zerolinewidth": 2
          }
         }
        }
       }
      }
     },
     "metadata": {}
    }
   ],
   "source": [
    "\n",
    "df = px.data.gapminder().query(\"year==2007\")\n",
    "fig = px.choropleth(df, locations=\"iso_alpha\",\n",
    "                    color=\"lifeExp\",\n",
    "                    hover_name=\"country\", # column to add to hover information\n",
    "                    color_continuous_scale=px.colors.sequential.Plasma)\n",
    "fig.show()"
   ]
  },
  {
   "cell_type": "code",
   "execution_count": 9,
   "metadata": {},
   "outputs": [],
   "source": [
    "woe_df.head(3)\n",
    "\n",
    "downloaded_df = pd.read_csv('countries_codes_and_coordinates.csv')"
   ]
  },
  {
   "cell_type": "code",
   "execution_count": 10,
   "metadata": {},
   "outputs": [
    {
     "output_type": "execute_result",
     "data": {
      "text/plain": "          Country Alpha-2_code Alpha-3_code  Numeric_code  Latitude_(average)  \\\n0     Afghanistan           AF          AFG             4             33.0000   \n1         Albania           AL          ALB             8             41.0000   \n2         Algeria           DZ          DZA            12             28.0000   \n3  American Samoa           AS          ASM            16            -14.3333   \n4         Andorra           AD          AND            20             42.5000   \n\n   Longitude_(average)  \n0                 65.0  \n1                 20.0  \n2                  3.0  \n3               -170.0  \n4                  1.6  ",
      "text/html": "<div>\n<style scoped>\n    .dataframe tbody tr th:only-of-type {\n        vertical-align: middle;\n    }\n\n    .dataframe tbody tr th {\n        vertical-align: top;\n    }\n\n    .dataframe thead th {\n        text-align: right;\n    }\n</style>\n<table border=\"1\" class=\"dataframe\">\n  <thead>\n    <tr style=\"text-align: right;\">\n      <th></th>\n      <th>Country</th>\n      <th>Alpha-2_code</th>\n      <th>Alpha-3_code</th>\n      <th>Numeric_code</th>\n      <th>Latitude_(average)</th>\n      <th>Longitude_(average)</th>\n    </tr>\n  </thead>\n  <tbody>\n    <tr>\n      <td>0</td>\n      <td>Afghanistan</td>\n      <td>AF</td>\n      <td>AFG</td>\n      <td>4</td>\n      <td>33.0000</td>\n      <td>65.0</td>\n    </tr>\n    <tr>\n      <td>1</td>\n      <td>Albania</td>\n      <td>AL</td>\n      <td>ALB</td>\n      <td>8</td>\n      <td>41.0000</td>\n      <td>20.0</td>\n    </tr>\n    <tr>\n      <td>2</td>\n      <td>Algeria</td>\n      <td>DZ</td>\n      <td>DZA</td>\n      <td>12</td>\n      <td>28.0000</td>\n      <td>3.0</td>\n    </tr>\n    <tr>\n      <td>3</td>\n      <td>American Samoa</td>\n      <td>AS</td>\n      <td>ASM</td>\n      <td>16</td>\n      <td>-14.3333</td>\n      <td>-170.0</td>\n    </tr>\n    <tr>\n      <td>4</td>\n      <td>Andorra</td>\n      <td>AD</td>\n      <td>AND</td>\n      <td>20</td>\n      <td>42.5000</td>\n      <td>1.6</td>\n    </tr>\n  </tbody>\n</table>\n</div>"
     },
     "metadata": {},
     "execution_count": 10
    }
   ],
   "source": [
    "downloaded_df.head(5)"
   ]
  },
  {
   "cell_type": "code",
   "execution_count": 11,
   "metadata": {},
   "outputs": [],
   "source": [
    "new_df = pd.merge(woe_df, downloaded_df, how='left', on=None, left_on=None, right_on=None,\n",
    "         left_index=False, right_index=False, sort=True,\n",
    "         suffixes=('_x', '_y'), copy=True, indicator=False,\n",
    "         validate=None)"
   ]
  },
  {
   "cell_type": "code",
   "execution_count": 12,
   "metadata": {},
   "outputs": [
    {
     "output_type": "execute_result",
     "data": {
      "text/plain": "     Woe_Id   Location    Country Country_code Alpha-2_code Alpha-3_code  \\\n0  23424740    Algeria    Algeria           DZ           DZ          DZA   \n1  23424747  Argentina  Argentina           AR           AR          ARG   \n2  23424748  Australia  Australia           AU           AU          AUS   \n3  23424750    Austria    Austria           AT           AT          AUT   \n4  23424753    Bahrain    Bahrain           BH           BH          BHR   \n\n   Numeric_code  Latitude_(average)  Longitude_(average)  \n0          12.0             28.0000               3.0000  \n1          32.0            -34.0000             -64.0000  \n2          36.0            -27.0000             133.0000  \n3          40.0             47.3333              13.3333  \n4          48.0             26.0000              50.5500  ",
      "text/html": "<div>\n<style scoped>\n    .dataframe tbody tr th:only-of-type {\n        vertical-align: middle;\n    }\n\n    .dataframe tbody tr th {\n        vertical-align: top;\n    }\n\n    .dataframe thead th {\n        text-align: right;\n    }\n</style>\n<table border=\"1\" class=\"dataframe\">\n  <thead>\n    <tr style=\"text-align: right;\">\n      <th></th>\n      <th>Woe_Id</th>\n      <th>Location</th>\n      <th>Country</th>\n      <th>Country_code</th>\n      <th>Alpha-2_code</th>\n      <th>Alpha-3_code</th>\n      <th>Numeric_code</th>\n      <th>Latitude_(average)</th>\n      <th>Longitude_(average)</th>\n    </tr>\n  </thead>\n  <tbody>\n    <tr>\n      <td>0</td>\n      <td>23424740</td>\n      <td>Algeria</td>\n      <td>Algeria</td>\n      <td>DZ</td>\n      <td>DZ</td>\n      <td>DZA</td>\n      <td>12.0</td>\n      <td>28.0000</td>\n      <td>3.0000</td>\n    </tr>\n    <tr>\n      <td>1</td>\n      <td>23424747</td>\n      <td>Argentina</td>\n      <td>Argentina</td>\n      <td>AR</td>\n      <td>AR</td>\n      <td>ARG</td>\n      <td>32.0</td>\n      <td>-34.0000</td>\n      <td>-64.0000</td>\n    </tr>\n    <tr>\n      <td>2</td>\n      <td>23424748</td>\n      <td>Australia</td>\n      <td>Australia</td>\n      <td>AU</td>\n      <td>AU</td>\n      <td>AUS</td>\n      <td>36.0</td>\n      <td>-27.0000</td>\n      <td>133.0000</td>\n    </tr>\n    <tr>\n      <td>3</td>\n      <td>23424750</td>\n      <td>Austria</td>\n      <td>Austria</td>\n      <td>AT</td>\n      <td>AT</td>\n      <td>AUT</td>\n      <td>40.0</td>\n      <td>47.3333</td>\n      <td>13.3333</td>\n    </tr>\n    <tr>\n      <td>4</td>\n      <td>23424753</td>\n      <td>Bahrain</td>\n      <td>Bahrain</td>\n      <td>BH</td>\n      <td>BH</td>\n      <td>BHR</td>\n      <td>48.0</td>\n      <td>26.0000</td>\n      <td>50.5500</td>\n    </tr>\n  </tbody>\n</table>\n</div>"
     },
     "metadata": {},
     "execution_count": 12
    }
   ],
   "source": [
    "new_df.head(5)"
   ]
  },
  {
   "cell_type": "code",
   "execution_count": 13,
   "metadata": {},
   "outputs": [],
   "source": [
    "new_df.to_csv('final_woeid.csv')"
   ]
  },
  {
   "cell_type": "code",
   "execution_count": 15,
   "metadata": {},
   "outputs": [
    {
     "output_type": "display_data",
     "data": {
      "application/vnd.plotly.v1+json": {
       "config": {
        "plotlyServerURL": "https://plot.ly"
       },
       "data": [
        {
         "geo": "geo",
         "hoverlabel": {
          "namelength": 0
         },
         "hovertemplate": "<b>%{hovertext}</b><br><br>Alpha-3_code=%{location}",
         "hovertext": [
          "Algeria",
          "Argentina",
          "Australia",
          "Austria",
          "Bahrain",
          "Belarus",
          "Belgium",
          "Brazil",
          "Canada",
          "Chile",
          "Colombia",
          "Denmark",
          "Dominican Republic",
          "Ecuador",
          "Egypt",
          "France",
          "Germany",
          "Ghana",
          "Greece",
          "Guatemala",
          "India",
          "Indonesia",
          "Ireland",
          "Israel",
          "Italy",
          "Japan",
          "Japan",
          "Jordan",
          "Kenya",
          "Korea",
          "Kuwait",
          "Latvia",
          "Lebanon",
          "Malaysia",
          "Malaysia",
          "Malaysia",
          "Mexico",
          "Netherlands",
          "New Zealand",
          "Nigeria",
          "Norway",
          "Oman",
          "Pakistan",
          "Panama",
          "Peru",
          "Philippines",
          "Poland",
          "Portugal",
          "Puerto Rico",
          "Qatar",
          "Russia",
          "Saudi Arabia",
          "Saudi Arabia",
          "Singapore",
          "South Africa",
          "Spain",
          "Sweden",
          "Switzerland",
          "Thailand",
          "Turkey",
          "Ukraine",
          "United Arab Emirates",
          "United Kingdom",
          "United States",
          "Venezuela",
          "Vietnam"
         ],
         "legendgroup": "",
         "locations": [
          "DZA",
          "ARG",
          "AUS",
          "AUT",
          "BHR",
          "BLR",
          "BEL",
          "BRA",
          "CAN",
          "CHL",
          "COL",
          "DNK",
          "DOM",
          "ECU",
          "EGY",
          "FRA",
          "DEU",
          "GHA",
          "GRC",
          "GTM",
          "IND",
          "IDN",
          "IRL",
          "ISR",
          "ITA",
          "JPN",
          "JPN",
          "JOR",
          "KEN",
          null,
          "KWT",
          "LVA",
          "LBN",
          "MYS",
          "MYS",
          "MYS",
          "MEX",
          "NLD",
          "NZL",
          "NGA",
          "NOR",
          "OMN",
          "PAK",
          "PAN",
          "PER",
          "PHL",
          "POL",
          "PRT",
          "PRI",
          "QAT",
          "RUS",
          "SAU",
          "SAU",
          "SGP",
          "ZAF",
          "ESP",
          "SWE",
          "CHE",
          "THA",
          "TUR",
          "UKR",
          "ARE",
          "GBR",
          "USA",
          "VEN",
          "VNM"
         ],
         "marker": {
          "color": "#636efa"
         },
         "name": "",
         "showlegend": false,
         "type": "scattergeo"
        }
       ],
       "layout": {
        "geo": {
         "center": {},
         "domain": {
          "x": [
           0,
           1
          ],
          "y": [
           0,
           1
          ]
         }
        },
        "legend": {
         "tracegroupgap": 0
        },
        "margin": {
         "t": 60
        },
        "template": {
         "data": {
          "bar": [
           {
            "error_x": {
             "color": "#2a3f5f"
            },
            "error_y": {
             "color": "#2a3f5f"
            },
            "marker": {
             "line": {
              "color": "#E5ECF6",
              "width": 0.5
             }
            },
            "type": "bar"
           }
          ],
          "barpolar": [
           {
            "marker": {
             "line": {
              "color": "#E5ECF6",
              "width": 0.5
             }
            },
            "type": "barpolar"
           }
          ],
          "carpet": [
           {
            "aaxis": {
             "endlinecolor": "#2a3f5f",
             "gridcolor": "white",
             "linecolor": "white",
             "minorgridcolor": "white",
             "startlinecolor": "#2a3f5f"
            },
            "baxis": {
             "endlinecolor": "#2a3f5f",
             "gridcolor": "white",
             "linecolor": "white",
             "minorgridcolor": "white",
             "startlinecolor": "#2a3f5f"
            },
            "type": "carpet"
           }
          ],
          "choropleth": [
           {
            "colorbar": {
             "outlinewidth": 0,
             "ticks": ""
            },
            "type": "choropleth"
           }
          ],
          "contour": [
           {
            "colorbar": {
             "outlinewidth": 0,
             "ticks": ""
            },
            "colorscale": [
             [
              0,
              "#0d0887"
             ],
             [
              0.1111111111111111,
              "#46039f"
             ],
             [
              0.2222222222222222,
              "#7201a8"
             ],
             [
              0.3333333333333333,
              "#9c179e"
             ],
             [
              0.4444444444444444,
              "#bd3786"
             ],
             [
              0.5555555555555556,
              "#d8576b"
             ],
             [
              0.6666666666666666,
              "#ed7953"
             ],
             [
              0.7777777777777778,
              "#fb9f3a"
             ],
             [
              0.8888888888888888,
              "#fdca26"
             ],
             [
              1,
              "#f0f921"
             ]
            ],
            "type": "contour"
           }
          ],
          "contourcarpet": [
           {
            "colorbar": {
             "outlinewidth": 0,
             "ticks": ""
            },
            "type": "contourcarpet"
           }
          ],
          "heatmap": [
           {
            "colorbar": {
             "outlinewidth": 0,
             "ticks": ""
            },
            "colorscale": [
             [
              0,
              "#0d0887"
             ],
             [
              0.1111111111111111,
              "#46039f"
             ],
             [
              0.2222222222222222,
              "#7201a8"
             ],
             [
              0.3333333333333333,
              "#9c179e"
             ],
             [
              0.4444444444444444,
              "#bd3786"
             ],
             [
              0.5555555555555556,
              "#d8576b"
             ],
             [
              0.6666666666666666,
              "#ed7953"
             ],
             [
              0.7777777777777778,
              "#fb9f3a"
             ],
             [
              0.8888888888888888,
              "#fdca26"
             ],
             [
              1,
              "#f0f921"
             ]
            ],
            "type": "heatmap"
           }
          ],
          "heatmapgl": [
           {
            "colorbar": {
             "outlinewidth": 0,
             "ticks": ""
            },
            "colorscale": [
             [
              0,
              "#0d0887"
             ],
             [
              0.1111111111111111,
              "#46039f"
             ],
             [
              0.2222222222222222,
              "#7201a8"
             ],
             [
              0.3333333333333333,
              "#9c179e"
             ],
             [
              0.4444444444444444,
              "#bd3786"
             ],
             [
              0.5555555555555556,
              "#d8576b"
             ],
             [
              0.6666666666666666,
              "#ed7953"
             ],
             [
              0.7777777777777778,
              "#fb9f3a"
             ],
             [
              0.8888888888888888,
              "#fdca26"
             ],
             [
              1,
              "#f0f921"
             ]
            ],
            "type": "heatmapgl"
           }
          ],
          "histogram": [
           {
            "marker": {
             "colorbar": {
              "outlinewidth": 0,
              "ticks": ""
             }
            },
            "type": "histogram"
           }
          ],
          "histogram2d": [
           {
            "colorbar": {
             "outlinewidth": 0,
             "ticks": ""
            },
            "colorscale": [
             [
              0,
              "#0d0887"
             ],
             [
              0.1111111111111111,
              "#46039f"
             ],
             [
              0.2222222222222222,
              "#7201a8"
             ],
             [
              0.3333333333333333,
              "#9c179e"
             ],
             [
              0.4444444444444444,
              "#bd3786"
             ],
             [
              0.5555555555555556,
              "#d8576b"
             ],
             [
              0.6666666666666666,
              "#ed7953"
             ],
             [
              0.7777777777777778,
              "#fb9f3a"
             ],
             [
              0.8888888888888888,
              "#fdca26"
             ],
             [
              1,
              "#f0f921"
             ]
            ],
            "type": "histogram2d"
           }
          ],
          "histogram2dcontour": [
           {
            "colorbar": {
             "outlinewidth": 0,
             "ticks": ""
            },
            "colorscale": [
             [
              0,
              "#0d0887"
             ],
             [
              0.1111111111111111,
              "#46039f"
             ],
             [
              0.2222222222222222,
              "#7201a8"
             ],
             [
              0.3333333333333333,
              "#9c179e"
             ],
             [
              0.4444444444444444,
              "#bd3786"
             ],
             [
              0.5555555555555556,
              "#d8576b"
             ],
             [
              0.6666666666666666,
              "#ed7953"
             ],
             [
              0.7777777777777778,
              "#fb9f3a"
             ],
             [
              0.8888888888888888,
              "#fdca26"
             ],
             [
              1,
              "#f0f921"
             ]
            ],
            "type": "histogram2dcontour"
           }
          ],
          "mesh3d": [
           {
            "colorbar": {
             "outlinewidth": 0,
             "ticks": ""
            },
            "type": "mesh3d"
           }
          ],
          "parcoords": [
           {
            "line": {
             "colorbar": {
              "outlinewidth": 0,
              "ticks": ""
             }
            },
            "type": "parcoords"
           }
          ],
          "pie": [
           {
            "automargin": true,
            "type": "pie"
           }
          ],
          "scatter": [
           {
            "marker": {
             "colorbar": {
              "outlinewidth": 0,
              "ticks": ""
             }
            },
            "type": "scatter"
           }
          ],
          "scatter3d": [
           {
            "line": {
             "colorbar": {
              "outlinewidth": 0,
              "ticks": ""
             }
            },
            "marker": {
             "colorbar": {
              "outlinewidth": 0,
              "ticks": ""
             }
            },
            "type": "scatter3d"
           }
          ],
          "scattercarpet": [
           {
            "marker": {
             "colorbar": {
              "outlinewidth": 0,
              "ticks": ""
             }
            },
            "type": "scattercarpet"
           }
          ],
          "scattergeo": [
           {
            "marker": {
             "colorbar": {
              "outlinewidth": 0,
              "ticks": ""
             }
            },
            "type": "scattergeo"
           }
          ],
          "scattergl": [
           {
            "marker": {
             "colorbar": {
              "outlinewidth": 0,
              "ticks": ""
             }
            },
            "type": "scattergl"
           }
          ],
          "scattermapbox": [
           {
            "marker": {
             "colorbar": {
              "outlinewidth": 0,
              "ticks": ""
             }
            },
            "type": "scattermapbox"
           }
          ],
          "scatterpolar": [
           {
            "marker": {
             "colorbar": {
              "outlinewidth": 0,
              "ticks": ""
             }
            },
            "type": "scatterpolar"
           }
          ],
          "scatterpolargl": [
           {
            "marker": {
             "colorbar": {
              "outlinewidth": 0,
              "ticks": ""
             }
            },
            "type": "scatterpolargl"
           }
          ],
          "scatterternary": [
           {
            "marker": {
             "colorbar": {
              "outlinewidth": 0,
              "ticks": ""
             }
            },
            "type": "scatterternary"
           }
          ],
          "surface": [
           {
            "colorbar": {
             "outlinewidth": 0,
             "ticks": ""
            },
            "colorscale": [
             [
              0,
              "#0d0887"
             ],
             [
              0.1111111111111111,
              "#46039f"
             ],
             [
              0.2222222222222222,
              "#7201a8"
             ],
             [
              0.3333333333333333,
              "#9c179e"
             ],
             [
              0.4444444444444444,
              "#bd3786"
             ],
             [
              0.5555555555555556,
              "#d8576b"
             ],
             [
              0.6666666666666666,
              "#ed7953"
             ],
             [
              0.7777777777777778,
              "#fb9f3a"
             ],
             [
              0.8888888888888888,
              "#fdca26"
             ],
             [
              1,
              "#f0f921"
             ]
            ],
            "type": "surface"
           }
          ],
          "table": [
           {
            "cells": {
             "fill": {
              "color": "#EBF0F8"
             },
             "line": {
              "color": "white"
             }
            },
            "header": {
             "fill": {
              "color": "#C8D4E3"
             },
             "line": {
              "color": "white"
             }
            },
            "type": "table"
           }
          ]
         },
         "layout": {
          "annotationdefaults": {
           "arrowcolor": "#2a3f5f",
           "arrowhead": 0,
           "arrowwidth": 1
          },
          "coloraxis": {
           "colorbar": {
            "outlinewidth": 0,
            "ticks": ""
           }
          },
          "colorscale": {
           "diverging": [
            [
             0,
             "#8e0152"
            ],
            [
             0.1,
             "#c51b7d"
            ],
            [
             0.2,
             "#de77ae"
            ],
            [
             0.3,
             "#f1b6da"
            ],
            [
             0.4,
             "#fde0ef"
            ],
            [
             0.5,
             "#f7f7f7"
            ],
            [
             0.6,
             "#e6f5d0"
            ],
            [
             0.7,
             "#b8e186"
            ],
            [
             0.8,
             "#7fbc41"
            ],
            [
             0.9,
             "#4d9221"
            ],
            [
             1,
             "#276419"
            ]
           ],
           "sequential": [
            [
             0,
             "#0d0887"
            ],
            [
             0.1111111111111111,
             "#46039f"
            ],
            [
             0.2222222222222222,
             "#7201a8"
            ],
            [
             0.3333333333333333,
             "#9c179e"
            ],
            [
             0.4444444444444444,
             "#bd3786"
            ],
            [
             0.5555555555555556,
             "#d8576b"
            ],
            [
             0.6666666666666666,
             "#ed7953"
            ],
            [
             0.7777777777777778,
             "#fb9f3a"
            ],
            [
             0.8888888888888888,
             "#fdca26"
            ],
            [
             1,
             "#f0f921"
            ]
           ],
           "sequentialminus": [
            [
             0,
             "#0d0887"
            ],
            [
             0.1111111111111111,
             "#46039f"
            ],
            [
             0.2222222222222222,
             "#7201a8"
            ],
            [
             0.3333333333333333,
             "#9c179e"
            ],
            [
             0.4444444444444444,
             "#bd3786"
            ],
            [
             0.5555555555555556,
             "#d8576b"
            ],
            [
             0.6666666666666666,
             "#ed7953"
            ],
            [
             0.7777777777777778,
             "#fb9f3a"
            ],
            [
             0.8888888888888888,
             "#fdca26"
            ],
            [
             1,
             "#f0f921"
            ]
           ]
          },
          "colorway": [
           "#636efa",
           "#EF553B",
           "#00cc96",
           "#ab63fa",
           "#FFA15A",
           "#19d3f3",
           "#FF6692",
           "#B6E880",
           "#FF97FF",
           "#FECB52"
          ],
          "font": {
           "color": "#2a3f5f"
          },
          "geo": {
           "bgcolor": "white",
           "lakecolor": "white",
           "landcolor": "#E5ECF6",
           "showlakes": true,
           "showland": true,
           "subunitcolor": "white"
          },
          "hoverlabel": {
           "align": "left"
          },
          "hovermode": "closest",
          "mapbox": {
           "style": "light"
          },
          "paper_bgcolor": "white",
          "plot_bgcolor": "#E5ECF6",
          "polar": {
           "angularaxis": {
            "gridcolor": "white",
            "linecolor": "white",
            "ticks": ""
           },
           "bgcolor": "#E5ECF6",
           "radialaxis": {
            "gridcolor": "white",
            "linecolor": "white",
            "ticks": ""
           }
          },
          "scene": {
           "xaxis": {
            "backgroundcolor": "#E5ECF6",
            "gridcolor": "white",
            "gridwidth": 2,
            "linecolor": "white",
            "showbackground": true,
            "ticks": "",
            "zerolinecolor": "white"
           },
           "yaxis": {
            "backgroundcolor": "#E5ECF6",
            "gridcolor": "white",
            "gridwidth": 2,
            "linecolor": "white",
            "showbackground": true,
            "ticks": "",
            "zerolinecolor": "white"
           },
           "zaxis": {
            "backgroundcolor": "#E5ECF6",
            "gridcolor": "white",
            "gridwidth": 2,
            "linecolor": "white",
            "showbackground": true,
            "ticks": "",
            "zerolinecolor": "white"
           }
          },
          "shapedefaults": {
           "line": {
            "color": "#2a3f5f"
           }
          },
          "ternary": {
           "aaxis": {
            "gridcolor": "white",
            "linecolor": "white",
            "ticks": ""
           },
           "baxis": {
            "gridcolor": "white",
            "linecolor": "white",
            "ticks": ""
           },
           "bgcolor": "#E5ECF6",
           "caxis": {
            "gridcolor": "white",
            "linecolor": "white",
            "ticks": ""
           }
          },
          "title": {
           "x": 0.05
          },
          "xaxis": {
           "automargin": true,
           "gridcolor": "white",
           "linecolor": "white",
           "ticks": "",
           "title": {
            "standoff": 15
           },
           "zerolinecolor": "white",
           "zerolinewidth": 2
          },
          "yaxis": {
           "automargin": true,
           "gridcolor": "white",
           "linecolor": "white",
           "ticks": "",
           "title": {
            "standoff": 15
           },
           "zerolinecolor": "white",
           "zerolinewidth": 2
          }
         }
        }
       }
      }
     },
     "metadata": {}
    }
   ],
   "source": [
    "fig = px.scatter_geo(new_df, locations='Alpha-3_code', hover_name='Country')\n",
    "fig.show()"
   ]
  },
  {
   "cell_type": "code",
   "execution_count": 1,
   "metadata": {},
   "outputs": [],
   "source": [
    "######Code to see what viz can be done\n",
    "\n",
    "import pandas as pd\n",
    "import numpy as np\n",
    "import tweepy\n",
    "\n",
    "# The auth methods\n",
    "auth = tweepy.OAuthHandler('PwIx3tXnoN6LNEjHMWtn2b7s2', '8vr859bsLSRyiijzMvFaACYqxnYNdLhcwTWhKEUPSrRSnrQziU')\n",
    "auth.set_access_token('150554502-Svlt33TXWClnGYpJ5G01SfVUYhXcEvXCaIfQW8nW', 'eiKA07ylhb5Y5dWWXTaRU09H39N8rVZMFQTOmNjD081n5')\n",
    "\n",
    "api = tweepy.API(auth)\n"
   ]
  },
  {
   "cell_type": "code",
   "execution_count": 5,
   "metadata": {
    "tags": [
     "outputPrepend"
    ]
   },
   "outputs": [],
   "source": [
    "import json\n",
    "hashtag_phrase=\"#Covid19\"\n",
    "tweet_string=[]\n",
    "\n",
    "for tweet in tweepy.Cursor(api.search, q=hashtag_phrase+' -filter:retweets', lang=\"en\", tweet_mode='extended').items(10):\n",
    "    tweet_string.append(tweet.full_text)"
   ]
  },
  {
   "cell_type": "code",
   "execution_count": 8,
   "metadata": {},
   "outputs": [
    {
     "output_type": "stream",
     "name": "stdout",
     "text": "Calling all #voluntary and #community sector organisations in #Kingston. Please take 5 mins to fill out our access to food survey  to help us understand how to support people in Kingston to have access to good food during #Covid19 https://t.co/IqVW47SHUC\n"
    }
   ],
   "source": [
    "print(tweet_string[5])"
   ]
  },
  {
   "cell_type": "code",
   "execution_count": 3,
   "metadata": {},
   "outputs": [],
   "source": [
    "import pandas as pd\n",
    "import numpy as np\n",
    "import tweepy\n",
    "\n",
    "# The auth methods\n",
    "auth = tweepy.OAuthHandler('PwIx3tXnoN6LNEjHMWtn2b7s2', '8vr859bsLSRyiijzMvFaACYqxnYNdLhcwTWhKEUPSrRSnrQziU')\n",
    "auth.set_access_token('150554502-Svlt33TXWClnGYpJ5G01SfVUYhXcEvXCaIfQW8nW', 'eiKA07ylhb5Y5dWWXTaRU09H39N8rVZMFQTOmNjD081n5')\n",
    "api = tweepy.API(auth)"
   ]
  },
  {
   "cell_type": "code",
   "execution_count": 4,
   "metadata": {},
   "outputs": [],
   "source": [
    "screen_name='realDonaldTrump'\n",
    "tweet_object = api.user_timeline(screen_name = screen_name,tweet_mode='extended')"
   ]
  },
  {
   "cell_type": "code",
   "execution_count": 5,
   "metadata": {},
   "outputs": [
    {
     "output_type": "error",
     "ename": "AttributeError",
     "evalue": "'Status' object has no attribute 'text'",
     "traceback": [
      "\u001b[0;31m---------------------------------------------------------------------------\u001b[0m",
      "\u001b[0;31mAttributeError\u001b[0m                            Traceback (most recent call last)",
      "\u001b[0;32m<ipython-input-5-76896e67ae5a>\u001b[0m in \u001b[0;36m<module>\u001b[0;34m\u001b[0m\n\u001b[1;32m      2\u001b[0m \u001b[0;32mfor\u001b[0m \u001b[0mtweet\u001b[0m \u001b[0;32min\u001b[0m \u001b[0mtweet_object\u001b[0m\u001b[0;34m:\u001b[0m\u001b[0;34m\u001b[0m\u001b[0;34m\u001b[0m\u001b[0m\n\u001b[1;32m      3\u001b[0m    \u001b[0mtweet_id\u001b[0m \u001b[0;34m=\u001b[0m \u001b[0mtweet\u001b[0m\u001b[0;34m.\u001b[0m\u001b[0mid\u001b[0m \u001b[0;31m# unique integer identifier for tweet\u001b[0m\u001b[0;34m\u001b[0m\u001b[0;34m\u001b[0m\u001b[0m\n\u001b[0;32m----> 4\u001b[0;31m    \u001b[0mtext\u001b[0m \u001b[0;34m=\u001b[0m \u001b[0mtweet\u001b[0m\u001b[0;34m.\u001b[0m\u001b[0mtext\u001b[0m \u001b[0;31m# utf-8 text of tweet\u001b[0m\u001b[0;34m\u001b[0m\u001b[0;34m\u001b[0m\u001b[0m\n\u001b[0m\u001b[1;32m      5\u001b[0m    \u001b[0mfavorite_count\u001b[0m \u001b[0;34m=\u001b[0m \u001b[0mtweet\u001b[0m\u001b[0;34m.\u001b[0m\u001b[0mfavorite_count\u001b[0m\u001b[0;34m\u001b[0m\u001b[0;34m\u001b[0m\u001b[0m\n\u001b[1;32m      6\u001b[0m    \u001b[0mretweet_count\u001b[0m \u001b[0;34m=\u001b[0m \u001b[0mtweet\u001b[0m\u001b[0;34m.\u001b[0m\u001b[0mretweet_count\u001b[0m\u001b[0;34m\u001b[0m\u001b[0;34m\u001b[0m\u001b[0m\n",
      "\u001b[0;31mAttributeError\u001b[0m: 'Status' object has no attribute 'text'"
     ]
    }
   ],
   "source": [
    "tweet_list=[]\n",
    "for tweet in tweet_object:    \n",
    "   tweet_id = tweet.id # unique integer identifier for tweet\n",
    "   text = tweet.text # utf-8 text of tweet\n",
    "   favorite_count = tweet.favorite_count\n",
    "   retweet_count = tweet.retweet_count\n",
    "   created_at = tweet.created_at # utc time tweet created\n",
    "   source = tweet.source # utility used to post tweet\n",
    "   reply_to_status = tweet.in_reply_to_status_id # if reply int of orginal tweet id\n",
    "   reply_to_user = tweet.in_reply_to_screen_name # if reply original tweetes screenname\n",
    "   retweets = tweet.retweet_count # number of times this tweet retweeted\n",
    "   favorites = tweet.favorite_count # number of time this tweet liked\n",
    "   # append attributes to list\n",
    "   tweet_list.append({'tweet_id':tweet_id, 'text':text, 'favorite_count':favorite_count,'retweet_count':retweet_count, 'created_at':created_at, 'source':source,                                        'reply_to_status':reply_to_status, 'reply_to_user':reply_to_user, 'retweets':retweets, 'favorites':favorites})"
   ]
  },
  {
   "cell_type": "code",
   "execution_count": 6,
   "metadata": {},
   "outputs": [],
   "source": [
    "tweet_list=[]\n",
    "\n",
    "for tweet in tweepy.Cursor(api.user_timeline, screen_name='realDonaldTrump', tweet_mode=\"extended\").items(500):\n",
    "    text = tweet.full_text\n",
    "    favorite_count = tweet.favorite_count\n",
    "    retweet_count = tweet.retweet_count\n",
    "    created_at = tweet.created_at\n",
    "    retweets = tweet.retweet_count\n",
    "    favorites = tweet.favorite_count\n",
    "    source = tweet.source\n",
    "    tweet_list.append({'text':text, 'favorite_count':favorite_count,'retweet_count':retweet_count, 'created_at':created_at, 'source':source,                                          'retweets':retweets, 'favorites':favorites})\n",
    "    "
   ]
  },
  {
   "cell_type": "code",
   "execution_count": 7,
   "metadata": {},
   "outputs": [],
   "source": [
    "tweet_data_frame = pd.DataFrame(tweet_list, columns=['Tweet',\n",
    "                                            'Favorite_count',\n",
    "                                            'Retweet_count',\n",
    "                                            'Created_at',\n",
    "                                            'Source',                                            \n",
    "                                            'Retweets',\n",
    "                                            'Favorites'])\n"
   ]
  },
  {
   "cell_type": "code",
   "execution_count": 8,
   "metadata": {},
   "outputs": [],
   "source": [
    "tweet_data_frame = pd.DataFrame(tweet_list)"
   ]
  },
  {
   "cell_type": "code",
   "execution_count": 9,
   "metadata": {},
   "outputs": [],
   "source": [
    "tweet_data_frame.to_csv('tweets_rough.csv')"
   ]
  },
  {
   "cell_type": "code",
   "execution_count": 10,
   "metadata": {},
   "outputs": [
    {
     "output_type": "execute_result",
     "data": {
      "text/plain": "                                                  text  favorite_count  \\\n0    96% Approval Rating in the Republican Party. T...           47885   \n1    There is tremendous CoronaVirus testing capaci...           25323   \n2                              https://t.co/UIazMAipNa           38472   \n3    RT @LouDobbs: Stunning Silence: @KimStrassel s...               0   \n4    RT @KimStrassel: The FBI knew Michael Flynn wa...               0   \n..                                                 ...             ...   \n495  Tell the Democrat Governors that “Mutiny On Th...          161838   \n496  GET RID OF BALLOT HARVESTING, IT IS RAMPANT WI...          286382   \n497  Cuomo’s been calling daily, even hourly, beggi...          197005   \n498  The Democrats don’t want to approve more money...          131851   \n499                            https://t.co/DRVhpMCuAx           80839   \n\n     retweet_count          created_at                source  retweets  \\\n0             9174 2020-05-02 13:17:42    Twitter for iPhone      9174   \n1             6934 2020-05-02 13:06:53    Twitter for iPhone      6934   \n2            10288 2020-05-02 03:42:15    Twitter for iPhone     10288   \n3            11991 2020-05-01 23:38:59    Twitter for iPhone     11991   \n4            13415 2020-05-01 23:38:19    Twitter for iPhone     13415   \n..             ...                 ...                   ...       ...   \n495          37871 2020-04-14 14:57:19    Twitter for iPhone     37871   \n496          68857 2020-04-14 14:24:51    Twitter for iPhone     68857   \n497          37977 2020-04-14 14:07:11    Twitter for iPhone     37977   \n498          31609 2020-04-14 13:40:12    Twitter for iPhone     31609   \n499          23447 2020-04-14 02:33:12  Twitter Media Studio     23447   \n\n     favorites  \n0        47885  \n1        25323  \n2        38472  \n3            0  \n4            0  \n..         ...  \n495     161838  \n496     286382  \n497     197005  \n498     131851  \n499      80839  \n\n[500 rows x 7 columns]",
      "text/html": "<div>\n<style scoped>\n    .dataframe tbody tr th:only-of-type {\n        vertical-align: middle;\n    }\n\n    .dataframe tbody tr th {\n        vertical-align: top;\n    }\n\n    .dataframe thead th {\n        text-align: right;\n    }\n</style>\n<table border=\"1\" class=\"dataframe\">\n  <thead>\n    <tr style=\"text-align: right;\">\n      <th></th>\n      <th>text</th>\n      <th>favorite_count</th>\n      <th>retweet_count</th>\n      <th>created_at</th>\n      <th>source</th>\n      <th>retweets</th>\n      <th>favorites</th>\n    </tr>\n  </thead>\n  <tbody>\n    <tr>\n      <td>0</td>\n      <td>96% Approval Rating in the Republican Party. T...</td>\n      <td>47885</td>\n      <td>9174</td>\n      <td>2020-05-02 13:17:42</td>\n      <td>Twitter for iPhone</td>\n      <td>9174</td>\n      <td>47885</td>\n    </tr>\n    <tr>\n      <td>1</td>\n      <td>There is tremendous CoronaVirus testing capaci...</td>\n      <td>25323</td>\n      <td>6934</td>\n      <td>2020-05-02 13:06:53</td>\n      <td>Twitter for iPhone</td>\n      <td>6934</td>\n      <td>25323</td>\n    </tr>\n    <tr>\n      <td>2</td>\n      <td>https://t.co/UIazMAipNa</td>\n      <td>38472</td>\n      <td>10288</td>\n      <td>2020-05-02 03:42:15</td>\n      <td>Twitter for iPhone</td>\n      <td>10288</td>\n      <td>38472</td>\n    </tr>\n    <tr>\n      <td>3</td>\n      <td>RT @LouDobbs: Stunning Silence: @KimStrassel s...</td>\n      <td>0</td>\n      <td>11991</td>\n      <td>2020-05-01 23:38:59</td>\n      <td>Twitter for iPhone</td>\n      <td>11991</td>\n      <td>0</td>\n    </tr>\n    <tr>\n      <td>4</td>\n      <td>RT @KimStrassel: The FBI knew Michael Flynn wa...</td>\n      <td>0</td>\n      <td>13415</td>\n      <td>2020-05-01 23:38:19</td>\n      <td>Twitter for iPhone</td>\n      <td>13415</td>\n      <td>0</td>\n    </tr>\n    <tr>\n      <td>...</td>\n      <td>...</td>\n      <td>...</td>\n      <td>...</td>\n      <td>...</td>\n      <td>...</td>\n      <td>...</td>\n      <td>...</td>\n    </tr>\n    <tr>\n      <td>495</td>\n      <td>Tell the Democrat Governors that “Mutiny On Th...</td>\n      <td>161838</td>\n      <td>37871</td>\n      <td>2020-04-14 14:57:19</td>\n      <td>Twitter for iPhone</td>\n      <td>37871</td>\n      <td>161838</td>\n    </tr>\n    <tr>\n      <td>496</td>\n      <td>GET RID OF BALLOT HARVESTING, IT IS RAMPANT WI...</td>\n      <td>286382</td>\n      <td>68857</td>\n      <td>2020-04-14 14:24:51</td>\n      <td>Twitter for iPhone</td>\n      <td>68857</td>\n      <td>286382</td>\n    </tr>\n    <tr>\n      <td>497</td>\n      <td>Cuomo’s been calling daily, even hourly, beggi...</td>\n      <td>197005</td>\n      <td>37977</td>\n      <td>2020-04-14 14:07:11</td>\n      <td>Twitter for iPhone</td>\n      <td>37977</td>\n      <td>197005</td>\n    </tr>\n    <tr>\n      <td>498</td>\n      <td>The Democrats don’t want to approve more money...</td>\n      <td>131851</td>\n      <td>31609</td>\n      <td>2020-04-14 13:40:12</td>\n      <td>Twitter for iPhone</td>\n      <td>31609</td>\n      <td>131851</td>\n    </tr>\n    <tr>\n      <td>499</td>\n      <td>https://t.co/DRVhpMCuAx</td>\n      <td>80839</td>\n      <td>23447</td>\n      <td>2020-04-14 02:33:12</td>\n      <td>Twitter Media Studio</td>\n      <td>23447</td>\n      <td>80839</td>\n    </tr>\n  </tbody>\n</table>\n<p>500 rows × 7 columns</p>\n</div>"
     },
     "metadata": {},
     "execution_count": 10
    }
   ],
   "source": [
    "tweet_data_frame"
   ]
  },
  {
   "cell_type": "code",
   "execution_count": 6,
   "metadata": {},
   "outputs": [
    {
     "output_type": "display_data",
     "data": {
      "application/vnd.plotly.v1+json": {
       "config": {
        "plotlyServerURL": "https://plot.ly"
       },
       "data": [
        {
         "hoverongaps": false,
         "type": "heatmap",
         "x": [
          "Monday",
          "Tuesday",
          "Wednesday",
          "Thursday",
          "Friday"
         ],
         "y": [
          "Morning",
          "Afternoon",
          "Evening"
         ],
         "z": [
          [
           1,
           null,
           30,
           50,
           1
          ],
          [
           20,
           1,
           60,
           80,
           30
          ],
          [
           30,
           60,
           1,
           -10,
           20
          ]
         ]
        }
       ],
       "layout": {
        "template": {
         "data": {
          "bar": [
           {
            "error_x": {
             "color": "#2a3f5f"
            },
            "error_y": {
             "color": "#2a3f5f"
            },
            "marker": {
             "line": {
              "color": "#E5ECF6",
              "width": 0.5
             }
            },
            "type": "bar"
           }
          ],
          "barpolar": [
           {
            "marker": {
             "line": {
              "color": "#E5ECF6",
              "width": 0.5
             }
            },
            "type": "barpolar"
           }
          ],
          "carpet": [
           {
            "aaxis": {
             "endlinecolor": "#2a3f5f",
             "gridcolor": "white",
             "linecolor": "white",
             "minorgridcolor": "white",
             "startlinecolor": "#2a3f5f"
            },
            "baxis": {
             "endlinecolor": "#2a3f5f",
             "gridcolor": "white",
             "linecolor": "white",
             "minorgridcolor": "white",
             "startlinecolor": "#2a3f5f"
            },
            "type": "carpet"
           }
          ],
          "choropleth": [
           {
            "colorbar": {
             "outlinewidth": 0,
             "ticks": ""
            },
            "type": "choropleth"
           }
          ],
          "contour": [
           {
            "colorbar": {
             "outlinewidth": 0,
             "ticks": ""
            },
            "colorscale": [
             [
              0,
              "#0d0887"
             ],
             [
              0.1111111111111111,
              "#46039f"
             ],
             [
              0.2222222222222222,
              "#7201a8"
             ],
             [
              0.3333333333333333,
              "#9c179e"
             ],
             [
              0.4444444444444444,
              "#bd3786"
             ],
             [
              0.5555555555555556,
              "#d8576b"
             ],
             [
              0.6666666666666666,
              "#ed7953"
             ],
             [
              0.7777777777777778,
              "#fb9f3a"
             ],
             [
              0.8888888888888888,
              "#fdca26"
             ],
             [
              1,
              "#f0f921"
             ]
            ],
            "type": "contour"
           }
          ],
          "contourcarpet": [
           {
            "colorbar": {
             "outlinewidth": 0,
             "ticks": ""
            },
            "type": "contourcarpet"
           }
          ],
          "heatmap": [
           {
            "colorbar": {
             "outlinewidth": 0,
             "ticks": ""
            },
            "colorscale": [
             [
              0,
              "#0d0887"
             ],
             [
              0.1111111111111111,
              "#46039f"
             ],
             [
              0.2222222222222222,
              "#7201a8"
             ],
             [
              0.3333333333333333,
              "#9c179e"
             ],
             [
              0.4444444444444444,
              "#bd3786"
             ],
             [
              0.5555555555555556,
              "#d8576b"
             ],
             [
              0.6666666666666666,
              "#ed7953"
             ],
             [
              0.7777777777777778,
              "#fb9f3a"
             ],
             [
              0.8888888888888888,
              "#fdca26"
             ],
             [
              1,
              "#f0f921"
             ]
            ],
            "type": "heatmap"
           }
          ],
          "heatmapgl": [
           {
            "colorbar": {
             "outlinewidth": 0,
             "ticks": ""
            },
            "colorscale": [
             [
              0,
              "#0d0887"
             ],
             [
              0.1111111111111111,
              "#46039f"
             ],
             [
              0.2222222222222222,
              "#7201a8"
             ],
             [
              0.3333333333333333,
              "#9c179e"
             ],
             [
              0.4444444444444444,
              "#bd3786"
             ],
             [
              0.5555555555555556,
              "#d8576b"
             ],
             [
              0.6666666666666666,
              "#ed7953"
             ],
             [
              0.7777777777777778,
              "#fb9f3a"
             ],
             [
              0.8888888888888888,
              "#fdca26"
             ],
             [
              1,
              "#f0f921"
             ]
            ],
            "type": "heatmapgl"
           }
          ],
          "histogram": [
           {
            "marker": {
             "colorbar": {
              "outlinewidth": 0,
              "ticks": ""
             }
            },
            "type": "histogram"
           }
          ],
          "histogram2d": [
           {
            "colorbar": {
             "outlinewidth": 0,
             "ticks": ""
            },
            "colorscale": [
             [
              0,
              "#0d0887"
             ],
             [
              0.1111111111111111,
              "#46039f"
             ],
             [
              0.2222222222222222,
              "#7201a8"
             ],
             [
              0.3333333333333333,
              "#9c179e"
             ],
             [
              0.4444444444444444,
              "#bd3786"
             ],
             [
              0.5555555555555556,
              "#d8576b"
             ],
             [
              0.6666666666666666,
              "#ed7953"
             ],
             [
              0.7777777777777778,
              "#fb9f3a"
             ],
             [
              0.8888888888888888,
              "#fdca26"
             ],
             [
              1,
              "#f0f921"
             ]
            ],
            "type": "histogram2d"
           }
          ],
          "histogram2dcontour": [
           {
            "colorbar": {
             "outlinewidth": 0,
             "ticks": ""
            },
            "colorscale": [
             [
              0,
              "#0d0887"
             ],
             [
              0.1111111111111111,
              "#46039f"
             ],
             [
              0.2222222222222222,
              "#7201a8"
             ],
             [
              0.3333333333333333,
              "#9c179e"
             ],
             [
              0.4444444444444444,
              "#bd3786"
             ],
             [
              0.5555555555555556,
              "#d8576b"
             ],
             [
              0.6666666666666666,
              "#ed7953"
             ],
             [
              0.7777777777777778,
              "#fb9f3a"
             ],
             [
              0.8888888888888888,
              "#fdca26"
             ],
             [
              1,
              "#f0f921"
             ]
            ],
            "type": "histogram2dcontour"
           }
          ],
          "mesh3d": [
           {
            "colorbar": {
             "outlinewidth": 0,
             "ticks": ""
            },
            "type": "mesh3d"
           }
          ],
          "parcoords": [
           {
            "line": {
             "colorbar": {
              "outlinewidth": 0,
              "ticks": ""
             }
            },
            "type": "parcoords"
           }
          ],
          "pie": [
           {
            "automargin": true,
            "type": "pie"
           }
          ],
          "scatter": [
           {
            "marker": {
             "colorbar": {
              "outlinewidth": 0,
              "ticks": ""
             }
            },
            "type": "scatter"
           }
          ],
          "scatter3d": [
           {
            "line": {
             "colorbar": {
              "outlinewidth": 0,
              "ticks": ""
             }
            },
            "marker": {
             "colorbar": {
              "outlinewidth": 0,
              "ticks": ""
             }
            },
            "type": "scatter3d"
           }
          ],
          "scattercarpet": [
           {
            "marker": {
             "colorbar": {
              "outlinewidth": 0,
              "ticks": ""
             }
            },
            "type": "scattercarpet"
           }
          ],
          "scattergeo": [
           {
            "marker": {
             "colorbar": {
              "outlinewidth": 0,
              "ticks": ""
             }
            },
            "type": "scattergeo"
           }
          ],
          "scattergl": [
           {
            "marker": {
             "colorbar": {
              "outlinewidth": 0,
              "ticks": ""
             }
            },
            "type": "scattergl"
           }
          ],
          "scattermapbox": [
           {
            "marker": {
             "colorbar": {
              "outlinewidth": 0,
              "ticks": ""
             }
            },
            "type": "scattermapbox"
           }
          ],
          "scatterpolar": [
           {
            "marker": {
             "colorbar": {
              "outlinewidth": 0,
              "ticks": ""
             }
            },
            "type": "scatterpolar"
           }
          ],
          "scatterpolargl": [
           {
            "marker": {
             "colorbar": {
              "outlinewidth": 0,
              "ticks": ""
             }
            },
            "type": "scatterpolargl"
           }
          ],
          "scatterternary": [
           {
            "marker": {
             "colorbar": {
              "outlinewidth": 0,
              "ticks": ""
             }
            },
            "type": "scatterternary"
           }
          ],
          "surface": [
           {
            "colorbar": {
             "outlinewidth": 0,
             "ticks": ""
            },
            "colorscale": [
             [
              0,
              "#0d0887"
             ],
             [
              0.1111111111111111,
              "#46039f"
             ],
             [
              0.2222222222222222,
              "#7201a8"
             ],
             [
              0.3333333333333333,
              "#9c179e"
             ],
             [
              0.4444444444444444,
              "#bd3786"
             ],
             [
              0.5555555555555556,
              "#d8576b"
             ],
             [
              0.6666666666666666,
              "#ed7953"
             ],
             [
              0.7777777777777778,
              "#fb9f3a"
             ],
             [
              0.8888888888888888,
              "#fdca26"
             ],
             [
              1,
              "#f0f921"
             ]
            ],
            "type": "surface"
           }
          ],
          "table": [
           {
            "cells": {
             "fill": {
              "color": "#EBF0F8"
             },
             "line": {
              "color": "white"
             }
            },
            "header": {
             "fill": {
              "color": "#C8D4E3"
             },
             "line": {
              "color": "white"
             }
            },
            "type": "table"
           }
          ]
         },
         "layout": {
          "annotationdefaults": {
           "arrowcolor": "#2a3f5f",
           "arrowhead": 0,
           "arrowwidth": 1
          },
          "coloraxis": {
           "colorbar": {
            "outlinewidth": 0,
            "ticks": ""
           }
          },
          "colorscale": {
           "diverging": [
            [
             0,
             "#8e0152"
            ],
            [
             0.1,
             "#c51b7d"
            ],
            [
             0.2,
             "#de77ae"
            ],
            [
             0.3,
             "#f1b6da"
            ],
            [
             0.4,
             "#fde0ef"
            ],
            [
             0.5,
             "#f7f7f7"
            ],
            [
             0.6,
             "#e6f5d0"
            ],
            [
             0.7,
             "#b8e186"
            ],
            [
             0.8,
             "#7fbc41"
            ],
            [
             0.9,
             "#4d9221"
            ],
            [
             1,
             "#276419"
            ]
           ],
           "sequential": [
            [
             0,
             "#0d0887"
            ],
            [
             0.1111111111111111,
             "#46039f"
            ],
            [
             0.2222222222222222,
             "#7201a8"
            ],
            [
             0.3333333333333333,
             "#9c179e"
            ],
            [
             0.4444444444444444,
             "#bd3786"
            ],
            [
             0.5555555555555556,
             "#d8576b"
            ],
            [
             0.6666666666666666,
             "#ed7953"
            ],
            [
             0.7777777777777778,
             "#fb9f3a"
            ],
            [
             0.8888888888888888,
             "#fdca26"
            ],
            [
             1,
             "#f0f921"
            ]
           ],
           "sequentialminus": [
            [
             0,
             "#0d0887"
            ],
            [
             0.1111111111111111,
             "#46039f"
            ],
            [
             0.2222222222222222,
             "#7201a8"
            ],
            [
             0.3333333333333333,
             "#9c179e"
            ],
            [
             0.4444444444444444,
             "#bd3786"
            ],
            [
             0.5555555555555556,
             "#d8576b"
            ],
            [
             0.6666666666666666,
             "#ed7953"
            ],
            [
             0.7777777777777778,
             "#fb9f3a"
            ],
            [
             0.8888888888888888,
             "#fdca26"
            ],
            [
             1,
             "#f0f921"
            ]
           ]
          },
          "colorway": [
           "#636efa",
           "#EF553B",
           "#00cc96",
           "#ab63fa",
           "#FFA15A",
           "#19d3f3",
           "#FF6692",
           "#B6E880",
           "#FF97FF",
           "#FECB52"
          ],
          "font": {
           "color": "#2a3f5f"
          },
          "geo": {
           "bgcolor": "white",
           "lakecolor": "white",
           "landcolor": "#E5ECF6",
           "showlakes": true,
           "showland": true,
           "subunitcolor": "white"
          },
          "hoverlabel": {
           "align": "left"
          },
          "hovermode": "closest",
          "mapbox": {
           "style": "light"
          },
          "paper_bgcolor": "white",
          "plot_bgcolor": "#E5ECF6",
          "polar": {
           "angularaxis": {
            "gridcolor": "white",
            "linecolor": "white",
            "ticks": ""
           },
           "bgcolor": "#E5ECF6",
           "radialaxis": {
            "gridcolor": "white",
            "linecolor": "white",
            "ticks": ""
           }
          },
          "scene": {
           "xaxis": {
            "backgroundcolor": "#E5ECF6",
            "gridcolor": "white",
            "gridwidth": 2,
            "linecolor": "white",
            "showbackground": true,
            "ticks": "",
            "zerolinecolor": "white"
           },
           "yaxis": {
            "backgroundcolor": "#E5ECF6",
            "gridcolor": "white",
            "gridwidth": 2,
            "linecolor": "white",
            "showbackground": true,
            "ticks": "",
            "zerolinecolor": "white"
           },
           "zaxis": {
            "backgroundcolor": "#E5ECF6",
            "gridcolor": "white",
            "gridwidth": 2,
            "linecolor": "white",
            "showbackground": true,
            "ticks": "",
            "zerolinecolor": "white"
           }
          },
          "shapedefaults": {
           "line": {
            "color": "#2a3f5f"
           }
          },
          "ternary": {
           "aaxis": {
            "gridcolor": "white",
            "linecolor": "white",
            "ticks": ""
           },
           "baxis": {
            "gridcolor": "white",
            "linecolor": "white",
            "ticks": ""
           },
           "bgcolor": "#E5ECF6",
           "caxis": {
            "gridcolor": "white",
            "linecolor": "white",
            "ticks": ""
           }
          },
          "title": {
           "x": 0.05
          },
          "xaxis": {
           "automargin": true,
           "gridcolor": "white",
           "linecolor": "white",
           "ticks": "",
           "title": {
            "standoff": 15
           },
           "zerolinecolor": "white",
           "zerolinewidth": 2
          },
          "yaxis": {
           "automargin": true,
           "gridcolor": "white",
           "linecolor": "white",
           "ticks": "",
           "title": {
            "standoff": 15
           },
           "zerolinecolor": "white",
           "zerolinewidth": 2
          }
         }
        }
       }
      }
     },
     "metadata": {}
    }
   ],
   "source": [
    "import plotly.graph_objects as go\n",
    "\n",
    "fig = go.Figure(data=go.Heatmap(\n",
    "                   z=[[1, None, 30, 50, 1], [20, 1, 60, 80, 30], [30, 60, 1, -10, 20]],\n",
    "                   x=['Monday', 'Tuesday', 'Wednesday', 'Thursday', 'Friday'],\n",
    "                   y=['Morning', 'Afternoon', 'Evening'],\n",
    "                   hoverongaps = False))\n",
    "fig.show()"
   ]
  },
  {
   "cell_type": "code",
   "execution_count": 11,
   "metadata": {},
   "outputs": [],
   "source": [
    "new_data = pd.read_csv('tweets_rough.csv')"
   ]
  },
  {
   "cell_type": "code",
   "execution_count": 12,
   "metadata": {},
   "outputs": [
    {
     "output_type": "execute_result",
     "data": {
      "text/plain": "     Unnamed: 0                                               text  \\\n0             0  96% Approval Rating in the Republican Party. T...   \n1             1  There is tremendous CoronaVirus testing capaci...   \n2             2                            https://t.co/UIazMAipNa   \n3             3  RT @LouDobbs: Stunning Silence: @KimStrassel s...   \n4             4  RT @KimStrassel: The FBI knew Michael Flynn wa...   \n..          ...                                                ...   \n495         495  Tell the Democrat Governors that “Mutiny On Th...   \n496         496  GET RID OF BALLOT HARVESTING, IT IS RAMPANT WI...   \n497         497  Cuomo’s been calling daily, even hourly, beggi...   \n498         498  The Democrats don’t want to approve more money...   \n499         499                            https://t.co/DRVhpMCuAx   \n\n     favorite_count  retweet_count           created_at                source  \\\n0             47885           9174  2020-05-02 13:17:42    Twitter for iPhone   \n1             25323           6934  2020-05-02 13:06:53    Twitter for iPhone   \n2             38472          10288  2020-05-02 03:42:15    Twitter for iPhone   \n3                 0          11991  2020-05-01 23:38:59    Twitter for iPhone   \n4                 0          13415  2020-05-01 23:38:19    Twitter for iPhone   \n..              ...            ...                  ...                   ...   \n495          161838          37871  2020-04-14 14:57:19    Twitter for iPhone   \n496          286382          68857  2020-04-14 14:24:51    Twitter for iPhone   \n497          197005          37977  2020-04-14 14:07:11    Twitter for iPhone   \n498          131851          31609  2020-04-14 13:40:12    Twitter for iPhone   \n499           80839          23447  2020-04-14 02:33:12  Twitter Media Studio   \n\n     retweets  favorites  \n0        9174      47885  \n1        6934      25323  \n2       10288      38472  \n3       11991          0  \n4       13415          0  \n..        ...        ...  \n495     37871     161838  \n496     68857     286382  \n497     37977     197005  \n498     31609     131851  \n499     23447      80839  \n\n[500 rows x 8 columns]",
      "text/html": "<div>\n<style scoped>\n    .dataframe tbody tr th:only-of-type {\n        vertical-align: middle;\n    }\n\n    .dataframe tbody tr th {\n        vertical-align: top;\n    }\n\n    .dataframe thead th {\n        text-align: right;\n    }\n</style>\n<table border=\"1\" class=\"dataframe\">\n  <thead>\n    <tr style=\"text-align: right;\">\n      <th></th>\n      <th>Unnamed: 0</th>\n      <th>text</th>\n      <th>favorite_count</th>\n      <th>retweet_count</th>\n      <th>created_at</th>\n      <th>source</th>\n      <th>retweets</th>\n      <th>favorites</th>\n    </tr>\n  </thead>\n  <tbody>\n    <tr>\n      <td>0</td>\n      <td>0</td>\n      <td>96% Approval Rating in the Republican Party. T...</td>\n      <td>47885</td>\n      <td>9174</td>\n      <td>2020-05-02 13:17:42</td>\n      <td>Twitter for iPhone</td>\n      <td>9174</td>\n      <td>47885</td>\n    </tr>\n    <tr>\n      <td>1</td>\n      <td>1</td>\n      <td>There is tremendous CoronaVirus testing capaci...</td>\n      <td>25323</td>\n      <td>6934</td>\n      <td>2020-05-02 13:06:53</td>\n      <td>Twitter for iPhone</td>\n      <td>6934</td>\n      <td>25323</td>\n    </tr>\n    <tr>\n      <td>2</td>\n      <td>2</td>\n      <td>https://t.co/UIazMAipNa</td>\n      <td>38472</td>\n      <td>10288</td>\n      <td>2020-05-02 03:42:15</td>\n      <td>Twitter for iPhone</td>\n      <td>10288</td>\n      <td>38472</td>\n    </tr>\n    <tr>\n      <td>3</td>\n      <td>3</td>\n      <td>RT @LouDobbs: Stunning Silence: @KimStrassel s...</td>\n      <td>0</td>\n      <td>11991</td>\n      <td>2020-05-01 23:38:59</td>\n      <td>Twitter for iPhone</td>\n      <td>11991</td>\n      <td>0</td>\n    </tr>\n    <tr>\n      <td>4</td>\n      <td>4</td>\n      <td>RT @KimStrassel: The FBI knew Michael Flynn wa...</td>\n      <td>0</td>\n      <td>13415</td>\n      <td>2020-05-01 23:38:19</td>\n      <td>Twitter for iPhone</td>\n      <td>13415</td>\n      <td>0</td>\n    </tr>\n    <tr>\n      <td>...</td>\n      <td>...</td>\n      <td>...</td>\n      <td>...</td>\n      <td>...</td>\n      <td>...</td>\n      <td>...</td>\n      <td>...</td>\n      <td>...</td>\n    </tr>\n    <tr>\n      <td>495</td>\n      <td>495</td>\n      <td>Tell the Democrat Governors that “Mutiny On Th...</td>\n      <td>161838</td>\n      <td>37871</td>\n      <td>2020-04-14 14:57:19</td>\n      <td>Twitter for iPhone</td>\n      <td>37871</td>\n      <td>161838</td>\n    </tr>\n    <tr>\n      <td>496</td>\n      <td>496</td>\n      <td>GET RID OF BALLOT HARVESTING, IT IS RAMPANT WI...</td>\n      <td>286382</td>\n      <td>68857</td>\n      <td>2020-04-14 14:24:51</td>\n      <td>Twitter for iPhone</td>\n      <td>68857</td>\n      <td>286382</td>\n    </tr>\n    <tr>\n      <td>497</td>\n      <td>497</td>\n      <td>Cuomo’s been calling daily, even hourly, beggi...</td>\n      <td>197005</td>\n      <td>37977</td>\n      <td>2020-04-14 14:07:11</td>\n      <td>Twitter for iPhone</td>\n      <td>37977</td>\n      <td>197005</td>\n    </tr>\n    <tr>\n      <td>498</td>\n      <td>498</td>\n      <td>The Democrats don’t want to approve more money...</td>\n      <td>131851</td>\n      <td>31609</td>\n      <td>2020-04-14 13:40:12</td>\n      <td>Twitter for iPhone</td>\n      <td>31609</td>\n      <td>131851</td>\n    </tr>\n    <tr>\n      <td>499</td>\n      <td>499</td>\n      <td>https://t.co/DRVhpMCuAx</td>\n      <td>80839</td>\n      <td>23447</td>\n      <td>2020-04-14 02:33:12</td>\n      <td>Twitter Media Studio</td>\n      <td>23447</td>\n      <td>80839</td>\n    </tr>\n  </tbody>\n</table>\n<p>500 rows × 8 columns</p>\n</div>"
     },
     "metadata": {},
     "execution_count": 12
    }
   ],
   "source": [
    "new_data"
   ]
  },
  {
   "cell_type": "code",
   "execution_count": 13,
   "metadata": {},
   "outputs": [],
   "source": [
    "new_data['Date_no'] = new_data['created_at'].apply(lambda x:x[11]+x[12])"
   ]
  },
  {
   "cell_type": "code",
   "execution_count": 14,
   "metadata": {},
   "outputs": [
    {
     "output_type": "execute_result",
     "data": {
      "text/plain": "'2020-05-02'"
     },
     "metadata": {},
     "execution_count": 14
    }
   ],
   "source": [
    "new_data['created_at'][0][:10]"
   ]
  },
  {
   "cell_type": "code",
   "execution_count": 15,
   "metadata": {},
   "outputs": [],
   "source": [
    "new_data['Date'] = new_data['created_at'].apply(lambda x:x[:10])"
   ]
  },
  {
   "cell_type": "code",
   "execution_count": 16,
   "metadata": {},
   "outputs": [],
   "source": [
    "new_data['Is_retweet'] = new_data['text'].apply(lambda x: 'Re-tweet' if (x[:2] == \"RT\") else \"Tweet\" )"
   ]
  },
  {
   "cell_type": "code",
   "execution_count": 17,
   "metadata": {},
   "outputs": [
    {
     "output_type": "error",
     "ename": "KeyError",
     "evalue": "\"['date_no'] not found in axis\"",
     "traceback": [
      "\u001b[0;31m---------------------------------------------------------------------------\u001b[0m",
      "\u001b[0;31mKeyError\u001b[0m                                  Traceback (most recent call last)",
      "\u001b[0;32m<ipython-input-17-ac4679ba15af>\u001b[0m in \u001b[0;36m<module>\u001b[0;34m\u001b[0m\n\u001b[0;32m----> 1\u001b[0;31m \u001b[0mnew_data\u001b[0m \u001b[0;34m=\u001b[0m \u001b[0mnew_data\u001b[0m\u001b[0;34m.\u001b[0m\u001b[0mdrop\u001b[0m\u001b[0;34m(\u001b[0m\u001b[0;34m[\u001b[0m\u001b[0;34m'date_no'\u001b[0m\u001b[0;34m]\u001b[0m\u001b[0;34m,\u001b[0m\u001b[0maxis\u001b[0m\u001b[0;34m=\u001b[0m\u001b[0;36m1\u001b[0m\u001b[0;34m)\u001b[0m\u001b[0;34m\u001b[0m\u001b[0;34m\u001b[0m\u001b[0m\n\u001b[0m",
      "\u001b[0;32m~/Desktop/Diwakar/Software_Installations/Anaconda/lib/python3.7/site-packages/pandas/core/frame.py\u001b[0m in \u001b[0;36mdrop\u001b[0;34m(self, labels, axis, index, columns, level, inplace, errors)\u001b[0m\n\u001b[1;32m   4100\u001b[0m             \u001b[0mlevel\u001b[0m\u001b[0;34m=\u001b[0m\u001b[0mlevel\u001b[0m\u001b[0;34m,\u001b[0m\u001b[0;34m\u001b[0m\u001b[0;34m\u001b[0m\u001b[0m\n\u001b[1;32m   4101\u001b[0m             \u001b[0minplace\u001b[0m\u001b[0;34m=\u001b[0m\u001b[0minplace\u001b[0m\u001b[0;34m,\u001b[0m\u001b[0;34m\u001b[0m\u001b[0;34m\u001b[0m\u001b[0m\n\u001b[0;32m-> 4102\u001b[0;31m             \u001b[0merrors\u001b[0m\u001b[0;34m=\u001b[0m\u001b[0merrors\u001b[0m\u001b[0;34m,\u001b[0m\u001b[0;34m\u001b[0m\u001b[0;34m\u001b[0m\u001b[0m\n\u001b[0m\u001b[1;32m   4103\u001b[0m         )\n\u001b[1;32m   4104\u001b[0m \u001b[0;34m\u001b[0m\u001b[0m\n",
      "\u001b[0;32m~/Desktop/Diwakar/Software_Installations/Anaconda/lib/python3.7/site-packages/pandas/core/generic.py\u001b[0m in \u001b[0;36mdrop\u001b[0;34m(self, labels, axis, index, columns, level, inplace, errors)\u001b[0m\n\u001b[1;32m   3912\u001b[0m         \u001b[0;32mfor\u001b[0m \u001b[0maxis\u001b[0m\u001b[0;34m,\u001b[0m \u001b[0mlabels\u001b[0m \u001b[0;32min\u001b[0m \u001b[0maxes\u001b[0m\u001b[0;34m.\u001b[0m\u001b[0mitems\u001b[0m\u001b[0;34m(\u001b[0m\u001b[0;34m)\u001b[0m\u001b[0;34m:\u001b[0m\u001b[0;34m\u001b[0m\u001b[0;34m\u001b[0m\u001b[0m\n\u001b[1;32m   3913\u001b[0m             \u001b[0;32mif\u001b[0m \u001b[0mlabels\u001b[0m \u001b[0;32mis\u001b[0m \u001b[0;32mnot\u001b[0m \u001b[0;32mNone\u001b[0m\u001b[0;34m:\u001b[0m\u001b[0;34m\u001b[0m\u001b[0;34m\u001b[0m\u001b[0m\n\u001b[0;32m-> 3914\u001b[0;31m                 \u001b[0mobj\u001b[0m \u001b[0;34m=\u001b[0m \u001b[0mobj\u001b[0m\u001b[0;34m.\u001b[0m\u001b[0m_drop_axis\u001b[0m\u001b[0;34m(\u001b[0m\u001b[0mlabels\u001b[0m\u001b[0;34m,\u001b[0m \u001b[0maxis\u001b[0m\u001b[0;34m,\u001b[0m \u001b[0mlevel\u001b[0m\u001b[0;34m=\u001b[0m\u001b[0mlevel\u001b[0m\u001b[0;34m,\u001b[0m \u001b[0merrors\u001b[0m\u001b[0;34m=\u001b[0m\u001b[0merrors\u001b[0m\u001b[0;34m)\u001b[0m\u001b[0;34m\u001b[0m\u001b[0;34m\u001b[0m\u001b[0m\n\u001b[0m\u001b[1;32m   3915\u001b[0m \u001b[0;34m\u001b[0m\u001b[0m\n\u001b[1;32m   3916\u001b[0m         \u001b[0;32mif\u001b[0m \u001b[0minplace\u001b[0m\u001b[0;34m:\u001b[0m\u001b[0;34m\u001b[0m\u001b[0;34m\u001b[0m\u001b[0m\n",
      "\u001b[0;32m~/Desktop/Diwakar/Software_Installations/Anaconda/lib/python3.7/site-packages/pandas/core/generic.py\u001b[0m in \u001b[0;36m_drop_axis\u001b[0;34m(self, labels, axis, level, errors)\u001b[0m\n\u001b[1;32m   3944\u001b[0m                 \u001b[0mnew_axis\u001b[0m \u001b[0;34m=\u001b[0m \u001b[0maxis\u001b[0m\u001b[0;34m.\u001b[0m\u001b[0mdrop\u001b[0m\u001b[0;34m(\u001b[0m\u001b[0mlabels\u001b[0m\u001b[0;34m,\u001b[0m \u001b[0mlevel\u001b[0m\u001b[0;34m=\u001b[0m\u001b[0mlevel\u001b[0m\u001b[0;34m,\u001b[0m \u001b[0merrors\u001b[0m\u001b[0;34m=\u001b[0m\u001b[0merrors\u001b[0m\u001b[0;34m)\u001b[0m\u001b[0;34m\u001b[0m\u001b[0;34m\u001b[0m\u001b[0m\n\u001b[1;32m   3945\u001b[0m             \u001b[0;32melse\u001b[0m\u001b[0;34m:\u001b[0m\u001b[0;34m\u001b[0m\u001b[0;34m\u001b[0m\u001b[0m\n\u001b[0;32m-> 3946\u001b[0;31m                 \u001b[0mnew_axis\u001b[0m \u001b[0;34m=\u001b[0m \u001b[0maxis\u001b[0m\u001b[0;34m.\u001b[0m\u001b[0mdrop\u001b[0m\u001b[0;34m(\u001b[0m\u001b[0mlabels\u001b[0m\u001b[0;34m,\u001b[0m \u001b[0merrors\u001b[0m\u001b[0;34m=\u001b[0m\u001b[0merrors\u001b[0m\u001b[0;34m)\u001b[0m\u001b[0;34m\u001b[0m\u001b[0;34m\u001b[0m\u001b[0m\n\u001b[0m\u001b[1;32m   3947\u001b[0m             \u001b[0mresult\u001b[0m \u001b[0;34m=\u001b[0m \u001b[0mself\u001b[0m\u001b[0;34m.\u001b[0m\u001b[0mreindex\u001b[0m\u001b[0;34m(\u001b[0m\u001b[0;34m**\u001b[0m\u001b[0;34m{\u001b[0m\u001b[0maxis_name\u001b[0m\u001b[0;34m:\u001b[0m \u001b[0mnew_axis\u001b[0m\u001b[0;34m}\u001b[0m\u001b[0;34m)\u001b[0m\u001b[0;34m\u001b[0m\u001b[0;34m\u001b[0m\u001b[0m\n\u001b[1;32m   3948\u001b[0m \u001b[0;34m\u001b[0m\u001b[0m\n",
      "\u001b[0;32m~/Desktop/Diwakar/Software_Installations/Anaconda/lib/python3.7/site-packages/pandas/core/indexes/base.py\u001b[0m in \u001b[0;36mdrop\u001b[0;34m(self, labels, errors)\u001b[0m\n\u001b[1;32m   5338\u001b[0m         \u001b[0;32mif\u001b[0m \u001b[0mmask\u001b[0m\u001b[0;34m.\u001b[0m\u001b[0many\u001b[0m\u001b[0;34m(\u001b[0m\u001b[0;34m)\u001b[0m\u001b[0;34m:\u001b[0m\u001b[0;34m\u001b[0m\u001b[0;34m\u001b[0m\u001b[0m\n\u001b[1;32m   5339\u001b[0m             \u001b[0;32mif\u001b[0m \u001b[0merrors\u001b[0m \u001b[0;34m!=\u001b[0m \u001b[0;34m\"ignore\"\u001b[0m\u001b[0;34m:\u001b[0m\u001b[0;34m\u001b[0m\u001b[0;34m\u001b[0m\u001b[0m\n\u001b[0;32m-> 5340\u001b[0;31m                 \u001b[0;32mraise\u001b[0m \u001b[0mKeyError\u001b[0m\u001b[0;34m(\u001b[0m\u001b[0;34m\"{} not found in axis\"\u001b[0m\u001b[0;34m.\u001b[0m\u001b[0mformat\u001b[0m\u001b[0;34m(\u001b[0m\u001b[0mlabels\u001b[0m\u001b[0;34m[\u001b[0m\u001b[0mmask\u001b[0m\u001b[0;34m]\u001b[0m\u001b[0;34m)\u001b[0m\u001b[0;34m)\u001b[0m\u001b[0;34m\u001b[0m\u001b[0;34m\u001b[0m\u001b[0m\n\u001b[0m\u001b[1;32m   5341\u001b[0m             \u001b[0mindexer\u001b[0m \u001b[0;34m=\u001b[0m \u001b[0mindexer\u001b[0m\u001b[0;34m[\u001b[0m\u001b[0;34m~\u001b[0m\u001b[0mmask\u001b[0m\u001b[0;34m]\u001b[0m\u001b[0;34m\u001b[0m\u001b[0;34m\u001b[0m\u001b[0m\n\u001b[1;32m   5342\u001b[0m         \u001b[0;32mreturn\u001b[0m \u001b[0mself\u001b[0m\u001b[0;34m.\u001b[0m\u001b[0mdelete\u001b[0m\u001b[0;34m(\u001b[0m\u001b[0mindexer\u001b[0m\u001b[0;34m)\u001b[0m\u001b[0;34m\u001b[0m\u001b[0;34m\u001b[0m\u001b[0m\n",
      "\u001b[0;31mKeyError\u001b[0m: \"['date_no'] not found in axis\""
     ]
    }
   ],
   "source": [
    "new_data = new_data.drop(['date_no'],axis=1)"
   ]
  },
  {
   "cell_type": "code",
   "execution_count": 18,
   "metadata": {},
   "outputs": [],
   "source": [
    "new_data.rename(columns={'Date_no':'Hour_of_tweet'}, inplace=True)"
   ]
  },
  {
   "cell_type": "code",
   "execution_count": 19,
   "metadata": {},
   "outputs": [],
   "source": [
    "new_data.to_csv('rough_data_extra.csv')"
   ]
  },
  {
   "cell_type": "code",
   "execution_count": 20,
   "metadata": {},
   "outputs": [
    {
     "output_type": "execute_result",
     "data": {
      "text/plain": "   Unnamed: 0                                               text  \\\n0           0  96% Approval Rating in the Republican Party. T...   \n1           1  There is tremendous CoronaVirus testing capaci...   \n2           2                            https://t.co/UIazMAipNa   \n3           3  RT @LouDobbs: Stunning Silence: @KimStrassel s...   \n4           4  RT @KimStrassel: The FBI knew Michael Flynn wa...   \n\n   favorite_count  retweet_count           created_at              source  \\\n0           47885           9174  2020-05-02 13:17:42  Twitter for iPhone   \n1           25323           6934  2020-05-02 13:06:53  Twitter for iPhone   \n2           38472          10288  2020-05-02 03:42:15  Twitter for iPhone   \n3               0          11991  2020-05-01 23:38:59  Twitter for iPhone   \n4               0          13415  2020-05-01 23:38:19  Twitter for iPhone   \n\n   retweets  favorites Hour_of_tweet        Date Is_retweet  \n0      9174      47885            13  2020-05-02      Tweet  \n1      6934      25323            13  2020-05-02      Tweet  \n2     10288      38472            03  2020-05-02      Tweet  \n3     11991          0            23  2020-05-01   Re-tweet  \n4     13415          0            23  2020-05-01   Re-tweet  ",
      "text/html": "<div>\n<style scoped>\n    .dataframe tbody tr th:only-of-type {\n        vertical-align: middle;\n    }\n\n    .dataframe tbody tr th {\n        vertical-align: top;\n    }\n\n    .dataframe thead th {\n        text-align: right;\n    }\n</style>\n<table border=\"1\" class=\"dataframe\">\n  <thead>\n    <tr style=\"text-align: right;\">\n      <th></th>\n      <th>Unnamed: 0</th>\n      <th>text</th>\n      <th>favorite_count</th>\n      <th>retweet_count</th>\n      <th>created_at</th>\n      <th>source</th>\n      <th>retweets</th>\n      <th>favorites</th>\n      <th>Hour_of_tweet</th>\n      <th>Date</th>\n      <th>Is_retweet</th>\n    </tr>\n  </thead>\n  <tbody>\n    <tr>\n      <td>0</td>\n      <td>0</td>\n      <td>96% Approval Rating in the Republican Party. T...</td>\n      <td>47885</td>\n      <td>9174</td>\n      <td>2020-05-02 13:17:42</td>\n      <td>Twitter for iPhone</td>\n      <td>9174</td>\n      <td>47885</td>\n      <td>13</td>\n      <td>2020-05-02</td>\n      <td>Tweet</td>\n    </tr>\n    <tr>\n      <td>1</td>\n      <td>1</td>\n      <td>There is tremendous CoronaVirus testing capaci...</td>\n      <td>25323</td>\n      <td>6934</td>\n      <td>2020-05-02 13:06:53</td>\n      <td>Twitter for iPhone</td>\n      <td>6934</td>\n      <td>25323</td>\n      <td>13</td>\n      <td>2020-05-02</td>\n      <td>Tweet</td>\n    </tr>\n    <tr>\n      <td>2</td>\n      <td>2</td>\n      <td>https://t.co/UIazMAipNa</td>\n      <td>38472</td>\n      <td>10288</td>\n      <td>2020-05-02 03:42:15</td>\n      <td>Twitter for iPhone</td>\n      <td>10288</td>\n      <td>38472</td>\n      <td>03</td>\n      <td>2020-05-02</td>\n      <td>Tweet</td>\n    </tr>\n    <tr>\n      <td>3</td>\n      <td>3</td>\n      <td>RT @LouDobbs: Stunning Silence: @KimStrassel s...</td>\n      <td>0</td>\n      <td>11991</td>\n      <td>2020-05-01 23:38:59</td>\n      <td>Twitter for iPhone</td>\n      <td>11991</td>\n      <td>0</td>\n      <td>23</td>\n      <td>2020-05-01</td>\n      <td>Re-tweet</td>\n    </tr>\n    <tr>\n      <td>4</td>\n      <td>4</td>\n      <td>RT @KimStrassel: The FBI knew Michael Flynn wa...</td>\n      <td>0</td>\n      <td>13415</td>\n      <td>2020-05-01 23:38:19</td>\n      <td>Twitter for iPhone</td>\n      <td>13415</td>\n      <td>0</td>\n      <td>23</td>\n      <td>2020-05-01</td>\n      <td>Re-tweet</td>\n    </tr>\n  </tbody>\n</table>\n</div>"
     },
     "metadata": {},
     "execution_count": 20
    }
   ],
   "source": [
    "new_data.head(5)"
   ]
  },
  {
   "cell_type": "code",
   "execution_count": 21,
   "metadata": {},
   "outputs": [
    {
     "output_type": "display_data",
     "data": {
      "application/vnd.plotly.v1+json": {
       "config": {
        "plotlyServerURL": "https://plot.ly"
       },
       "data": [
        {
         "hoverongaps": false,
         "type": "heatmap",
         "x": [
          "13",
          "13",
          "03",
          "23",
          "23",
          "23",
          "23",
          "23",
          "23",
          "23",
          "22",
          "22",
          "22",
          "21",
          "21",
          "21",
          "20",
          "20",
          "20",
          "15",
          "13",
          "12",
          "12",
          "12",
          "11",
          "11",
          "11",
          "11",
          "11",
          "11",
          "11",
          "04",
          "01",
          "01",
          "01",
          "00",
          "00",
          "00",
          "00",
          "00",
          "00",
          "20",
          "18",
          "16",
          "16",
          "14",
          "14",
          "13",
          "13",
          "13",
          "13",
          "12",
          "12",
          "12",
          "12",
          "12",
          "12",
          "12",
          "12",
          "12",
          "12",
          "12",
          "12",
          "12",
          "12",
          "12",
          "12",
          "12",
          "12",
          "12",
          "12",
          "12",
          "12",
          "12",
          "12",
          "12",
          "12",
          "12",
          "12",
          "12",
          "12",
          "12",
          "12",
          "12",
          "12",
          "12",
          "12",
          "12",
          "12",
          "11",
          "11",
          "11",
          "11",
          "11",
          "04",
          "04",
          "04",
          "04",
          "03",
          "03",
          "00",
          "00",
          "00",
          "00",
          "00",
          "20",
          "20",
          "20",
          "20",
          "18",
          "14",
          "14",
          "13",
          "13",
          "13",
          "13",
          "13",
          "13",
          "12",
          "12",
          "12",
          "12",
          "12",
          "04",
          "02",
          "02",
          "23",
          "20",
          "20",
          "20",
          "14",
          "14",
          "14",
          "13",
          "13",
          "13",
          "13",
          "13",
          "13",
          "12",
          "11",
          "02",
          "02",
          "02",
          "02",
          "02",
          "02",
          "02",
          "23",
          "22",
          "22",
          "22",
          "21",
          "20",
          "14",
          "13",
          "13",
          "12",
          "01",
          "01",
          "01",
          "01",
          "01",
          "01",
          "01",
          "01",
          "01",
          "01",
          "01",
          "01",
          "01",
          "01",
          "01",
          "01",
          "01",
          "01",
          "00",
          "00",
          "00",
          "00",
          "00",
          "00",
          "00",
          "00",
          "00",
          "00",
          "22",
          "21",
          "21",
          "21",
          "21",
          "18",
          "18",
          "18",
          "17",
          "16",
          "01",
          "22",
          "22",
          "22",
          "20",
          "15",
          "15",
          "14",
          "14",
          "14",
          "13",
          "13",
          "13",
          "13",
          "13",
          "13",
          "13",
          "13",
          "13",
          "13",
          "13",
          "13",
          "12",
          "12",
          "12",
          "12",
          "12",
          "12",
          "21",
          "20",
          "20",
          "19",
          "17",
          "17",
          "17",
          "14",
          "14",
          "14",
          "14",
          "14",
          "14",
          "14",
          "13",
          "13",
          "13",
          "13",
          "13",
          "13",
          "04",
          "04",
          "04",
          "04",
          "04",
          "04",
          "04",
          "04",
          "23",
          "23",
          "23",
          "23",
          "23",
          "23",
          "23",
          "23",
          "23",
          "23",
          "23",
          "23",
          "23",
          "23",
          "23",
          "21",
          "20",
          "15",
          "15",
          "15",
          "12",
          "12",
          "12",
          "12",
          "12",
          "12",
          "12",
          "12",
          "12",
          "12",
          "12",
          "12",
          "12",
          "22",
          "20",
          "17",
          "14",
          "14",
          "14",
          "14",
          "12",
          "11",
          "11",
          "11",
          "10",
          "10",
          "10",
          "10",
          "04",
          "03",
          "03",
          "03",
          "02",
          "02",
          "02",
          "20",
          "19",
          "16",
          "16",
          "14",
          "14",
          "13",
          "11",
          "10",
          "10",
          "10",
          "04",
          "04",
          "04",
          "04",
          "04",
          "04",
          "04",
          "04",
          "03",
          "03",
          "03",
          "03",
          "03",
          "03",
          "03",
          "03",
          "03",
          "03",
          "02",
          "02",
          "02",
          "01",
          "01",
          "00",
          "23",
          "20",
          "15",
          "15",
          "14",
          "14",
          "14",
          "13",
          "11",
          "01",
          "22",
          "20",
          "19",
          "19",
          "19",
          "19",
          "18",
          "18",
          "18",
          "18",
          "18",
          "18",
          "18",
          "18",
          "18",
          "18",
          "17",
          "17",
          "17",
          "16",
          "16",
          "13",
          "13",
          "13",
          "13",
          "13",
          "13",
          "13",
          "13",
          "13",
          "03",
          "02",
          "02",
          "00",
          "23",
          "21",
          "19",
          "19",
          "19",
          "19",
          "19",
          "18",
          "18",
          "18",
          "18",
          "18",
          "17",
          "17",
          "17",
          "17",
          "17",
          "16",
          "16",
          "16",
          "16",
          "16",
          "16",
          "16",
          "16",
          "16",
          "16",
          "16",
          "16",
          "16",
          "16",
          "16",
          "16",
          "16",
          "16",
          "16",
          "16",
          "16",
          "16",
          "16",
          "16",
          "16",
          "16",
          "16",
          "16",
          "16",
          "16",
          "16",
          "16",
          "15",
          "03",
          "03",
          "03",
          "03",
          "03",
          "03",
          "03",
          "03",
          "03",
          "03",
          "03",
          "03",
          "03",
          "03",
          "03",
          "03",
          "03",
          "03",
          "03",
          "01",
          "01",
          "22",
          "19",
          "17",
          "16",
          "16",
          "16",
          "16",
          "16",
          "15",
          "15",
          "15",
          "13",
          "13",
          "13",
          "02",
          "23",
          "22",
          "18",
          "18",
          "17",
          "13",
          "13",
          "22",
          "22",
          "22",
          "22",
          "20",
          "19",
          "15",
          "15",
          "15",
          "15",
          "15",
          "00",
          "23",
          "23",
          "21",
          "15",
          "14",
          "14",
          "14",
          "13",
          "02"
         ],
         "y": [
          "2020-05-02",
          "2020-05-02",
          "2020-05-02",
          "2020-05-01",
          "2020-05-01",
          "2020-05-01",
          "2020-05-01",
          "2020-05-01",
          "2020-05-01",
          "2020-05-01",
          "2020-05-01",
          "2020-05-01",
          "2020-05-01",
          "2020-05-01",
          "2020-05-01",
          "2020-05-01",
          "2020-05-01",
          "2020-05-01",
          "2020-05-01",
          "2020-05-01",
          "2020-05-01",
          "2020-05-01",
          "2020-05-01",
          "2020-05-01",
          "2020-05-01",
          "2020-05-01",
          "2020-05-01",
          "2020-05-01",
          "2020-05-01",
          "2020-05-01",
          "2020-05-01",
          "2020-05-01",
          "2020-05-01",
          "2020-05-01",
          "2020-05-01",
          "2020-05-01",
          "2020-05-01",
          "2020-05-01",
          "2020-05-01",
          "2020-05-01",
          "2020-05-01",
          "2020-04-30",
          "2020-04-30",
          "2020-04-30",
          "2020-04-30",
          "2020-04-30",
          "2020-04-30",
          "2020-04-30",
          "2020-04-30",
          "2020-04-30",
          "2020-04-30",
          "2020-04-30",
          "2020-04-30",
          "2020-04-30",
          "2020-04-30",
          "2020-04-30",
          "2020-04-30",
          "2020-04-30",
          "2020-04-30",
          "2020-04-30",
          "2020-04-30",
          "2020-04-30",
          "2020-04-30",
          "2020-04-30",
          "2020-04-30",
          "2020-04-30",
          "2020-04-30",
          "2020-04-30",
          "2020-04-30",
          "2020-04-30",
          "2020-04-30",
          "2020-04-30",
          "2020-04-30",
          "2020-04-30",
          "2020-04-30",
          "2020-04-30",
          "2020-04-30",
          "2020-04-30",
          "2020-04-30",
          "2020-04-30",
          "2020-04-30",
          "2020-04-30",
          "2020-04-30",
          "2020-04-30",
          "2020-04-30",
          "2020-04-30",
          "2020-04-30",
          "2020-04-30",
          "2020-04-30",
          "2020-04-30",
          "2020-04-30",
          "2020-04-30",
          "2020-04-30",
          "2020-04-30",
          "2020-04-30",
          "2020-04-30",
          "2020-04-30",
          "2020-04-30",
          "2020-04-30",
          "2020-04-30",
          "2020-04-30",
          "2020-04-30",
          "2020-04-30",
          "2020-04-30",
          "2020-04-30",
          "2020-04-29",
          "2020-04-29",
          "2020-04-29",
          "2020-04-29",
          "2020-04-29",
          "2020-04-29",
          "2020-04-29",
          "2020-04-29",
          "2020-04-29",
          "2020-04-29",
          "2020-04-29",
          "2020-04-29",
          "2020-04-29",
          "2020-04-29",
          "2020-04-29",
          "2020-04-29",
          "2020-04-29",
          "2020-04-29",
          "2020-04-29",
          "2020-04-29",
          "2020-04-29",
          "2020-04-28",
          "2020-04-28",
          "2020-04-28",
          "2020-04-28",
          "2020-04-28",
          "2020-04-28",
          "2020-04-28",
          "2020-04-28",
          "2020-04-28",
          "2020-04-28",
          "2020-04-28",
          "2020-04-28",
          "2020-04-28",
          "2020-04-28",
          "2020-04-28",
          "2020-04-28",
          "2020-04-28",
          "2020-04-28",
          "2020-04-28",
          "2020-04-28",
          "2020-04-28",
          "2020-04-28",
          "2020-04-27",
          "2020-04-27",
          "2020-04-27",
          "2020-04-27",
          "2020-04-27",
          "2020-04-27",
          "2020-04-27",
          "2020-04-27",
          "2020-04-27",
          "2020-04-27",
          "2020-04-27",
          "2020-04-27",
          "2020-04-27",
          "2020-04-27",
          "2020-04-27",
          "2020-04-27",
          "2020-04-27",
          "2020-04-27",
          "2020-04-27",
          "2020-04-27",
          "2020-04-27",
          "2020-04-27",
          "2020-04-27",
          "2020-04-27",
          "2020-04-27",
          "2020-04-27",
          "2020-04-27",
          "2020-04-27",
          "2020-04-27",
          "2020-04-27",
          "2020-04-27",
          "2020-04-27",
          "2020-04-27",
          "2020-04-27",
          "2020-04-27",
          "2020-04-27",
          "2020-04-27",
          "2020-04-27",
          "2020-04-26",
          "2020-04-26",
          "2020-04-26",
          "2020-04-26",
          "2020-04-26",
          "2020-04-26",
          "2020-04-26",
          "2020-04-26",
          "2020-04-26",
          "2020-04-26",
          "2020-04-26",
          "2020-04-25",
          "2020-04-25",
          "2020-04-25",
          "2020-04-25",
          "2020-04-25",
          "2020-04-25",
          "2020-04-25",
          "2020-04-25",
          "2020-04-25",
          "2020-04-25",
          "2020-04-25",
          "2020-04-25",
          "2020-04-25",
          "2020-04-25",
          "2020-04-25",
          "2020-04-25",
          "2020-04-25",
          "2020-04-25",
          "2020-04-25",
          "2020-04-25",
          "2020-04-25",
          "2020-04-25",
          "2020-04-25",
          "2020-04-25",
          "2020-04-25",
          "2020-04-25",
          "2020-04-25",
          "2020-04-24",
          "2020-04-24",
          "2020-04-24",
          "2020-04-24",
          "2020-04-24",
          "2020-04-24",
          "2020-04-24",
          "2020-04-24",
          "2020-04-24",
          "2020-04-24",
          "2020-04-24",
          "2020-04-24",
          "2020-04-24",
          "2020-04-24",
          "2020-04-24",
          "2020-04-24",
          "2020-04-24",
          "2020-04-24",
          "2020-04-24",
          "2020-04-24",
          "2020-04-24",
          "2020-04-24",
          "2020-04-24",
          "2020-04-24",
          "2020-04-24",
          "2020-04-24",
          "2020-04-24",
          "2020-04-24",
          "2020-04-23",
          "2020-04-23",
          "2020-04-23",
          "2020-04-23",
          "2020-04-23",
          "2020-04-23",
          "2020-04-23",
          "2020-04-23",
          "2020-04-23",
          "2020-04-23",
          "2020-04-23",
          "2020-04-23",
          "2020-04-23",
          "2020-04-23",
          "2020-04-23",
          "2020-04-23",
          "2020-04-23",
          "2020-04-23",
          "2020-04-23",
          "2020-04-23",
          "2020-04-23",
          "2020-04-23",
          "2020-04-23",
          "2020-04-23",
          "2020-04-23",
          "2020-04-23",
          "2020-04-23",
          "2020-04-23",
          "2020-04-23",
          "2020-04-23",
          "2020-04-23",
          "2020-04-23",
          "2020-04-23",
          "2020-04-22",
          "2020-04-22",
          "2020-04-22",
          "2020-04-22",
          "2020-04-22",
          "2020-04-22",
          "2020-04-22",
          "2020-04-22",
          "2020-04-22",
          "2020-04-22",
          "2020-04-22",
          "2020-04-22",
          "2020-04-22",
          "2020-04-22",
          "2020-04-22",
          "2020-04-22",
          "2020-04-22",
          "2020-04-22",
          "2020-04-22",
          "2020-04-22",
          "2020-04-22",
          "2020-04-22",
          "2020-04-21",
          "2020-04-21",
          "2020-04-21",
          "2020-04-21",
          "2020-04-21",
          "2020-04-21",
          "2020-04-21",
          "2020-04-21",
          "2020-04-21",
          "2020-04-21",
          "2020-04-21",
          "2020-04-21",
          "2020-04-21",
          "2020-04-21",
          "2020-04-21",
          "2020-04-21",
          "2020-04-21",
          "2020-04-21",
          "2020-04-21",
          "2020-04-21",
          "2020-04-21",
          "2020-04-21",
          "2020-04-21",
          "2020-04-21",
          "2020-04-21",
          "2020-04-21",
          "2020-04-21",
          "2020-04-21",
          "2020-04-21",
          "2020-04-21",
          "2020-04-21",
          "2020-04-21",
          "2020-04-21",
          "2020-04-21",
          "2020-04-21",
          "2020-04-20",
          "2020-04-20",
          "2020-04-20",
          "2020-04-20",
          "2020-04-20",
          "2020-04-20",
          "2020-04-20",
          "2020-04-20",
          "2020-04-20",
          "2020-04-20",
          "2020-04-19",
          "2020-04-19",
          "2020-04-19",
          "2020-04-19",
          "2020-04-19",
          "2020-04-19",
          "2020-04-19",
          "2020-04-19",
          "2020-04-19",
          "2020-04-19",
          "2020-04-19",
          "2020-04-19",
          "2020-04-19",
          "2020-04-19",
          "2020-04-19",
          "2020-04-19",
          "2020-04-19",
          "2020-04-19",
          "2020-04-19",
          "2020-04-19",
          "2020-04-19",
          "2020-04-19",
          "2020-04-19",
          "2020-04-19",
          "2020-04-19",
          "2020-04-19",
          "2020-04-19",
          "2020-04-19",
          "2020-04-19",
          "2020-04-19",
          "2020-04-19",
          "2020-04-19",
          "2020-04-19",
          "2020-04-19",
          "2020-04-18",
          "2020-04-18",
          "2020-04-18",
          "2020-04-18",
          "2020-04-18",
          "2020-04-18",
          "2020-04-18",
          "2020-04-18",
          "2020-04-18",
          "2020-04-18",
          "2020-04-18",
          "2020-04-18",
          "2020-04-18",
          "2020-04-18",
          "2020-04-18",
          "2020-04-18",
          "2020-04-18",
          "2020-04-18",
          "2020-04-18",
          "2020-04-18",
          "2020-04-18",
          "2020-04-18",
          "2020-04-18",
          "2020-04-18",
          "2020-04-18",
          "2020-04-18",
          "2020-04-18",
          "2020-04-18",
          "2020-04-18",
          "2020-04-18",
          "2020-04-18",
          "2020-04-18",
          "2020-04-18",
          "2020-04-18",
          "2020-04-18",
          "2020-04-18",
          "2020-04-18",
          "2020-04-18",
          "2020-04-18",
          "2020-04-18",
          "2020-04-18",
          "2020-04-18",
          "2020-04-18",
          "2020-04-18",
          "2020-04-18",
          "2020-04-18",
          "2020-04-18",
          "2020-04-18",
          "2020-04-18",
          "2020-04-18",
          "2020-04-18",
          "2020-04-18",
          "2020-04-18",
          "2020-04-18",
          "2020-04-18",
          "2020-04-18",
          "2020-04-18",
          "2020-04-18",
          "2020-04-18",
          "2020-04-18",
          "2020-04-18",
          "2020-04-18",
          "2020-04-18",
          "2020-04-18",
          "2020-04-18",
          "2020-04-18",
          "2020-04-18",
          "2020-04-18",
          "2020-04-18",
          "2020-04-18",
          "2020-04-18",
          "2020-04-17",
          "2020-04-17",
          "2020-04-17",
          "2020-04-17",
          "2020-04-17",
          "2020-04-17",
          "2020-04-17",
          "2020-04-17",
          "2020-04-17",
          "2020-04-17",
          "2020-04-17",
          "2020-04-17",
          "2020-04-17",
          "2020-04-17",
          "2020-04-17",
          "2020-04-16",
          "2020-04-16",
          "2020-04-16",
          "2020-04-16",
          "2020-04-16",
          "2020-04-16",
          "2020-04-16",
          "2020-04-15",
          "2020-04-15",
          "2020-04-15",
          "2020-04-15",
          "2020-04-15",
          "2020-04-15",
          "2020-04-15",
          "2020-04-15",
          "2020-04-15",
          "2020-04-15",
          "2020-04-15",
          "2020-04-15",
          "2020-04-14",
          "2020-04-14",
          "2020-04-14",
          "2020-04-14",
          "2020-04-14",
          "2020-04-14",
          "2020-04-14",
          "2020-04-14",
          "2020-04-14"
         ],
         "z": [
          9174,
          6934,
          10288,
          11991,
          13415,
          29030,
          3835,
          4182,
          2906,
          3690,
          9259,
          8888,
          6442,
          4616,
          5228,
          5562,
          20408,
          5722,
          10691,
          38814,
          12182,
          38620,
          20411,
          24441,
          12017,
          5340,
          18851,
          6449,
          15025,
          7509,
          6930,
          6669,
          8129,
          6113,
          8973,
          18867,
          37392,
          21012,
          10963,
          8358,
          13445,
          8391,
          16538,
          8560,
          6140,
          18058,
          44459,
          5747,
          20891,
          8641,
          19912,
          15438,
          30592,
          3629,
          18692,
          10335,
          12485,
          3711,
          5653,
          3184,
          12413,
          2819,
          2666,
          11739,
          6264,
          13133,
          6714,
          38553,
          17667,
          20160,
          35782,
          11802,
          13528,
          43006,
          54324,
          5233,
          5956,
          3630,
          3533,
          30470,
          20767,
          7180,
          5395,
          4887,
          8637,
          21802,
          13787,
          16630,
          36881,
          8084,
          19711,
          38553,
          29038,
          17667,
          20160,
          35782,
          24935,
          26985,
          43006,
          16120,
          64933,
          7748,
          64933,
          27491,
          29324,
          8446,
          12420,
          5337,
          6661,
          7336,
          14928,
          22301,
          10373,
          22901,
          4387,
          4278,
          4776,
          6892,
          6261,
          5021,
          8484,
          6377,
          10949,
          43096,
          17435,
          14055,
          8856,
          21113,
          13419,
          8043,
          12847,
          17464,
          10742,
          23392,
          15448,
          25035,
          8155,
          26229,
          32980,
          38527,
          7022,
          18068,
          21983,
          29827,
          81005,
          47632,
          43759,
          27239,
          7123,
          18068,
          7918,
          6949,
          7002,
          16179,
          47015,
          81005,
          47632,
          43759,
          27239,
          58270,
          51679,
          14128,
          21189,
          23020,
          6170,
          9403,
          6016,
          13236,
          12651,
          13489,
          12116,
          16299,
          6802,
          16258,
          11796,
          47272,
          12004,
          67230,
          4484,
          60193,
          8834,
          14340,
          13511,
          7515,
          6343,
          10088,
          32702,
          23259,
          17516,
          13744,
          24150,
          19495,
          30264,
          51679,
          9615,
          65297,
          17364,
          58270,
          60193,
          53305,
          42203,
          23328,
          34021,
          28803,
          23412,
          27462,
          4155,
          3380,
          3386,
          3767,
          2771,
          3983,
          4972,
          4430,
          3506,
          3098,
          2945,
          7295,
          11346,
          17983,
          20638,
          11225,
          3426,
          3752,
          7498,
          13785,
          9254,
          31383,
          8173,
          6361,
          5888,
          17044,
          21854,
          14475,
          34808,
          17337,
          17989,
          25381,
          28035,
          19149,
          5935,
          10569,
          20601,
          21854,
          28267,
          20601,
          8480,
          6075,
          7573,
          5875,
          5703,
          22933,
          14473,
          7890,
          14758,
          7352,
          6944,
          6695,
          6735,
          5857,
          9035,
          8775,
          5805,
          7497,
          6259,
          4735,
          9299,
          6242,
          13504,
          9233,
          11611,
          19538,
          19427,
          63009,
          35768,
          25465,
          6366,
          25123,
          5630,
          7280,
          7645,
          8862,
          5256,
          8081,
          14214,
          6903,
          15895,
          8895,
          12703,
          26226,
          16583,
          25235,
          89118,
          45655,
          13143,
          36595,
          14486,
          6895,
          5597,
          6709,
          93875,
          16976,
          29370,
          10394,
          7357,
          5413,
          7321,
          15050,
          17989,
          13619,
          25482,
          11365,
          8870,
          32981,
          35768,
          30112,
          63009,
          24145,
          92939,
          17569,
          9247,
          14521,
          9331,
          6833,
          18687,
          8703,
          8515,
          12383,
          9634,
          8753,
          10620,
          14000,
          9143,
          16634,
          7229,
          27268,
          92939,
          9247,
          17569,
          9331,
          14521,
          106393,
          6845,
          18818,
          21813,
          30575,
          18670,
          9736,
          10704,
          15816,
          106393,
          93875,
          8809,
          17434,
          48612,
          32144,
          9088,
          37945,
          10063,
          13629,
          9835,
          6321,
          8185,
          5574,
          5807,
          5531,
          7605,
          3906,
          24063,
          13390,
          7950,
          26056,
          33382,
          8788,
          17857,
          9724,
          8556,
          14672,
          16119,
          13428,
          9200,
          34244,
          14648,
          14718,
          16150,
          13428,
          11328,
          8528,
          34244,
          6710,
          7735,
          12613,
          16119,
          5729,
          22078,
          14624,
          4156,
          41756,
          19885,
          15944,
          37502,
          16150,
          14718,
          20508,
          14653,
          14000,
          6023,
          5779,
          7102,
          6268,
          6396,
          4801,
          15825,
          6373,
          12529,
          4729,
          4568,
          5269,
          3987,
          3359,
          3424,
          3377,
          3473,
          2920,
          6026,
          6529,
          5173,
          3568,
          3759,
          4668,
          3925,
          7269,
          3161,
          3061,
          5430,
          16574,
          39474,
          31216,
          33378,
          17377,
          13362,
          32825,
          13499,
          14215,
          43069,
          21153,
          11015,
          5723,
          17438,
          9147,
          6643,
          6147,
          4918,
          4614,
          4812,
          7270,
          10410,
          7002,
          18385,
          26080,
          23683,
          61770,
          31639,
          21538,
          32718,
          46992,
          42976,
          37236,
          53422,
          30225,
          88791,
          45797,
          36418,
          9274,
          99187,
          38061,
          47846,
          70262,
          23800,
          11071,
          10230,
          9673,
          9125,
          16470,
          34293,
          11852,
          18577,
          8011,
          14619,
          38907,
          20810,
          30737,
          16203,
          16830,
          32093,
          37871,
          68857,
          37977,
          31609,
          23447
         ]
        }
       ],
       "layout": {
        "template": {
         "data": {
          "bar": [
           {
            "error_x": {
             "color": "#2a3f5f"
            },
            "error_y": {
             "color": "#2a3f5f"
            },
            "marker": {
             "line": {
              "color": "#E5ECF6",
              "width": 0.5
             }
            },
            "type": "bar"
           }
          ],
          "barpolar": [
           {
            "marker": {
             "line": {
              "color": "#E5ECF6",
              "width": 0.5
             }
            },
            "type": "barpolar"
           }
          ],
          "carpet": [
           {
            "aaxis": {
             "endlinecolor": "#2a3f5f",
             "gridcolor": "white",
             "linecolor": "white",
             "minorgridcolor": "white",
             "startlinecolor": "#2a3f5f"
            },
            "baxis": {
             "endlinecolor": "#2a3f5f",
             "gridcolor": "white",
             "linecolor": "white",
             "minorgridcolor": "white",
             "startlinecolor": "#2a3f5f"
            },
            "type": "carpet"
           }
          ],
          "choropleth": [
           {
            "colorbar": {
             "outlinewidth": 0,
             "ticks": ""
            },
            "type": "choropleth"
           }
          ],
          "contour": [
           {
            "colorbar": {
             "outlinewidth": 0,
             "ticks": ""
            },
            "colorscale": [
             [
              0,
              "#0d0887"
             ],
             [
              0.1111111111111111,
              "#46039f"
             ],
             [
              0.2222222222222222,
              "#7201a8"
             ],
             [
              0.3333333333333333,
              "#9c179e"
             ],
             [
              0.4444444444444444,
              "#bd3786"
             ],
             [
              0.5555555555555556,
              "#d8576b"
             ],
             [
              0.6666666666666666,
              "#ed7953"
             ],
             [
              0.7777777777777778,
              "#fb9f3a"
             ],
             [
              0.8888888888888888,
              "#fdca26"
             ],
             [
              1,
              "#f0f921"
             ]
            ],
            "type": "contour"
           }
          ],
          "contourcarpet": [
           {
            "colorbar": {
             "outlinewidth": 0,
             "ticks": ""
            },
            "type": "contourcarpet"
           }
          ],
          "heatmap": [
           {
            "colorbar": {
             "outlinewidth": 0,
             "ticks": ""
            },
            "colorscale": [
             [
              0,
              "#0d0887"
             ],
             [
              0.1111111111111111,
              "#46039f"
             ],
             [
              0.2222222222222222,
              "#7201a8"
             ],
             [
              0.3333333333333333,
              "#9c179e"
             ],
             [
              0.4444444444444444,
              "#bd3786"
             ],
             [
              0.5555555555555556,
              "#d8576b"
             ],
             [
              0.6666666666666666,
              "#ed7953"
             ],
             [
              0.7777777777777778,
              "#fb9f3a"
             ],
             [
              0.8888888888888888,
              "#fdca26"
             ],
             [
              1,
              "#f0f921"
             ]
            ],
            "type": "heatmap"
           }
          ],
          "heatmapgl": [
           {
            "colorbar": {
             "outlinewidth": 0,
             "ticks": ""
            },
            "colorscale": [
             [
              0,
              "#0d0887"
             ],
             [
              0.1111111111111111,
              "#46039f"
             ],
             [
              0.2222222222222222,
              "#7201a8"
             ],
             [
              0.3333333333333333,
              "#9c179e"
             ],
             [
              0.4444444444444444,
              "#bd3786"
             ],
             [
              0.5555555555555556,
              "#d8576b"
             ],
             [
              0.6666666666666666,
              "#ed7953"
             ],
             [
              0.7777777777777778,
              "#fb9f3a"
             ],
             [
              0.8888888888888888,
              "#fdca26"
             ],
             [
              1,
              "#f0f921"
             ]
            ],
            "type": "heatmapgl"
           }
          ],
          "histogram": [
           {
            "marker": {
             "colorbar": {
              "outlinewidth": 0,
              "ticks": ""
             }
            },
            "type": "histogram"
           }
          ],
          "histogram2d": [
           {
            "colorbar": {
             "outlinewidth": 0,
             "ticks": ""
            },
            "colorscale": [
             [
              0,
              "#0d0887"
             ],
             [
              0.1111111111111111,
              "#46039f"
             ],
             [
              0.2222222222222222,
              "#7201a8"
             ],
             [
              0.3333333333333333,
              "#9c179e"
             ],
             [
              0.4444444444444444,
              "#bd3786"
             ],
             [
              0.5555555555555556,
              "#d8576b"
             ],
             [
              0.6666666666666666,
              "#ed7953"
             ],
             [
              0.7777777777777778,
              "#fb9f3a"
             ],
             [
              0.8888888888888888,
              "#fdca26"
             ],
             [
              1,
              "#f0f921"
             ]
            ],
            "type": "histogram2d"
           }
          ],
          "histogram2dcontour": [
           {
            "colorbar": {
             "outlinewidth": 0,
             "ticks": ""
            },
            "colorscale": [
             [
              0,
              "#0d0887"
             ],
             [
              0.1111111111111111,
              "#46039f"
             ],
             [
              0.2222222222222222,
              "#7201a8"
             ],
             [
              0.3333333333333333,
              "#9c179e"
             ],
             [
              0.4444444444444444,
              "#bd3786"
             ],
             [
              0.5555555555555556,
              "#d8576b"
             ],
             [
              0.6666666666666666,
              "#ed7953"
             ],
             [
              0.7777777777777778,
              "#fb9f3a"
             ],
             [
              0.8888888888888888,
              "#fdca26"
             ],
             [
              1,
              "#f0f921"
             ]
            ],
            "type": "histogram2dcontour"
           }
          ],
          "mesh3d": [
           {
            "colorbar": {
             "outlinewidth": 0,
             "ticks": ""
            },
            "type": "mesh3d"
           }
          ],
          "parcoords": [
           {
            "line": {
             "colorbar": {
              "outlinewidth": 0,
              "ticks": ""
             }
            },
            "type": "parcoords"
           }
          ],
          "pie": [
           {
            "automargin": true,
            "type": "pie"
           }
          ],
          "scatter": [
           {
            "marker": {
             "colorbar": {
              "outlinewidth": 0,
              "ticks": ""
             }
            },
            "type": "scatter"
           }
          ],
          "scatter3d": [
           {
            "line": {
             "colorbar": {
              "outlinewidth": 0,
              "ticks": ""
             }
            },
            "marker": {
             "colorbar": {
              "outlinewidth": 0,
              "ticks": ""
             }
            },
            "type": "scatter3d"
           }
          ],
          "scattercarpet": [
           {
            "marker": {
             "colorbar": {
              "outlinewidth": 0,
              "ticks": ""
             }
            },
            "type": "scattercarpet"
           }
          ],
          "scattergeo": [
           {
            "marker": {
             "colorbar": {
              "outlinewidth": 0,
              "ticks": ""
             }
            },
            "type": "scattergeo"
           }
          ],
          "scattergl": [
           {
            "marker": {
             "colorbar": {
              "outlinewidth": 0,
              "ticks": ""
             }
            },
            "type": "scattergl"
           }
          ],
          "scattermapbox": [
           {
            "marker": {
             "colorbar": {
              "outlinewidth": 0,
              "ticks": ""
             }
            },
            "type": "scattermapbox"
           }
          ],
          "scatterpolar": [
           {
            "marker": {
             "colorbar": {
              "outlinewidth": 0,
              "ticks": ""
             }
            },
            "type": "scatterpolar"
           }
          ],
          "scatterpolargl": [
           {
            "marker": {
             "colorbar": {
              "outlinewidth": 0,
              "ticks": ""
             }
            },
            "type": "scatterpolargl"
           }
          ],
          "scatterternary": [
           {
            "marker": {
             "colorbar": {
              "outlinewidth": 0,
              "ticks": ""
             }
            },
            "type": "scatterternary"
           }
          ],
          "surface": [
           {
            "colorbar": {
             "outlinewidth": 0,
             "ticks": ""
            },
            "colorscale": [
             [
              0,
              "#0d0887"
             ],
             [
              0.1111111111111111,
              "#46039f"
             ],
             [
              0.2222222222222222,
              "#7201a8"
             ],
             [
              0.3333333333333333,
              "#9c179e"
             ],
             [
              0.4444444444444444,
              "#bd3786"
             ],
             [
              0.5555555555555556,
              "#d8576b"
             ],
             [
              0.6666666666666666,
              "#ed7953"
             ],
             [
              0.7777777777777778,
              "#fb9f3a"
             ],
             [
              0.8888888888888888,
              "#fdca26"
             ],
             [
              1,
              "#f0f921"
             ]
            ],
            "type": "surface"
           }
          ],
          "table": [
           {
            "cells": {
             "fill": {
              "color": "#EBF0F8"
             },
             "line": {
              "color": "white"
             }
            },
            "header": {
             "fill": {
              "color": "#C8D4E3"
             },
             "line": {
              "color": "white"
             }
            },
            "type": "table"
           }
          ]
         },
         "layout": {
          "annotationdefaults": {
           "arrowcolor": "#2a3f5f",
           "arrowhead": 0,
           "arrowwidth": 1
          },
          "coloraxis": {
           "colorbar": {
            "outlinewidth": 0,
            "ticks": ""
           }
          },
          "colorscale": {
           "diverging": [
            [
             0,
             "#8e0152"
            ],
            [
             0.1,
             "#c51b7d"
            ],
            [
             0.2,
             "#de77ae"
            ],
            [
             0.3,
             "#f1b6da"
            ],
            [
             0.4,
             "#fde0ef"
            ],
            [
             0.5,
             "#f7f7f7"
            ],
            [
             0.6,
             "#e6f5d0"
            ],
            [
             0.7,
             "#b8e186"
            ],
            [
             0.8,
             "#7fbc41"
            ],
            [
             0.9,
             "#4d9221"
            ],
            [
             1,
             "#276419"
            ]
           ],
           "sequential": [
            [
             0,
             "#0d0887"
            ],
            [
             0.1111111111111111,
             "#46039f"
            ],
            [
             0.2222222222222222,
             "#7201a8"
            ],
            [
             0.3333333333333333,
             "#9c179e"
            ],
            [
             0.4444444444444444,
             "#bd3786"
            ],
            [
             0.5555555555555556,
             "#d8576b"
            ],
            [
             0.6666666666666666,
             "#ed7953"
            ],
            [
             0.7777777777777778,
             "#fb9f3a"
            ],
            [
             0.8888888888888888,
             "#fdca26"
            ],
            [
             1,
             "#f0f921"
            ]
           ],
           "sequentialminus": [
            [
             0,
             "#0d0887"
            ],
            [
             0.1111111111111111,
             "#46039f"
            ],
            [
             0.2222222222222222,
             "#7201a8"
            ],
            [
             0.3333333333333333,
             "#9c179e"
            ],
            [
             0.4444444444444444,
             "#bd3786"
            ],
            [
             0.5555555555555556,
             "#d8576b"
            ],
            [
             0.6666666666666666,
             "#ed7953"
            ],
            [
             0.7777777777777778,
             "#fb9f3a"
            ],
            [
             0.8888888888888888,
             "#fdca26"
            ],
            [
             1,
             "#f0f921"
            ]
           ]
          },
          "colorway": [
           "#636efa",
           "#EF553B",
           "#00cc96",
           "#ab63fa",
           "#FFA15A",
           "#19d3f3",
           "#FF6692",
           "#B6E880",
           "#FF97FF",
           "#FECB52"
          ],
          "font": {
           "color": "#2a3f5f"
          },
          "geo": {
           "bgcolor": "white",
           "lakecolor": "white",
           "landcolor": "#E5ECF6",
           "showlakes": true,
           "showland": true,
           "subunitcolor": "white"
          },
          "hoverlabel": {
           "align": "left"
          },
          "hovermode": "closest",
          "mapbox": {
           "style": "light"
          },
          "paper_bgcolor": "white",
          "plot_bgcolor": "#E5ECF6",
          "polar": {
           "angularaxis": {
            "gridcolor": "white",
            "linecolor": "white",
            "ticks": ""
           },
           "bgcolor": "#E5ECF6",
           "radialaxis": {
            "gridcolor": "white",
            "linecolor": "white",
            "ticks": ""
           }
          },
          "scene": {
           "xaxis": {
            "backgroundcolor": "#E5ECF6",
            "gridcolor": "white",
            "gridwidth": 2,
            "linecolor": "white",
            "showbackground": true,
            "ticks": "",
            "zerolinecolor": "white"
           },
           "yaxis": {
            "backgroundcolor": "#E5ECF6",
            "gridcolor": "white",
            "gridwidth": 2,
            "linecolor": "white",
            "showbackground": true,
            "ticks": "",
            "zerolinecolor": "white"
           },
           "zaxis": {
            "backgroundcolor": "#E5ECF6",
            "gridcolor": "white",
            "gridwidth": 2,
            "linecolor": "white",
            "showbackground": true,
            "ticks": "",
            "zerolinecolor": "white"
           }
          },
          "shapedefaults": {
           "line": {
            "color": "#2a3f5f"
           }
          },
          "ternary": {
           "aaxis": {
            "gridcolor": "white",
            "linecolor": "white",
            "ticks": ""
           },
           "baxis": {
            "gridcolor": "white",
            "linecolor": "white",
            "ticks": ""
           },
           "bgcolor": "#E5ECF6",
           "caxis": {
            "gridcolor": "white",
            "linecolor": "white",
            "ticks": ""
           }
          },
          "title": {
           "x": 0.05
          },
          "xaxis": {
           "automargin": true,
           "gridcolor": "white",
           "linecolor": "white",
           "ticks": "",
           "title": {
            "standoff": 15
           },
           "zerolinecolor": "white",
           "zerolinewidth": 2
          },
          "yaxis": {
           "automargin": true,
           "gridcolor": "white",
           "linecolor": "white",
           "ticks": "",
           "title": {
            "standoff": 15
           },
           "zerolinecolor": "white",
           "zerolinewidth": 2
          }
         }
        }
       }
      }
     },
     "metadata": {}
    }
   ],
   "source": [
    "import plotly.graph_objects as go\n",
    "\n",
    "fig = go.Figure(data=go.Heatmap(\n",
    "                   z=new_data['retweet_count'],\n",
    "                   x=new_data['Hour_of_tweet'],\n",
    "                   y=new_data['Date'],\n",
    "                   hoverongaps = False))\n",
    "fig.show()"
   ]
  },
  {
   "cell_type": "code",
   "execution_count": 22,
   "metadata": {},
   "outputs": [
    {
     "output_type": "display_data",
     "data": {
      "application/vnd.plotly.v1+json": {
       "config": {
        "plotlyServerURL": "https://plot.ly"
       },
       "data": [
        {
         "hoverongaps": false,
         "type": "heatmap",
         "x": [
          "Tweet",
          "Tweet",
          "Tweet",
          "Re-tweet",
          "Re-tweet",
          "Tweet",
          "Re-tweet",
          "Re-tweet",
          "Re-tweet",
          "Re-tweet",
          "Tweet",
          "Tweet",
          "Re-tweet",
          "Re-tweet",
          "Re-tweet",
          "Re-tweet",
          "Tweet",
          "Tweet",
          "Tweet",
          "Tweet",
          "Re-tweet",
          "Tweet",
          "Tweet",
          "Tweet",
          "Re-tweet",
          "Re-tweet",
          "Tweet",
          "Re-tweet",
          "Tweet",
          "Re-tweet",
          "Re-tweet",
          "Re-tweet",
          "Re-tweet",
          "Re-tweet",
          "Re-tweet",
          "Re-tweet",
          "Tweet",
          "Re-tweet",
          "Tweet",
          "Tweet",
          "Tweet",
          "Re-tweet",
          "Tweet",
          "Re-tweet",
          "Re-tweet",
          "Re-tweet",
          "Tweet",
          "Re-tweet",
          "Re-tweet",
          "Re-tweet",
          "Re-tweet",
          "Re-tweet",
          "Re-tweet",
          "Re-tweet",
          "Re-tweet",
          "Re-tweet",
          "Re-tweet",
          "Re-tweet",
          "Re-tweet",
          "Re-tweet",
          "Tweet",
          "Re-tweet",
          "Re-tweet",
          "Re-tweet",
          "Re-tweet",
          "Re-tweet",
          "Re-tweet",
          "Re-tweet",
          "Re-tweet",
          "Re-tweet",
          "Re-tweet",
          "Tweet",
          "Tweet",
          "Re-tweet",
          "Tweet",
          "Re-tweet",
          "Re-tweet",
          "Re-tweet",
          "Re-tweet",
          "Re-tweet",
          "Re-tweet",
          "Re-tweet",
          "Re-tweet",
          "Re-tweet",
          "Re-tweet",
          "Re-tweet",
          "Tweet",
          "Re-tweet",
          "Re-tweet",
          "Tweet",
          "Tweet",
          "Tweet",
          "Tweet",
          "Tweet",
          "Tweet",
          "Tweet",
          "Tweet",
          "Tweet",
          "Tweet",
          "Tweet",
          "Re-tweet",
          "Tweet",
          "Re-tweet",
          "Tweet",
          "Tweet",
          "Re-tweet",
          "Re-tweet",
          "Re-tweet",
          "Re-tweet",
          "Re-tweet",
          "Tweet",
          "Tweet",
          "Re-tweet",
          "Tweet",
          "Re-tweet",
          "Re-tweet",
          "Re-tweet",
          "Re-tweet",
          "Re-tweet",
          "Re-tweet",
          "Re-tweet",
          "Re-tweet",
          "Re-tweet",
          "Tweet",
          "Tweet",
          "Re-tweet",
          "Re-tweet",
          "Tweet",
          "Tweet",
          "Re-tweet",
          "Tweet",
          "Re-tweet",
          "Re-tweet",
          "Re-tweet",
          "Re-tweet",
          "Tweet",
          "Re-tweet",
          "Tweet",
          "Tweet",
          "Tweet",
          "Re-tweet",
          "Re-tweet",
          "Re-tweet",
          "Tweet",
          "Re-tweet",
          "Re-tweet",
          "Re-tweet",
          "Re-tweet",
          "Re-tweet",
          "Tweet",
          "Re-tweet",
          "Re-tweet",
          "Re-tweet",
          "Tweet",
          "Tweet",
          "Tweet",
          "Tweet",
          "Tweet",
          "Tweet",
          "Re-tweet",
          "Re-tweet",
          "Re-tweet",
          "Re-tweet",
          "Re-tweet",
          "Re-tweet",
          "Re-tweet",
          "Re-tweet",
          "Re-tweet",
          "Re-tweet",
          "Re-tweet",
          "Re-tweet",
          "Re-tweet",
          "Re-tweet",
          "Tweet",
          "Re-tweet",
          "Re-tweet",
          "Tweet",
          "Re-tweet",
          "Re-tweet",
          "Re-tweet",
          "Re-tweet",
          "Tweet",
          "Tweet",
          "Re-tweet",
          "Re-tweet",
          "Tweet",
          "Tweet",
          "Tweet",
          "Tweet",
          "Tweet",
          "Tweet",
          "Tweet",
          "Tweet",
          "Tweet",
          "Tweet",
          "Tweet",
          "Tweet",
          "Tweet",
          "Tweet",
          "Tweet",
          "Tweet",
          "Tweet",
          "Tweet",
          "Tweet",
          "Tweet",
          "Tweet",
          "Re-tweet",
          "Re-tweet",
          "Re-tweet",
          "Re-tweet",
          "Re-tweet",
          "Re-tweet",
          "Re-tweet",
          "Re-tweet",
          "Re-tweet",
          "Re-tweet",
          "Re-tweet",
          "Re-tweet",
          "Tweet",
          "Tweet",
          "Tweet",
          "Tweet",
          "Re-tweet",
          "Re-tweet",
          "Re-tweet",
          "Tweet",
          "Tweet",
          "Tweet",
          "Re-tweet",
          "Re-tweet",
          "Re-tweet",
          "Tweet",
          "Re-tweet",
          "Tweet",
          "Tweet",
          "Tweet",
          "Tweet",
          "Tweet",
          "Tweet",
          "Tweet",
          "Re-tweet",
          "Re-tweet",
          "Re-tweet",
          "Tweet",
          "Re-tweet",
          "Tweet",
          "Re-tweet",
          "Re-tweet",
          "Re-tweet",
          "Re-tweet",
          "Re-tweet",
          "Tweet",
          "Tweet",
          "Tweet",
          "Tweet",
          "Tweet",
          "Tweet",
          "Tweet",
          "Tweet",
          "Tweet",
          "Tweet",
          "Tweet",
          "Tweet",
          "Tweet",
          "Tweet",
          "Tweet",
          "Tweet",
          "Re-tweet",
          "Tweet",
          "Tweet",
          "Tweet",
          "Tweet",
          "Tweet",
          "Re-tweet",
          "Re-tweet",
          "Tweet",
          "Re-tweet",
          "Tweet",
          "Re-tweet",
          "Re-tweet",
          "Re-tweet",
          "Tweet",
          "Re-tweet",
          "Tweet",
          "Re-tweet",
          "Re-tweet",
          "Tweet",
          "Re-tweet",
          "Re-tweet",
          "Tweet",
          "Tweet",
          "Tweet",
          "Tweet",
          "Tweet",
          "Tweet",
          "Tweet",
          "Tweet",
          "Re-tweet",
          "Re-tweet",
          "Re-tweet",
          "Re-tweet",
          "Re-tweet",
          "Tweet",
          "Re-tweet",
          "Re-tweet",
          "Re-tweet",
          "Re-tweet",
          "Tweet",
          "Tweet",
          "Tweet",
          "Tweet",
          "Re-tweet",
          "Re-tweet",
          "Tweet",
          "Tweet",
          "Tweet",
          "Tweet",
          "Tweet",
          "Re-tweet",
          "Re-tweet",
          "Re-tweet",
          "Re-tweet",
          "Re-tweet",
          "Re-tweet",
          "Re-tweet",
          "Re-tweet",
          "Re-tweet",
          "Re-tweet",
          "Re-tweet",
          "Re-tweet",
          "Re-tweet",
          "Re-tweet",
          "Re-tweet",
          "Tweet",
          "Re-tweet",
          "Tweet",
          "Tweet",
          "Tweet",
          "Tweet",
          "Tweet",
          "Tweet",
          "Re-tweet",
          "Re-tweet",
          "Tweet",
          "Tweet",
          "Tweet",
          "Tweet",
          "Re-tweet",
          "Re-tweet",
          "Tweet",
          "Tweet",
          "Tweet",
          "Re-tweet",
          "Tweet",
          "Tweet",
          "Tweet",
          "Tweet",
          "Tweet",
          "Re-tweet",
          "Re-tweet",
          "Re-tweet",
          "Re-tweet",
          "Re-tweet",
          "Re-tweet",
          "Re-tweet",
          "Re-tweet",
          "Re-tweet",
          "Re-tweet",
          "Re-tweet",
          "Re-tweet",
          "Re-tweet",
          "Tweet",
          "Tweet",
          "Re-tweet",
          "Re-tweet",
          "Re-tweet",
          "Re-tweet",
          "Tweet",
          "Re-tweet",
          "Re-tweet",
          "Tweet",
          "Re-tweet",
          "Tweet",
          "Re-tweet",
          "Re-tweet",
          "Tweet",
          "Tweet",
          "Re-tweet",
          "Tweet",
          "Re-tweet",
          "Re-tweet",
          "Re-tweet",
          "Tweet",
          "Re-tweet",
          "Re-tweet",
          "Re-tweet",
          "Re-tweet",
          "Tweet",
          "Tweet",
          "Tweet",
          "Tweet",
          "Tweet",
          "Tweet",
          "Tweet",
          "Tweet",
          "Tweet",
          "Re-tweet",
          "Re-tweet",
          "Re-tweet",
          "Re-tweet",
          "Re-tweet",
          "Re-tweet",
          "Re-tweet",
          "Re-tweet",
          "Re-tweet",
          "Re-tweet",
          "Re-tweet",
          "Re-tweet",
          "Re-tweet",
          "Re-tweet",
          "Re-tweet",
          "Re-tweet",
          "Re-tweet",
          "Re-tweet",
          "Re-tweet",
          "Re-tweet",
          "Re-tweet",
          "Re-tweet",
          "Re-tweet",
          "Re-tweet",
          "Re-tweet",
          "Re-tweet",
          "Re-tweet",
          "Re-tweet",
          "Re-tweet",
          "Tweet",
          "Tweet",
          "Tweet",
          "Re-tweet",
          "Re-tweet",
          "Re-tweet",
          "Re-tweet",
          "Re-tweet",
          "Tweet",
          "Tweet",
          "Re-tweet",
          "Tweet",
          "Re-tweet",
          "Tweet",
          "Re-tweet",
          "Re-tweet",
          "Re-tweet",
          "Re-tweet",
          "Re-tweet",
          "Re-tweet",
          "Re-tweet",
          "Re-tweet",
          "Re-tweet",
          "Tweet",
          "Tweet",
          "Tweet",
          "Tweet",
          "Tweet",
          "Tweet",
          "Tweet",
          "Tweet",
          "Tweet",
          "Tweet",
          "Tweet",
          "Tweet",
          "Tweet",
          "Tweet",
          "Tweet",
          "Re-tweet",
          "Tweet",
          "Tweet",
          "Tweet",
          "Tweet",
          "Tweet",
          "Re-tweet",
          "Re-tweet",
          "Re-tweet",
          "Re-tweet",
          "Tweet",
          "Tweet",
          "Tweet",
          "Tweet",
          "Re-tweet",
          "Tweet",
          "Re-tweet",
          "Tweet",
          "Re-tweet",
          "Tweet",
          "Tweet",
          "Tweet",
          "Tweet",
          "Tweet",
          "Tweet",
          "Tweet",
          "Tweet"
         ],
         "y": [
          "13",
          "13",
          "03",
          "23",
          "23",
          "23",
          "23",
          "23",
          "23",
          "23",
          "22",
          "22",
          "22",
          "21",
          "21",
          "21",
          "20",
          "20",
          "20",
          "15",
          "13",
          "12",
          "12",
          "12",
          "11",
          "11",
          "11",
          "11",
          "11",
          "11",
          "11",
          "04",
          "01",
          "01",
          "01",
          "00",
          "00",
          "00",
          "00",
          "00",
          "00",
          "20",
          "18",
          "16",
          "16",
          "14",
          "14",
          "13",
          "13",
          "13",
          "13",
          "12",
          "12",
          "12",
          "12",
          "12",
          "12",
          "12",
          "12",
          "12",
          "12",
          "12",
          "12",
          "12",
          "12",
          "12",
          "12",
          "12",
          "12",
          "12",
          "12",
          "12",
          "12",
          "12",
          "12",
          "12",
          "12",
          "12",
          "12",
          "12",
          "12",
          "12",
          "12",
          "12",
          "12",
          "12",
          "12",
          "12",
          "12",
          "11",
          "11",
          "11",
          "11",
          "11",
          "04",
          "04",
          "04",
          "04",
          "03",
          "03",
          "00",
          "00",
          "00",
          "00",
          "00",
          "20",
          "20",
          "20",
          "20",
          "18",
          "14",
          "14",
          "13",
          "13",
          "13",
          "13",
          "13",
          "13",
          "12",
          "12",
          "12",
          "12",
          "12",
          "04",
          "02",
          "02",
          "23",
          "20",
          "20",
          "20",
          "14",
          "14",
          "14",
          "13",
          "13",
          "13",
          "13",
          "13",
          "13",
          "12",
          "11",
          "02",
          "02",
          "02",
          "02",
          "02",
          "02",
          "02",
          "23",
          "22",
          "22",
          "22",
          "21",
          "20",
          "14",
          "13",
          "13",
          "12",
          "01",
          "01",
          "01",
          "01",
          "01",
          "01",
          "01",
          "01",
          "01",
          "01",
          "01",
          "01",
          "01",
          "01",
          "01",
          "01",
          "01",
          "01",
          "00",
          "00",
          "00",
          "00",
          "00",
          "00",
          "00",
          "00",
          "00",
          "00",
          "22",
          "21",
          "21",
          "21",
          "21",
          "18",
          "18",
          "18",
          "17",
          "16",
          "01",
          "22",
          "22",
          "22",
          "20",
          "15",
          "15",
          "14",
          "14",
          "14",
          "13",
          "13",
          "13",
          "13",
          "13",
          "13",
          "13",
          "13",
          "13",
          "13",
          "13",
          "13",
          "12",
          "12",
          "12",
          "12",
          "12",
          "12",
          "21",
          "20",
          "20",
          "19",
          "17",
          "17",
          "17",
          "14",
          "14",
          "14",
          "14",
          "14",
          "14",
          "14",
          "13",
          "13",
          "13",
          "13",
          "13",
          "13",
          "04",
          "04",
          "04",
          "04",
          "04",
          "04",
          "04",
          "04",
          "23",
          "23",
          "23",
          "23",
          "23",
          "23",
          "23",
          "23",
          "23",
          "23",
          "23",
          "23",
          "23",
          "23",
          "23",
          "21",
          "20",
          "15",
          "15",
          "15",
          "12",
          "12",
          "12",
          "12",
          "12",
          "12",
          "12",
          "12",
          "12",
          "12",
          "12",
          "12",
          "12",
          "22",
          "20",
          "17",
          "14",
          "14",
          "14",
          "14",
          "12",
          "11",
          "11",
          "11",
          "10",
          "10",
          "10",
          "10",
          "04",
          "03",
          "03",
          "03",
          "02",
          "02",
          "02",
          "20",
          "19",
          "16",
          "16",
          "14",
          "14",
          "13",
          "11",
          "10",
          "10",
          "10",
          "04",
          "04",
          "04",
          "04",
          "04",
          "04",
          "04",
          "04",
          "03",
          "03",
          "03",
          "03",
          "03",
          "03",
          "03",
          "03",
          "03",
          "03",
          "02",
          "02",
          "02",
          "01",
          "01",
          "00",
          "23",
          "20",
          "15",
          "15",
          "14",
          "14",
          "14",
          "13",
          "11",
          "01",
          "22",
          "20",
          "19",
          "19",
          "19",
          "19",
          "18",
          "18",
          "18",
          "18",
          "18",
          "18",
          "18",
          "18",
          "18",
          "18",
          "17",
          "17",
          "17",
          "16",
          "16",
          "13",
          "13",
          "13",
          "13",
          "13",
          "13",
          "13",
          "13",
          "13",
          "03",
          "02",
          "02",
          "00",
          "23",
          "21",
          "19",
          "19",
          "19",
          "19",
          "19",
          "18",
          "18",
          "18",
          "18",
          "18",
          "17",
          "17",
          "17",
          "17",
          "17",
          "16",
          "16",
          "16",
          "16",
          "16",
          "16",
          "16",
          "16",
          "16",
          "16",
          "16",
          "16",
          "16",
          "16",
          "16",
          "16",
          "16",
          "16",
          "16",
          "16",
          "16",
          "16",
          "16",
          "16",
          "16",
          "16",
          "16",
          "16",
          "16",
          "16",
          "16",
          "16",
          "15",
          "03",
          "03",
          "03",
          "03",
          "03",
          "03",
          "03",
          "03",
          "03",
          "03",
          "03",
          "03",
          "03",
          "03",
          "03",
          "03",
          "03",
          "03",
          "03",
          "01",
          "01",
          "22",
          "19",
          "17",
          "16",
          "16",
          "16",
          "16",
          "16",
          "15",
          "15",
          "15",
          "13",
          "13",
          "13",
          "02",
          "23",
          "22",
          "18",
          "18",
          "17",
          "13",
          "13",
          "22",
          "22",
          "22",
          "22",
          "20",
          "19",
          "15",
          "15",
          "15",
          "15",
          "15",
          "00",
          "23",
          "23",
          "21",
          "15",
          "14",
          "14",
          "14",
          "13",
          "02"
         ],
         "z": [
          9174,
          6934,
          10288,
          11991,
          13415,
          29030,
          3835,
          4182,
          2906,
          3690,
          9259,
          8888,
          6442,
          4616,
          5228,
          5562,
          20408,
          5722,
          10691,
          38814,
          12182,
          38620,
          20411,
          24441,
          12017,
          5340,
          18851,
          6449,
          15025,
          7509,
          6930,
          6669,
          8129,
          6113,
          8973,
          18867,
          37392,
          21012,
          10963,
          8358,
          13445,
          8391,
          16538,
          8560,
          6140,
          18058,
          44459,
          5747,
          20891,
          8641,
          19912,
          15438,
          30592,
          3629,
          18692,
          10335,
          12485,
          3711,
          5653,
          3184,
          12413,
          2819,
          2666,
          11739,
          6264,
          13133,
          6714,
          38553,
          17667,
          20160,
          35782,
          11802,
          13528,
          43006,
          54324,
          5233,
          5956,
          3630,
          3533,
          30470,
          20767,
          7180,
          5395,
          4887,
          8637,
          21802,
          13787,
          16630,
          36881,
          8084,
          19711,
          38553,
          29038,
          17667,
          20160,
          35782,
          24935,
          26985,
          43006,
          16120,
          64933,
          7748,
          64933,
          27491,
          29324,
          8446,
          12420,
          5337,
          6661,
          7336,
          14928,
          22301,
          10373,
          22901,
          4387,
          4278,
          4776,
          6892,
          6261,
          5021,
          8484,
          6377,
          10949,
          43096,
          17435,
          14055,
          8856,
          21113,
          13419,
          8043,
          12847,
          17464,
          10742,
          23392,
          15448,
          25035,
          8155,
          26229,
          32980,
          38527,
          7022,
          18068,
          21983,
          29827,
          81005,
          47632,
          43759,
          27239,
          7123,
          18068,
          7918,
          6949,
          7002,
          16179,
          47015,
          81005,
          47632,
          43759,
          27239,
          58270,
          51679,
          14128,
          21189,
          23020,
          6170,
          9403,
          6016,
          13236,
          12651,
          13489,
          12116,
          16299,
          6802,
          16258,
          11796,
          47272,
          12004,
          67230,
          4484,
          60193,
          8834,
          14340,
          13511,
          7515,
          6343,
          10088,
          32702,
          23259,
          17516,
          13744,
          24150,
          19495,
          30264,
          51679,
          9615,
          65297,
          17364,
          58270,
          60193,
          53305,
          42203,
          23328,
          34021,
          28803,
          23412,
          27462,
          4155,
          3380,
          3386,
          3767,
          2771,
          3983,
          4972,
          4430,
          3506,
          3098,
          2945,
          7295,
          11346,
          17983,
          20638,
          11225,
          3426,
          3752,
          7498,
          13785,
          9254,
          31383,
          8173,
          6361,
          5888,
          17044,
          21854,
          14475,
          34808,
          17337,
          17989,
          25381,
          28035,
          19149,
          5935,
          10569,
          20601,
          21854,
          28267,
          20601,
          8480,
          6075,
          7573,
          5875,
          5703,
          22933,
          14473,
          7890,
          14758,
          7352,
          6944,
          6695,
          6735,
          5857,
          9035,
          8775,
          5805,
          7497,
          6259,
          4735,
          9299,
          6242,
          13504,
          9233,
          11611,
          19538,
          19427,
          63009,
          35768,
          25465,
          6366,
          25123,
          5630,
          7280,
          7645,
          8862,
          5256,
          8081,
          14214,
          6903,
          15895,
          8895,
          12703,
          26226,
          16583,
          25235,
          89118,
          45655,
          13143,
          36595,
          14486,
          6895,
          5597,
          6709,
          93875,
          16976,
          29370,
          10394,
          7357,
          5413,
          7321,
          15050,
          17989,
          13619,
          25482,
          11365,
          8870,
          32981,
          35768,
          30112,
          63009,
          24145,
          92939,
          17569,
          9247,
          14521,
          9331,
          6833,
          18687,
          8703,
          8515,
          12383,
          9634,
          8753,
          10620,
          14000,
          9143,
          16634,
          7229,
          27268,
          92939,
          9247,
          17569,
          9331,
          14521,
          106393,
          6845,
          18818,
          21813,
          30575,
          18670,
          9736,
          10704,
          15816,
          106393,
          93875,
          8809,
          17434,
          48612,
          32144,
          9088,
          37945,
          10063,
          13629,
          9835,
          6321,
          8185,
          5574,
          5807,
          5531,
          7605,
          3906,
          24063,
          13390,
          7950,
          26056,
          33382,
          8788,
          17857,
          9724,
          8556,
          14672,
          16119,
          13428,
          9200,
          34244,
          14648,
          14718,
          16150,
          13428,
          11328,
          8528,
          34244,
          6710,
          7735,
          12613,
          16119,
          5729,
          22078,
          14624,
          4156,
          41756,
          19885,
          15944,
          37502,
          16150,
          14718,
          20508,
          14653,
          14000,
          6023,
          5779,
          7102,
          6268,
          6396,
          4801,
          15825,
          6373,
          12529,
          4729,
          4568,
          5269,
          3987,
          3359,
          3424,
          3377,
          3473,
          2920,
          6026,
          6529,
          5173,
          3568,
          3759,
          4668,
          3925,
          7269,
          3161,
          3061,
          5430,
          16574,
          39474,
          31216,
          33378,
          17377,
          13362,
          32825,
          13499,
          14215,
          43069,
          21153,
          11015,
          5723,
          17438,
          9147,
          6643,
          6147,
          4918,
          4614,
          4812,
          7270,
          10410,
          7002,
          18385,
          26080,
          23683,
          61770,
          31639,
          21538,
          32718,
          46992,
          42976,
          37236,
          53422,
          30225,
          88791,
          45797,
          36418,
          9274,
          99187,
          38061,
          47846,
          70262,
          23800,
          11071,
          10230,
          9673,
          9125,
          16470,
          34293,
          11852,
          18577,
          8011,
          14619,
          38907,
          20810,
          30737,
          16203,
          16830,
          32093,
          37871,
          68857,
          37977,
          31609,
          23447
         ]
        }
       ],
       "layout": {
        "template": {
         "data": {
          "bar": [
           {
            "error_x": {
             "color": "#2a3f5f"
            },
            "error_y": {
             "color": "#2a3f5f"
            },
            "marker": {
             "line": {
              "color": "#E5ECF6",
              "width": 0.5
             }
            },
            "type": "bar"
           }
          ],
          "barpolar": [
           {
            "marker": {
             "line": {
              "color": "#E5ECF6",
              "width": 0.5
             }
            },
            "type": "barpolar"
           }
          ],
          "carpet": [
           {
            "aaxis": {
             "endlinecolor": "#2a3f5f",
             "gridcolor": "white",
             "linecolor": "white",
             "minorgridcolor": "white",
             "startlinecolor": "#2a3f5f"
            },
            "baxis": {
             "endlinecolor": "#2a3f5f",
             "gridcolor": "white",
             "linecolor": "white",
             "minorgridcolor": "white",
             "startlinecolor": "#2a3f5f"
            },
            "type": "carpet"
           }
          ],
          "choropleth": [
           {
            "colorbar": {
             "outlinewidth": 0,
             "ticks": ""
            },
            "type": "choropleth"
           }
          ],
          "contour": [
           {
            "colorbar": {
             "outlinewidth": 0,
             "ticks": ""
            },
            "colorscale": [
             [
              0,
              "#0d0887"
             ],
             [
              0.1111111111111111,
              "#46039f"
             ],
             [
              0.2222222222222222,
              "#7201a8"
             ],
             [
              0.3333333333333333,
              "#9c179e"
             ],
             [
              0.4444444444444444,
              "#bd3786"
             ],
             [
              0.5555555555555556,
              "#d8576b"
             ],
             [
              0.6666666666666666,
              "#ed7953"
             ],
             [
              0.7777777777777778,
              "#fb9f3a"
             ],
             [
              0.8888888888888888,
              "#fdca26"
             ],
             [
              1,
              "#f0f921"
             ]
            ],
            "type": "contour"
           }
          ],
          "contourcarpet": [
           {
            "colorbar": {
             "outlinewidth": 0,
             "ticks": ""
            },
            "type": "contourcarpet"
           }
          ],
          "heatmap": [
           {
            "colorbar": {
             "outlinewidth": 0,
             "ticks": ""
            },
            "colorscale": [
             [
              0,
              "#0d0887"
             ],
             [
              0.1111111111111111,
              "#46039f"
             ],
             [
              0.2222222222222222,
              "#7201a8"
             ],
             [
              0.3333333333333333,
              "#9c179e"
             ],
             [
              0.4444444444444444,
              "#bd3786"
             ],
             [
              0.5555555555555556,
              "#d8576b"
             ],
             [
              0.6666666666666666,
              "#ed7953"
             ],
             [
              0.7777777777777778,
              "#fb9f3a"
             ],
             [
              0.8888888888888888,
              "#fdca26"
             ],
             [
              1,
              "#f0f921"
             ]
            ],
            "type": "heatmap"
           }
          ],
          "heatmapgl": [
           {
            "colorbar": {
             "outlinewidth": 0,
             "ticks": ""
            },
            "colorscale": [
             [
              0,
              "#0d0887"
             ],
             [
              0.1111111111111111,
              "#46039f"
             ],
             [
              0.2222222222222222,
              "#7201a8"
             ],
             [
              0.3333333333333333,
              "#9c179e"
             ],
             [
              0.4444444444444444,
              "#bd3786"
             ],
             [
              0.5555555555555556,
              "#d8576b"
             ],
             [
              0.6666666666666666,
              "#ed7953"
             ],
             [
              0.7777777777777778,
              "#fb9f3a"
             ],
             [
              0.8888888888888888,
              "#fdca26"
             ],
             [
              1,
              "#f0f921"
             ]
            ],
            "type": "heatmapgl"
           }
          ],
          "histogram": [
           {
            "marker": {
             "colorbar": {
              "outlinewidth": 0,
              "ticks": ""
             }
            },
            "type": "histogram"
           }
          ],
          "histogram2d": [
           {
            "colorbar": {
             "outlinewidth": 0,
             "ticks": ""
            },
            "colorscale": [
             [
              0,
              "#0d0887"
             ],
             [
              0.1111111111111111,
              "#46039f"
             ],
             [
              0.2222222222222222,
              "#7201a8"
             ],
             [
              0.3333333333333333,
              "#9c179e"
             ],
             [
              0.4444444444444444,
              "#bd3786"
             ],
             [
              0.5555555555555556,
              "#d8576b"
             ],
             [
              0.6666666666666666,
              "#ed7953"
             ],
             [
              0.7777777777777778,
              "#fb9f3a"
             ],
             [
              0.8888888888888888,
              "#fdca26"
             ],
             [
              1,
              "#f0f921"
             ]
            ],
            "type": "histogram2d"
           }
          ],
          "histogram2dcontour": [
           {
            "colorbar": {
             "outlinewidth": 0,
             "ticks": ""
            },
            "colorscale": [
             [
              0,
              "#0d0887"
             ],
             [
              0.1111111111111111,
              "#46039f"
             ],
             [
              0.2222222222222222,
              "#7201a8"
             ],
             [
              0.3333333333333333,
              "#9c179e"
             ],
             [
              0.4444444444444444,
              "#bd3786"
             ],
             [
              0.5555555555555556,
              "#d8576b"
             ],
             [
              0.6666666666666666,
              "#ed7953"
             ],
             [
              0.7777777777777778,
              "#fb9f3a"
             ],
             [
              0.8888888888888888,
              "#fdca26"
             ],
             [
              1,
              "#f0f921"
             ]
            ],
            "type": "histogram2dcontour"
           }
          ],
          "mesh3d": [
           {
            "colorbar": {
             "outlinewidth": 0,
             "ticks": ""
            },
            "type": "mesh3d"
           }
          ],
          "parcoords": [
           {
            "line": {
             "colorbar": {
              "outlinewidth": 0,
              "ticks": ""
             }
            },
            "type": "parcoords"
           }
          ],
          "pie": [
           {
            "automargin": true,
            "type": "pie"
           }
          ],
          "scatter": [
           {
            "marker": {
             "colorbar": {
              "outlinewidth": 0,
              "ticks": ""
             }
            },
            "type": "scatter"
           }
          ],
          "scatter3d": [
           {
            "line": {
             "colorbar": {
              "outlinewidth": 0,
              "ticks": ""
             }
            },
            "marker": {
             "colorbar": {
              "outlinewidth": 0,
              "ticks": ""
             }
            },
            "type": "scatter3d"
           }
          ],
          "scattercarpet": [
           {
            "marker": {
             "colorbar": {
              "outlinewidth": 0,
              "ticks": ""
             }
            },
            "type": "scattercarpet"
           }
          ],
          "scattergeo": [
           {
            "marker": {
             "colorbar": {
              "outlinewidth": 0,
              "ticks": ""
             }
            },
            "type": "scattergeo"
           }
          ],
          "scattergl": [
           {
            "marker": {
             "colorbar": {
              "outlinewidth": 0,
              "ticks": ""
             }
            },
            "type": "scattergl"
           }
          ],
          "scattermapbox": [
           {
            "marker": {
             "colorbar": {
              "outlinewidth": 0,
              "ticks": ""
             }
            },
            "type": "scattermapbox"
           }
          ],
          "scatterpolar": [
           {
            "marker": {
             "colorbar": {
              "outlinewidth": 0,
              "ticks": ""
             }
            },
            "type": "scatterpolar"
           }
          ],
          "scatterpolargl": [
           {
            "marker": {
             "colorbar": {
              "outlinewidth": 0,
              "ticks": ""
             }
            },
            "type": "scatterpolargl"
           }
          ],
          "scatterternary": [
           {
            "marker": {
             "colorbar": {
              "outlinewidth": 0,
              "ticks": ""
             }
            },
            "type": "scatterternary"
           }
          ],
          "surface": [
           {
            "colorbar": {
             "outlinewidth": 0,
             "ticks": ""
            },
            "colorscale": [
             [
              0,
              "#0d0887"
             ],
             [
              0.1111111111111111,
              "#46039f"
             ],
             [
              0.2222222222222222,
              "#7201a8"
             ],
             [
              0.3333333333333333,
              "#9c179e"
             ],
             [
              0.4444444444444444,
              "#bd3786"
             ],
             [
              0.5555555555555556,
              "#d8576b"
             ],
             [
              0.6666666666666666,
              "#ed7953"
             ],
             [
              0.7777777777777778,
              "#fb9f3a"
             ],
             [
              0.8888888888888888,
              "#fdca26"
             ],
             [
              1,
              "#f0f921"
             ]
            ],
            "type": "surface"
           }
          ],
          "table": [
           {
            "cells": {
             "fill": {
              "color": "#EBF0F8"
             },
             "line": {
              "color": "white"
             }
            },
            "header": {
             "fill": {
              "color": "#C8D4E3"
             },
             "line": {
              "color": "white"
             }
            },
            "type": "table"
           }
          ]
         },
         "layout": {
          "annotationdefaults": {
           "arrowcolor": "#2a3f5f",
           "arrowhead": 0,
           "arrowwidth": 1
          },
          "coloraxis": {
           "colorbar": {
            "outlinewidth": 0,
            "ticks": ""
           }
          },
          "colorscale": {
           "diverging": [
            [
             0,
             "#8e0152"
            ],
            [
             0.1,
             "#c51b7d"
            ],
            [
             0.2,
             "#de77ae"
            ],
            [
             0.3,
             "#f1b6da"
            ],
            [
             0.4,
             "#fde0ef"
            ],
            [
             0.5,
             "#f7f7f7"
            ],
            [
             0.6,
             "#e6f5d0"
            ],
            [
             0.7,
             "#b8e186"
            ],
            [
             0.8,
             "#7fbc41"
            ],
            [
             0.9,
             "#4d9221"
            ],
            [
             1,
             "#276419"
            ]
           ],
           "sequential": [
            [
             0,
             "#0d0887"
            ],
            [
             0.1111111111111111,
             "#46039f"
            ],
            [
             0.2222222222222222,
             "#7201a8"
            ],
            [
             0.3333333333333333,
             "#9c179e"
            ],
            [
             0.4444444444444444,
             "#bd3786"
            ],
            [
             0.5555555555555556,
             "#d8576b"
            ],
            [
             0.6666666666666666,
             "#ed7953"
            ],
            [
             0.7777777777777778,
             "#fb9f3a"
            ],
            [
             0.8888888888888888,
             "#fdca26"
            ],
            [
             1,
             "#f0f921"
            ]
           ],
           "sequentialminus": [
            [
             0,
             "#0d0887"
            ],
            [
             0.1111111111111111,
             "#46039f"
            ],
            [
             0.2222222222222222,
             "#7201a8"
            ],
            [
             0.3333333333333333,
             "#9c179e"
            ],
            [
             0.4444444444444444,
             "#bd3786"
            ],
            [
             0.5555555555555556,
             "#d8576b"
            ],
            [
             0.6666666666666666,
             "#ed7953"
            ],
            [
             0.7777777777777778,
             "#fb9f3a"
            ],
            [
             0.8888888888888888,
             "#fdca26"
            ],
            [
             1,
             "#f0f921"
            ]
           ]
          },
          "colorway": [
           "#636efa",
           "#EF553B",
           "#00cc96",
           "#ab63fa",
           "#FFA15A",
           "#19d3f3",
           "#FF6692",
           "#B6E880",
           "#FF97FF",
           "#FECB52"
          ],
          "font": {
           "color": "#2a3f5f"
          },
          "geo": {
           "bgcolor": "white",
           "lakecolor": "white",
           "landcolor": "#E5ECF6",
           "showlakes": true,
           "showland": true,
           "subunitcolor": "white"
          },
          "hoverlabel": {
           "align": "left"
          },
          "hovermode": "closest",
          "mapbox": {
           "style": "light"
          },
          "paper_bgcolor": "white",
          "plot_bgcolor": "#E5ECF6",
          "polar": {
           "angularaxis": {
            "gridcolor": "white",
            "linecolor": "white",
            "ticks": ""
           },
           "bgcolor": "#E5ECF6",
           "radialaxis": {
            "gridcolor": "white",
            "linecolor": "white",
            "ticks": ""
           }
          },
          "scene": {
           "xaxis": {
            "backgroundcolor": "#E5ECF6",
            "gridcolor": "white",
            "gridwidth": 2,
            "linecolor": "white",
            "showbackground": true,
            "ticks": "",
            "zerolinecolor": "white"
           },
           "yaxis": {
            "backgroundcolor": "#E5ECF6",
            "gridcolor": "white",
            "gridwidth": 2,
            "linecolor": "white",
            "showbackground": true,
            "ticks": "",
            "zerolinecolor": "white"
           },
           "zaxis": {
            "backgroundcolor": "#E5ECF6",
            "gridcolor": "white",
            "gridwidth": 2,
            "linecolor": "white",
            "showbackground": true,
            "ticks": "",
            "zerolinecolor": "white"
           }
          },
          "shapedefaults": {
           "line": {
            "color": "#2a3f5f"
           }
          },
          "ternary": {
           "aaxis": {
            "gridcolor": "white",
            "linecolor": "white",
            "ticks": ""
           },
           "baxis": {
            "gridcolor": "white",
            "linecolor": "white",
            "ticks": ""
           },
           "bgcolor": "#E5ECF6",
           "caxis": {
            "gridcolor": "white",
            "linecolor": "white",
            "ticks": ""
           }
          },
          "title": {
           "x": 0.05
          },
          "xaxis": {
           "automargin": true,
           "gridcolor": "white",
           "linecolor": "white",
           "ticks": "",
           "title": {
            "standoff": 15
           },
           "zerolinecolor": "white",
           "zerolinewidth": 2
          },
          "yaxis": {
           "automargin": true,
           "gridcolor": "white",
           "linecolor": "white",
           "ticks": "",
           "title": {
            "standoff": 15
           },
           "zerolinecolor": "white",
           "zerolinewidth": 2
          }
         }
        }
       }
      }
     },
     "metadata": {}
    }
   ],
   "source": [
    "import plotly.graph_objects as go\n",
    "\n",
    "fig = go.Figure(data=go.Heatmap(\n",
    "                   z=new_data['retweet_count'],\n",
    "                   y=new_data['Hour_of_tweet'],\n",
    "                   x=new_data['Is_retweet'],\n",
    "                   hoverongaps = False))\n",
    "fig.show()"
   ]
  }
 ],
 "metadata": {
  "language_info": {
   "name": "python",
   "codemirror_mode": {
    "name": "ipython",
    "version": 3
   },
   "version": "3.7.4-final"
  },
  "orig_nbformat": 2,
  "file_extension": ".py",
  "mimetype": "text/x-python",
  "name": "python",
  "npconvert_exporter": "python",
  "pygments_lexer": "ipython3",
  "version": 3,
  "kernelspec": {
   "name": "python37464bitanacondavirtualenv61e39aa603104a298a0f9142bd93a04f",
   "display_name": "Python 3.7.4 64-bit ('Anaconda': virtualenv)"
  }
 },
 "nbformat": 4,
 "nbformat_minor": 2
}