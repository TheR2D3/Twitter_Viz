{
 "cells": [
  {
   "cell_type": "code",
   "execution_count": 1,
   "metadata": {},
   "outputs": [],
   "source": [
    "import pandas as pd\n",
    "import numpy as np\n",
    "import tweepy"
   ]
  },
  {
   "cell_type": "code",
   "execution_count": 2,
   "metadata": {},
   "outputs": [],
   "source": [
    "# The auth methods\n",
    "auth = tweepy.OAuthHandler('PwIx3tXnoN6LNEjHMWtn2b7s2', '8vr859bsLSRyiijzMvFaACYqxnYNdLhcwTWhKEUPSrRSnrQziU')\n",
    "\n",
    "auth.set_access_token('150554502-Svlt33TXWClnGYpJ5G01SfVUYhXcEvXCaIfQW8nW', 'eiKA07ylhb5Y5dWWXTaRU09H39N8rVZMFQTOmNjD081n5')\n",
    "\n",
    "data_set = pd.DataFrame()\n",
    "data_string = []"
   ]
  },
  {
   "cell_type": "code",
   "execution_count": 3,
   "metadata": {},
   "outputs": [
    {
     "output_type": "stream",
     "name": "stdout",
     "text": "More! Baby! Yoda!\nhttps://t.co/woHHpGdd52\nLimits on coronavirus testing in Brazil are hiding the true dimensions of Latin America’s largest outbreak https://t.co/3OpjSdjOhS\nRT @toisports: #Cricket #ICC #CautionYesPanicNo #Coronavirus\n\n@ICC CEC Meet: FTP till 2023 set for revamp in wake of #Covid_19 \n\nREAD: http…\nLearn Retail Business Management during this #COVID_19 crisis. Register for ET Masterclass and get trained by exper… https://t.co/b8Xgi1VJRZ\nStop cheap politics, join hands with govt in fighting coronavirus: BJP to Congress\n\n#CoronavirusOutbreak… https://t.co/BbUlTz1gnM\nRT @timeforkids: Join Drew Willis, creative director of TIME for Kids, and his sidekick Rosie as they draw self-portraits!\n\nWatch now, and…\nIFA Berlin might be very different this year https://t.co/Bdux36FwE0\nAnother chain restaurant is giving back small business funds.\n\nAfter blowback, Kura Sushi USA chain said it will re… https://t.co/fPUhj6ICRJ\nFord Mustang Cobra Jet 1400: Electric dragster will silently slay the drag strip https://t.co/9RAfXczjd1\nRT @OfficialBHAFC: 👌 That'll do it!\n\n@nealmaupay18 is into the last eight of the #ePremierLeague Invitational thanks to four goals from @GM…\n*Stares directly into camera* https://t.co/m1TymmEn6n?\nForced to shelter with a violent family member or partner, it may be more difficult or dangerous for victims to see… https://t.co/cCy4TEGdor\nApple Music heads to Samsung TVs with new app https://t.co/uTY1m8BeEP\n“This country’s jails and prisons were not prepared to contain an outbreak of the common cold, let alone a pandemic… https://t.co/DqccHDq1oy\nApple Music is available on Samsung Smart TVs https://t.co/eTzdMmRm8g https://t.co/hV8yxRdhsB\nOpinion: Mitch McConnell’s worst idea — maybe ever https://t.co/LvxasRBI05\nWhat a performance! 🤩\n\n@OfficialBHAFC knock out @afcbournemouth with a 4-2 win, with all four of their goals coming… https://t.co/2Rc6AzgIe5\n👕👟 Prepara la roba d'esport!\n🏋️🏀 Aquesta tarda a les 19h, LIVE WORKOUT amb @PierreOriola i @cescescola a l'Instagra… https://t.co/qdLr66fQDh\nSamsung smart TVs are getting an Apple Music app https://t.co/bLutjH67UI https://t.co/AcMchBeV7N\nBefore the coronavirus pandemic brought air travel to a near standstill, airlines operated 40 daily flights from We… https://t.co/9Ubr9Ry6qu\nTake a virtual tour around the city of Tokyo 👇 https://t.co/Nb4WUErQiy\nAs countries enact lockdowns, @Pornhub has seen an uptick in traffic. Wonder why 🧐 https://t.co/JHhk2RDH45\nImagine a post- #COVID19 world where over 2.5M non-touch #insurance claims can be processed — accelerating delivery… https://t.co/ctL2HXmPlf\nWe are used to playing in empty stadiums: @DineshKarthik\nREAD: https://t.co/XJfl6phaJ5\n\n#DineshKarthik #IPL2020… https://t.co/rp8IUXlysg\nMamata Banerjee accuses governor of transgressing constitutional dharma\nhttps://t.co/rFzUbaoGGM\nApple and Google's contact-tracing effort reportedly launching earlier than expected https://t.co/ot3745co8p\nThe coronavirus pandemic has taken an incalculable death toll. We’re putting names and faces to the numbers. Here a… https://t.co/piYWACs6YO\nSome of the steps taken to help the most vulnerable... https://t.co/0ZdlmmRqaX\nDisney Plus dropped the trailer for The Mandalorian behind-the-scenes documentary https://t.co/jcsyuuctWL\n"
    }
   ],
   "source": [
    "api = tweepy.API(auth)\n",
    "\n",
    "public_tweets = api.home_timeline(count=30)\n",
    "for tweet in public_tweets:    \n",
    "    print(tweet.text)"
   ]
  },
  {
   "cell_type": "code",
   "execution_count": 12,
   "metadata": {},
   "outputs": [
    {
     "output_type": "stream",
     "name": "stdout",
     "text": "Donald J. Trump\n"
    },
    {
     "output_type": "execute_result",
     "data": {
      "text/plain": "tweepy.models.ResultSet"
     },
     "metadata": {},
     "execution_count": 12
    }
   ],
   "source": [
    "user_info = api.get_user(user_id)\n",
    "print(user_info.name)\n",
    "type(user_timeline)"
   ]
  },
  {
   "cell_type": "code",
   "execution_count": 13,
   "metadata": {},
   "outputs": [
    {
     "output_type": "execute_result",
     "data": {
      "text/plain": "['__add__',\n '__class__',\n '__contains__',\n '__delattr__',\n '__delitem__',\n '__dict__',\n '__dir__',\n '__doc__',\n '__eq__',\n '__format__',\n '__ge__',\n '__getattribute__',\n '__getitem__',\n '__gt__',\n '__hash__',\n '__iadd__',\n '__imul__',\n '__init__',\n '__init_subclass__',\n '__iter__',\n '__le__',\n '__len__',\n '__lt__',\n '__module__',\n '__mul__',\n '__ne__',\n '__new__',\n '__reduce__',\n '__reduce_ex__',\n '__repr__',\n '__reversed__',\n '__rmul__',\n '__setattr__',\n '__setitem__',\n '__sizeof__',\n '__str__',\n '__subclasshook__',\n '__weakref__',\n '_max_id',\n '_since_id',\n 'append',\n 'clear',\n 'copy',\n 'count',\n 'extend',\n 'ids',\n 'index',\n 'insert',\n 'max_id',\n 'pop',\n 'remove',\n 'reverse',\n 'since_id',\n 'sort']"
     },
     "metadata": {},
     "execution_count": 13
    }
   ],
   "source": [
    "dir(user_timeline)"
   ]
  },
  {
   "cell_type": "code",
   "execution_count": 6,
   "metadata": {},
   "outputs": [
    {
     "output_type": "stream",
     "name": "stdout",
     "text": "Woodstock-the legendary city are closedown ! #newyork #woodstock #coronavirus #covid_19 #healthy #citylife #usa #fernandacalfat #fernandacalfat27 #firefighter @ Woodstock, New York https://t.co/tHpMtThNe4Tweeted at: 2020-04-23 14:14:33\nIn related news, I have zero interest in watching James Corden hold crappy interviews over video/zoom. I get enough of that content at home during my work day, no thanks.\n#COVID19Aus #coronavirusTweeted at: 2020-04-23 14:14:33\n@willchamberlain @AlexBerenson @washingtonpost And we aren’t favoring in that #coronavirus is curing many other deaths including heart disease. https://t.co/b6XqoAAZh4Tweeted at: 2020-04-23 14:14:33\nIs it coincidence that the state with the highest Covid19 death rate are run by Democrat Governors?  #CDC #COVID19 #coronavirusTweeted at: 2020-04-23 14:14:32\n#coronavirus WTF? \nTo be taken with the usual precaution....\nhttps://t.co/UDhx5jVfaQTweeted at: 2020-04-23 14:14:28\nThe notorious nine: These world leaders responded to the coronavirus with denial, duplicity and ineptitude #COVID19 @globeandmail  https://t.co/8DhKL8h23G Everyone remembers the powerful world leaders who derided the #coronavirus threat https://t.co/R0swluO82B https://t.co/EWR3vtpH1HTweeted at: 2020-04-23 14:14:28\n@tekaldas Is this curfew still related to #coronavirus prevention measures??? now that it allows for the economy... and also Iftar parties😄Tweeted at: 2020-04-23 14:14:27\nShouldn't it be easy to prove you have had a positive test? Dr. will pay 5k for proof of positive test.  #coronavirus\nhttps://t.co/QkoSYTCmqt https://t.co/omaNFV9ZkKTweeted at: 2020-04-23 14:14:27\nBrands like @Disney should acknowledge the perspective of accusers during #coronavirus while taking action to support its defense. https://t.co/VDgkNfsxuC https://t.co/JGtenSUzNZTweeted at: 2020-04-23 14:14:23\nSomehow, #lebanon a messed-up country, teetering on the brink of economic ruin and political chaos, has done something right when it comes to the #coronavirus. https://t.co/spb4hJh7VkTweeted at: 2020-04-23 14:14:22\n@raminkarimloo my whole family got #coronavirus so we watched #thephantomoftheopera together and now we can't stop singing it... And when someone stops someone else just start - we can't leave the house so it doesn't endTweeted at: 2020-04-23 14:14:22\nIn 2016 and 2017 WHO officials warned about lack of funding, weak regulations, and member punishment for infection reporting. We were warned. #coronavirus #lockdownextension @DrTedros @KashifMD @WHO @CBCNews @AJEnglish @BBCOS @FRANCE24 https://t.co/SuG3q9veHGTweeted at: 2020-04-23 14:14:18\nAs we tackle the #coronavirus crisis it is crucial to keep global supply chains open to ensure essential items remain available for all. Our talks with India have secured the export of 2.8m units of paracetamol to the UK, highlighting the importance of the close 🇬🇧🇮🇳 relationship https://t.co/ZtFGVpN6WpTweeted at: 2020-04-23 14:14:18\n7b. News: VIDEO: DEVASTATING! Renowned French Dr. Didier Raoult DESTROYS Liberal Trump-Hating Media on VA Junk Report on Hydroxychloroquine \n\nhttps://t.co/AbH0PYUeFb \n\n#Trump #News #ShareTheNews #CoronaVirus #CURETweeted at: 2020-04-23 14:14:17\nWhat is #Coronavirus? What are its symptoms? When should You call a doctor? https://t.co/KQ9ewEwxQ6 #StayHomeStaySafe #StayConnected #StayHomeSaveLives #CoronaWillEndSoon #CoronaCrisis #COVID19 #COVID19UG #CoronaUpdate #coronavirusnews #CoronavirusOutbreak #CoronavirusPandemic https://t.co/DYctaZVxu2Tweeted at: 2020-04-23 14:14:17\nhttps://t.co/pFl7I2T576\n\nUpdated most of the page now! Just waiting on N. Ireland's update to finish updating the rest of the page. \n\nEdinburgh are slowly catching up to Glasgow in terms of the number of infections. \n\n#Scotland #Coronavirus #COVID19 https://t.co/9uJD5UZUnMTweeted at: 2020-04-23 14:14:16\n7a. News: ARTICLE: DEVASTATING! Renowned French Dr. Didier Raoult DESTROYS Liberal Trump-Hating Media on VA Junk Report on Hydroxychloroquine https://t.co/cGEbCRYtoZ #Trump #News #ShareTheNews #CoronaVirus #CURE https://t.co/Y7ISky6188Tweeted at: 2020-04-23 14:14:16\n@adam_abdelmoula @UN In this difficult moment in #Somalia there is no need to praise holy month of Ramadan, it is important that you play an active role in the ongoing crucial activities, such as what @htfsomalia performed recently.\n\n#WeNeedPerformance #Somalia #coronavirusTweeted at: 2020-04-23 14:14:16\nSo, after the #ICC meeting today, Cricket Australia says planning for T20 World Cup to proceed as scheduled... hopefully #coronavirus would be banished from the face of earth by then.Tweeted at: 2020-04-23 14:14:16\nDoctors are using AI to triage covid-19 patients. The tools may be here to stay https://t.co/6aMhmXE7Ap #Artificialintelligence #CoronavirusTweeted at: 2020-04-23 14:14:14\n"
    }
   ],
   "source": [
    "hashtag_phrase=\"#coronavirus\"\n",
    "for tweet in tweepy.Cursor(api.search, q=hashtag_phrase+' -filter:retweets', lang=\"en\", tweet_mode='extended').items(20):\n",
    "    #print(tweet.full_text.replace('\\n',' ').encode('utf-8'))\n",
    "    print(tweet.full_text + \"Tweeted at: \" + str(tweet.created_at))\n",
    "                \n",
    "                                   "
   ]
  },
  {
   "cell_type": "code",
   "execution_count": 7,
   "metadata": {
    "tags": [
     "outputPrepend"
    ]
   },
   "outputs": [
    {
     "output_type": "error",
     "ename": "NameError",
     "evalue": "name 'location' is not defined",
     "traceback": [
      "\u001b[0;31m---------------------------------------------------------------------------\u001b[0m",
      "\u001b[0;31mNameError\u001b[0m                                 Traceback (most recent call last)",
      "\u001b[0;32m<ipython-input-7-35299f52d361>\u001b[0m in \u001b[0;36m<module>\u001b[0;34m\u001b[0m\n\u001b[1;32m      1\u001b[0m \u001b[0mlocations_available\u001b[0m\u001b[0;34m=\u001b[0m \u001b[0mapi\u001b[0m\u001b[0;34m.\u001b[0m\u001b[0mtrends_available\u001b[0m\u001b[0;34m(\u001b[0m\u001b[0;34m)\u001b[0m\u001b[0;34m\u001b[0m\u001b[0;34m\u001b[0m\u001b[0m\n\u001b[0;32m----> 2\u001b[0;31m \u001b[0mprint\u001b[0m\u001b[0;34m(\u001b[0m\u001b[0mlocations_available\u001b[0m\u001b[0;34m.\u001b[0m\u001b[0m__getattribute__\u001b[0m\u001b[0;34m(\u001b[0m\u001b[0mlocation\u001b[0m\u001b[0;34m)\u001b[0m\u001b[0;34m)\u001b[0m\u001b[0;34m\u001b[0m\u001b[0;34m\u001b[0m\u001b[0m\n\u001b[0m",
      "\u001b[0;31mNameError\u001b[0m: name 'location' is not defined"
     ]
    }
   ],
   "source": [
    "locations_available= api.trends_available()\n",
    "print(locations_available.__getattribute__(location))"
   ]
  },
  {
   "cell_type": "code",
   "execution_count": 8,
   "metadata": {},
   "outputs": [
    {
     "output_type": "execute_result",
     "data": {
      "text/plain": "['__add__',\n '__class__',\n '__contains__',\n '__delattr__',\n '__delitem__',\n '__dir__',\n '__doc__',\n '__eq__',\n '__format__',\n '__ge__',\n '__getattribute__',\n '__getitem__',\n '__gt__',\n '__hash__',\n '__iadd__',\n '__imul__',\n '__init__',\n '__init_subclass__',\n '__iter__',\n '__le__',\n '__len__',\n '__lt__',\n '__mul__',\n '__ne__',\n '__new__',\n '__reduce__',\n '__reduce_ex__',\n '__repr__',\n '__reversed__',\n '__rmul__',\n '__setattr__',\n '__setitem__',\n '__sizeof__',\n '__str__',\n '__subclasshook__',\n 'append',\n 'clear',\n 'copy',\n 'count',\n 'extend',\n 'index',\n 'insert',\n 'pop',\n 'remove',\n 'reverse',\n 'sort']"
     },
     "metadata": {},
     "execution_count": 8
    }
   ],
   "source": [
    "dir(locations_available)"
   ]
  }
 ],
 "metadata": {
  "language_info": {
   "name": "python",
   "codemirror_mode": {
    "name": "ipython",
    "version": 3
   },
   "version": "3.7.4-final"
  },
  "orig_nbformat": 2,
  "file_extension": ".py",
  "mimetype": "text/x-python",
  "name": "python",
  "npconvert_exporter": "python",
  "pygments_lexer": "ipython3",
  "version": 3,
  "kernelspec": {
   "name": "python37464bitanacondavirtualenv61e39aa603104a298a0f9142bd93a04f",
   "display_name": "Python 3.7.4 64-bit ('Anaconda': virtualenv)"
  }
 },
 "nbformat": 4,
 "nbformat_minor": 2
}