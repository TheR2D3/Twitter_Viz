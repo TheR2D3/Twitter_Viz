{
 "cells": [
  {
   "cell_type": "code",
   "execution_count": 1,
   "metadata": {},
   "outputs": [],
   "source": [
    "import pandas as pd\n",
    "import numpy as np\n",
    "import tweepy"
   ]
  },
  {
   "cell_type": "code",
   "execution_count": 6,
   "metadata": {},
   "outputs": [],
   "source": [
    "# The auth methods\n",
    "auth = tweepy.OAuthHandler('PwIx3tXnoN6LNEjHMWtn2b7s2', '8vr859bsLSRyiijzMvFaACYqxnYNdLhcwTWhKEUPSrRSnrQziU')\n",
    "\n",
    "auth.set_access_token('150554502-Svlt33TXWClnGYpJ5G01SfVUYhXcEvXCaIfQW8nW', 'eiKA07ylhb5Y5dWWXTaRU09H39N8rVZMFQTOmNjD081n5')\n",
    "\n",
    "data_set = pd.DataFrame()\n",
    "data_string = []"
   ]
  },
  {
   "cell_type": "code",
   "execution_count": 7,
   "metadata": {},
   "outputs": [],
   "source": [
    "api = tweepy.API(auth)"
   ]
  },
  {
   "cell_type": "code",
   "execution_count": 12,
   "metadata": {
    "tags": [
     "outputPrepend"
    ]
   },
   "outputs": [],
   "source": [
    "#new_tweets = api.user_timeline(screen_name = 'realDonaldTrump',count=10)\n",
    "#full_tweets = new_tweets.extend()\n",
    "screen_name='realDonaldTrump'\n",
    "tweet_object = api.user_timeline(screen_name = screen_name,count=10)"
   ]
  },
  {
   "cell_type": "code",
   "execution_count": 4,
   "metadata": {},
   "outputs": [
    {
     "output_type": "error",
     "ename": "NameError",
     "evalue": "name 'tweet_object' is not defined",
     "traceback": [
      "\u001b[0;31m---------------------------------------------------------------------------\u001b[0m",
      "\u001b[0;31mNameError\u001b[0m                                 Traceback (most recent call last)",
      "\u001b[0;32m<ipython-input-4-650a28789b36>\u001b[0m in \u001b[0;36m<module>\u001b[0;34m\u001b[0m\n\u001b[1;32m      1\u001b[0m \u001b[0mtweet_list\u001b[0m\u001b[0;34m=\u001b[0m\u001b[0;34m[\u001b[0m\u001b[0;34m]\u001b[0m\u001b[0;34m\u001b[0m\u001b[0;34m\u001b[0m\u001b[0m\n\u001b[0;32m----> 2\u001b[0;31m \u001b[0;32mfor\u001b[0m \u001b[0mtweet\u001b[0m \u001b[0;32min\u001b[0m \u001b[0mtweet_object\u001b[0m\u001b[0;34m:\u001b[0m\u001b[0;34m\u001b[0m\u001b[0;34m\u001b[0m\u001b[0m\n\u001b[0m\u001b[1;32m      3\u001b[0m    \u001b[0mtweet_id\u001b[0m \u001b[0;34m=\u001b[0m \u001b[0mtweet\u001b[0m\u001b[0;34m.\u001b[0m\u001b[0mid\u001b[0m \u001b[0;31m# unique integer identifier for tweet\u001b[0m\u001b[0;34m\u001b[0m\u001b[0;34m\u001b[0m\u001b[0m\n\u001b[1;32m      4\u001b[0m    \u001b[0mtext\u001b[0m \u001b[0;34m=\u001b[0m \u001b[0mtweet\u001b[0m\u001b[0;34m.\u001b[0m\u001b[0mtext\u001b[0m \u001b[0;31m# utf-8 text of tweet\u001b[0m\u001b[0;34m\u001b[0m\u001b[0;34m\u001b[0m\u001b[0m\n\u001b[1;32m      5\u001b[0m    \u001b[0mfavorite_count\u001b[0m \u001b[0;34m=\u001b[0m \u001b[0mtweet\u001b[0m\u001b[0;34m.\u001b[0m\u001b[0mfavorite_count\u001b[0m\u001b[0;34m\u001b[0m\u001b[0;34m\u001b[0m\u001b[0m\n",
      "\u001b[0;31mNameError\u001b[0m: name 'tweet_object' is not defined"
     ]
    }
   ],
   "source": [
    "tweet_list=[]\n",
    "for tweet in tweet_object:    \n",
    "   tweet_id = tweet.id # unique integer identifier for tweet\n",
    "   text = tweet.text # utf-8 text of tweet\n",
    "   favorite_count = tweet.favorite_count\n",
    "   retweet_count = tweet.retweet_count\n",
    "   created_at = tweet.created_at # utc time tweet created\n",
    "   source = tweet.source # utility used to post tweet\n",
    "   reply_to_status = tweet.in_reply_to_status_id # if reply int of orginal tweet id\n",
    "   reply_to_user = tweet.in_reply_to_screen_name # if reply original tweetes screenname\n",
    "   retweets = tweet.retweet_count # number of times this tweet retweeted\n",
    "   favorites = tweet.favorite_count # number of time this tweet liked\n",
    "   # append attributes to list\n",
    "   tweet_list.append({'tweet_id':tweet_id, 'text':text, 'favorite_count':favorite_count,'retweet_count':retweet_count, 'created_at':created_at, 'source':source,                                        'reply_to_status':reply_to_status, 'reply_to_user':reply_to_user, 'retweets':retweets, 'favorites':favorites})\n",
    "\n",
    "    "
   ]
  },
  {
   "cell_type": "code",
   "execution_count": 14,
   "metadata": {},
   "outputs": [],
   "source": [
    "tweet_data_frame = pd.DataFrame(tweet_list, columns=['tweet_id', 'text',\n",
    "                                           'favorite_count',\n",
    "                                           'retweet_count',\n",
    "                                           'created_at',\n",
    "                                           'source',\n",
    "                                           'reply_to_status',\n",
    "                                           'reply_to_user',\n",
    "                                           'retweets',\n",
    "                                           'favorites'])"
   ]
  },
  {
   "cell_type": "code",
   "execution_count": 15,
   "metadata": {},
   "outputs": [
    {
     "output_type": "execute_result",
     "data": {
      "text/plain": "              tweet_id                                               text  \\\n0  1253690189144379392  Just spoke to President Nayib Bukele of El Sal...   \n1  1253688241947107331  Just spoke to my friend, President Joko Widodo...   \n2  1253684917038452736  Great conversation with President Lenin Moreno...   \n3  1253683467801563138  Our Country wants to move safely forward. Ther...   \n4  1253681801018605568  The Fake and totally corrupt News is after her...   \n5  1253680829580169218  RT @GeraldoRivera: If--as @VP tells me on our ...   \n6  1253680155656101897  RT @GOPChairwoman: We have a decision as to wh...   \n7  1253679957475307520               RT @realDonaldTrump: Important news!   \n8  1253679654734573570  Getting VERY good reviews of the job the Feder...   \n9  1253541777598013440  RT @DonaldJTrumpJr: After the pandemic passes ...   \n\n   favorite_count  retweet_count          created_at              source  \\\n0            6340           1418 2020-04-24 14:20:08  Twitter for iPhone   \n1           13541           2637 2020-04-24 14:12:23  Twitter for iPhone   \n2           17147           3806 2020-04-24 13:59:11  Twitter for iPhone   \n3           35065           6996 2020-04-24 13:53:25  Twitter for iPhone   \n4           18681           5741 2020-04-24 13:46:48  Twitter for iPhone   \n5               0           1568 2020-04-24 13:42:56  Twitter for iPhone   \n6               0           3613 2020-04-24 13:40:16  Twitter for iPhone   \n7               0          14971 2020-04-24 13:39:28  Twitter for iPhone   \n8           32889           6727 2020-04-24 13:38:16  Twitter for iPhone   \n9               0          25155 2020-04-24 04:30:24  Twitter for iPhone   \n\n  reply_to_status reply_to_user  retweets  favorites  \n0            None          None      1418       6340  \n1            None          None      2637      13541  \n2            None          None      3806      17147  \n3            None          None      6996      35065  \n4            None          None      5741      18681  \n5            None          None      1568          0  \n6            None          None      3613          0  \n7            None          None     14971          0  \n8            None          None      6727      32889  \n9            None          None     25155          0  ",
      "text/html": "<div>\n<style scoped>\n    .dataframe tbody tr th:only-of-type {\n        vertical-align: middle;\n    }\n\n    .dataframe tbody tr th {\n        vertical-align: top;\n    }\n\n    .dataframe thead th {\n        text-align: right;\n    }\n</style>\n<table border=\"1\" class=\"dataframe\">\n  <thead>\n    <tr style=\"text-align: right;\">\n      <th></th>\n      <th>tweet_id</th>\n      <th>text</th>\n      <th>favorite_count</th>\n      <th>retweet_count</th>\n      <th>created_at</th>\n      <th>source</th>\n      <th>reply_to_status</th>\n      <th>reply_to_user</th>\n      <th>retweets</th>\n      <th>favorites</th>\n    </tr>\n  </thead>\n  <tbody>\n    <tr>\n      <td>0</td>\n      <td>1253690189144379392</td>\n      <td>Just spoke to President Nayib Bukele of El Sal...</td>\n      <td>6340</td>\n      <td>1418</td>\n      <td>2020-04-24 14:20:08</td>\n      <td>Twitter for iPhone</td>\n      <td>None</td>\n      <td>None</td>\n      <td>1418</td>\n      <td>6340</td>\n    </tr>\n    <tr>\n      <td>1</td>\n      <td>1253688241947107331</td>\n      <td>Just spoke to my friend, President Joko Widodo...</td>\n      <td>13541</td>\n      <td>2637</td>\n      <td>2020-04-24 14:12:23</td>\n      <td>Twitter for iPhone</td>\n      <td>None</td>\n      <td>None</td>\n      <td>2637</td>\n      <td>13541</td>\n    </tr>\n    <tr>\n      <td>2</td>\n      <td>1253684917038452736</td>\n      <td>Great conversation with President Lenin Moreno...</td>\n      <td>17147</td>\n      <td>3806</td>\n      <td>2020-04-24 13:59:11</td>\n      <td>Twitter for iPhone</td>\n      <td>None</td>\n      <td>None</td>\n      <td>3806</td>\n      <td>17147</td>\n    </tr>\n    <tr>\n      <td>3</td>\n      <td>1253683467801563138</td>\n      <td>Our Country wants to move safely forward. Ther...</td>\n      <td>35065</td>\n      <td>6996</td>\n      <td>2020-04-24 13:53:25</td>\n      <td>Twitter for iPhone</td>\n      <td>None</td>\n      <td>None</td>\n      <td>6996</td>\n      <td>35065</td>\n    </tr>\n    <tr>\n      <td>4</td>\n      <td>1253681801018605568</td>\n      <td>The Fake and totally corrupt News is after her...</td>\n      <td>18681</td>\n      <td>5741</td>\n      <td>2020-04-24 13:46:48</td>\n      <td>Twitter for iPhone</td>\n      <td>None</td>\n      <td>None</td>\n      <td>5741</td>\n      <td>18681</td>\n    </tr>\n    <tr>\n      <td>5</td>\n      <td>1253680829580169218</td>\n      <td>RT @GeraldoRivera: If--as @VP tells me on our ...</td>\n      <td>0</td>\n      <td>1568</td>\n      <td>2020-04-24 13:42:56</td>\n      <td>Twitter for iPhone</td>\n      <td>None</td>\n      <td>None</td>\n      <td>1568</td>\n      <td>0</td>\n    </tr>\n    <tr>\n      <td>6</td>\n      <td>1253680155656101897</td>\n      <td>RT @GOPChairwoman: We have a decision as to wh...</td>\n      <td>0</td>\n      <td>3613</td>\n      <td>2020-04-24 13:40:16</td>\n      <td>Twitter for iPhone</td>\n      <td>None</td>\n      <td>None</td>\n      <td>3613</td>\n      <td>0</td>\n    </tr>\n    <tr>\n      <td>7</td>\n      <td>1253679957475307520</td>\n      <td>RT @realDonaldTrump: Important news!</td>\n      <td>0</td>\n      <td>14971</td>\n      <td>2020-04-24 13:39:28</td>\n      <td>Twitter for iPhone</td>\n      <td>None</td>\n      <td>None</td>\n      <td>14971</td>\n      <td>0</td>\n    </tr>\n    <tr>\n      <td>8</td>\n      <td>1253679654734573570</td>\n      <td>Getting VERY good reviews of the job the Feder...</td>\n      <td>32889</td>\n      <td>6727</td>\n      <td>2020-04-24 13:38:16</td>\n      <td>Twitter for iPhone</td>\n      <td>None</td>\n      <td>None</td>\n      <td>6727</td>\n      <td>32889</td>\n    </tr>\n    <tr>\n      <td>9</td>\n      <td>1253541777598013440</td>\n      <td>RT @DonaldJTrumpJr: After the pandemic passes ...</td>\n      <td>0</td>\n      <td>25155</td>\n      <td>2020-04-24 04:30:24</td>\n      <td>Twitter for iPhone</td>\n      <td>None</td>\n      <td>None</td>\n      <td>25155</td>\n      <td>0</td>\n    </tr>\n  </tbody>\n</table>\n</div>"
     },
     "metadata": {},
     "execution_count": 15
    }
   ],
   "source": [
    "tweet_data_frame"
   ]
  },
  {
   "cell_type": "code",
   "execution_count": 6,
   "metadata": {},
   "outputs": [
    {
     "output_type": "stream",
     "name": "stdout",
     "text": "Sign up for email updates from New York State on #Coronavirus: https://t.co/ehrgNI3avoTweeted at: 2020-04-23 17:24:04\nShe gets it. If only Armin #Laschet would. #Laschetfordert #coronavirus https://t.co/FHc6IL0l2xTweeted at: 2020-04-23 17:24:04\nClay County posts 12th #coronavirus death via @DrewDixon30 https://t.co/Xw55lgIyeR #FlaPol https://t.co/7WQwOQhtGCTweeted at: 2020-04-23 17:24:04\nInstagram Working On ‘Memorialized Account’ Feature as COVID Deaths Rise https://t.co/SfO9AQXrCU #Culture #News #coronavirus https://t.co/rbamH0I1WnTweeted at: 2020-04-23 17:24:03\n@AriFleischer POTUS clearly said it was the types of businesses GA was allowing. #COVID19 #coronavirus #thursdayvibesTweeted at: 2020-04-23 17:24:02\n#Options Flow Grid Update $GILD #OptionsTrading #Gilead Sciences Shares Down 6.91% to $75.69 #HealthTech #healthcare #drug #drugs #manufacturers #stocks #StockMarket #stockstowatch #StocksToTrade #stock #StockTrading #coronavirus #CoronavirusPandemic https://t.co/5JE2nlalc3 https://t.co/aCj5wcSP4UTweeted at: 2020-04-23 17:24:02\nThis data though. A lot of new cases in a weeks times. \n\n#Covid_19\n#coronavirus\n#WeAreCPUT\n#WeAreCPUTMedia https://t.co/ZfuU3Ixy9ATweeted at: 2020-04-23 17:24:00\n@GovKemp says:\n\"Welcome #Georgians to our little shops of Horror\".\n#Georgia\n#Atlanta\n#coronavirus \n#Phase1 https://t.co/wUSOMKxfe3Tweeted at: 2020-04-23 17:23:58\nSo humbling ! #coronavirus #lockdownextension https://t.co/MMkP4aP87WTweeted at: 2020-04-23 17:23:58\nDon't forget the Chinese doctor who first warned about #coronavirus and was threatened, attacked, smeared, made to sign a confession, silenced, isolated and then died after being infected while trying to help others.\n\nChina did all of this. #ChineseVirus . https://t.co/dxCdX1uW0rTweeted at: 2020-04-23 17:23:57\n#JUSTIN || One death and 27 new #coronavirus #Covid_19 cases recorded in #Telangana today. Total no of cases mounts to 970 of which 693 are active cases. 58 patients were discharged today. @amjedmbt @HiHyderabadTweeted at: 2020-04-23 17:23:53\nCoronavirus: US unemployment figures skyrocket to 26 million #Coronavirus https://t.co/k3nToD4JroTweeted at: 2020-04-23 17:23:53\nPolice are reporting a spike in domestic violence calls since shelter-in-place orders began. If you or someone you know needs to speak with someone or get help with other services, contact the 24 hour #Georgia Crisis and Access Line. #fox5atl #COVID19 #coronavirus #MentalHealth https://t.co/ELbp0lUwZrTweeted at: 2020-04-23 17:23:52\nFirst responders honor healthcare workers in parade of vehicles through hospital’s campus #coronavirus  https://t.co/Uk9NQRlj0nTweeted at: 2020-04-23 17:23:52\nThe first human trial in Europe of a coronavirus vaccine has begun in Oxford.\nhttps://t.co/tZdhexJp3G\n#coronavirus #CoronaVaccine #COVID19 #COVID19LKTweeted at: 2020-04-23 17:23:51\nDeleting tweets because someone pointed out all the propaganda running on netflix and other sites by the #deepstate right now. The #coronavirus is making people think irrationally. Calm down and pay attention. https://t.co/e3qodwP66dTweeted at: 2020-04-23 17:23:49\ncredit: @nasw...\n #NASW supports expanding paid emergency leave to allow workers to recover from illness or care for loved ones. The latest #coronavirus response act left millions of frontline workers from getting… https://t.co/05OTTZ2FQxTweeted at: 2020-04-23 17:23:48\n@atrupar How pathetic! They should be helping burying the dead from #coronavirus ! https://t.co/OjXEBqxP7CTweeted at: 2020-04-23 17:23:47\n#CoronavirusPandemic #coronavirus #chicagoIL Looks like Illinois is extended until the end of May\nhttps://t.co/125D1YusEcTweeted at: 2020-04-23 17:23:47\nCheck out this article I was featured in where I share my take on how companies can adapt to a digital workplace during COVID-19.  \n\nHow do you think companies can best adapt to a digital workplace? \n\n#wfh #workfromhome #covid19 #coronavirus #careercoach\n\nhttps://t.co/C9njhsR4CNTweeted at: 2020-04-23 17:23:47\n"
    }
   ],
   "source": [
    "hashtag_phrase=\"#coronavirus\"\n",
    "for tweet in tweepy.Cursor(api.search, q=hashtag_phrase+' -filter:retweets', lang=\"en\", tweet_mode='extended').items(20):\n",
    "    #print(tweet.full_text.replace('\\n',' ').encode('utf-8'))\n",
    "    print(tweet.full_text + \"Tweeted at: \" + str(tweet.created_at))               \n",
    "                                   "
   ]
  },
  {
   "cell_type": "code",
   "execution_count": 1,
   "metadata": {},
   "outputs": [
    {
     "output_type": "stream",
     "name": "stdout",
     "text": "Welcome!\n"
    }
   ],
   "source": [
    "print(\"Welcome!\")"
   ]
  },
  {
   "cell_type": "code",
   "execution_count": 1,
   "metadata": {},
   "outputs": [
    {
     "output_type": "stream",
     "name": "stderr",
     "text": "[nltk_data] Downloading package stopwords to /home/ubuntu/nltk_data...\n[nltk_data]   Package stopwords is already up-to-date!\n"
    }
   ],
   "source": [
    "import pandas as pd\n",
    "import numpy as np\n",
    "import tweepy\n",
    "from dataframe_populator_rough import dataframe_populator\n",
    "\n",
    "my_temp_dataset = dataframe_populator('realDonaldTrump')\n"
   ]
  },
  {
   "cell_type": "code",
   "execution_count": 2,
   "metadata": {},
   "outputs": [
    {
     "output_type": "execute_result",
     "data": {
      "text/plain": "              Tweet_id                                              Tweet  \\\n0  1253731120811839488  RT @HouseGOP: 🚨 President Trump just signed th...   \n1  1253731010665230336  RT @FinancialCmte: #BREAKING: President @RealD...   \n2  1253730946752413696  RT @SenateGOP: ✓ SIGNED\\n\\nPresident @realdona...   \n3  1253700113383534598  Great conversation with President Lenin Moreno...   \n4  1253700072895848449  RT @realDonaldTrump: Getting VERY good reviews...   \n5  1253699994516946945  Just spoke to President Juan Orlando Hernandez...   \n6  1253697625573990400  Great News! Randall Stephenson, the CEO of hea...   \n7  1253695275585220608  I (or @VP) never gave Governor Brian Kemp an O...   \n8  1253690189144379392  Just spoke to President Nayib Bukele of El Sal...   \n9  1253688241947107331  Just spoke to my friend, President Joko Widodo...   \n\n   Favorite_count  Retweet_count          Created_at              Source  \\\n0               0           2125 2020-04-24 17:02:47  Twitter for iPhone   \n1               0           1621 2020-04-24 17:02:20  Twitter for iPhone   \n2               0           1632 2020-04-24 17:02:05  Twitter for iPhone   \n3           39159           8753 2020-04-24 14:59:34  Twitter for iPhone   \n4               0          14246 2020-04-24 14:59:24  Twitter for iPhone   \n5           38266           7971 2020-04-24 14:59:05  Twitter for iPhone   \n6           69109          19194 2020-04-24 14:49:41  Twitter for iPhone   \n7           43538          10237 2020-04-24 14:40:20  Twitter for iPhone   \n8           55617          11067 2020-04-24 14:20:08  Twitter for iPhone   \n9           66386          13034 2020-04-24 14:12:23  Twitter for iPhone   \n\n  Reply_to_status Reply_to_user  Retweets  Favorites  \\\n0            None          None      2125          0   \n1            None          None      1621          0   \n2            None          None      1632          0   \n3            None          None      8753      39159   \n4            None          None     14246          0   \n5            None          None      7971      38266   \n6            None          None     19194      69109   \n7            None          None     10237      43538   \n8            None          None     11067      55617   \n9            None          None     13034      66386   \n\n                                           No_emojis  \\\n0  RT @HouseGOP:  President Trump just signed the...   \n1  RT @FinancialCmte: #BREAKING: President @RealD...   \n2  RT @SenateGOP:  SIGNED\\n\\nPresident @realdonal...   \n3  Great conversation with President Lenin Moreno...   \n4  RT @realDonaldTrump: Getting VERY good reviews...   \n5  Just spoke to President Juan Orlando Hernandez...   \n6  Great News! Randall Stephenson, the CEO of hea...   \n7  I (or @VP) never gave Governor Brian Kemp an O...   \n8  Just spoke to President Nayib Bukele of El Sal...   \n9  Just spoke to my friend, President Joko Widodo...   \n\n                                        Cleaned_text  \\\n0     president trump just signed the paycheck pr...   \n1    breaking president  just signed legislation ...   \n2     signedpresident  just signed phase  of coro...   \n3  great conversation with president lenin moreno...   \n4    getting very good reviews of the job the fed...   \n5  just spoke to president juan orlando hernandez...   \n6  great news randall stephenson the ceo of heavi...   \n7  i or  never gave governor brian kemp an ok on ...   \n8  just spoke to president nayib bukele of el sal...   \n9  just spoke to my friend president joko widodo ...   \n\n                                      Stemmed_review  Sentiment  \n0  president trump signed paycheck protection pro...   0.000000  \n1  breaking president signed legislation support ...   0.000000  \n2  signedpresident signed phase coronavirus relie...   0.000000  \n3  great conversation president lenin moreno repu...   0.100000  \n4  getting good reviews job federal government co...   0.700000  \n5  spoke president juan orlando hernandez republi...   0.000000  \n6  great news randall stephenson ceo heavily inde...   0.033333  \n7  never gave governor brian kemp ok businesses o...   0.000000  \n8  spoke president nayib bukele el salvador helpi...  -0.600000  \n9  spoke friend president joko widodo republic in...   0.000000  ",
      "text/html": "<div>\n<style scoped>\n    .dataframe tbody tr th:only-of-type {\n        vertical-align: middle;\n    }\n\n    .dataframe tbody tr th {\n        vertical-align: top;\n    }\n\n    .dataframe thead th {\n        text-align: right;\n    }\n</style>\n<table border=\"1\" class=\"dataframe\">\n  <thead>\n    <tr style=\"text-align: right;\">\n      <th></th>\n      <th>Tweet_id</th>\n      <th>Tweet</th>\n      <th>Favorite_count</th>\n      <th>Retweet_count</th>\n      <th>Created_at</th>\n      <th>Source</th>\n      <th>Reply_to_status</th>\n      <th>Reply_to_user</th>\n      <th>Retweets</th>\n      <th>Favorites</th>\n      <th>No_emojis</th>\n      <th>Cleaned_text</th>\n      <th>Stemmed_review</th>\n      <th>Sentiment</th>\n    </tr>\n  </thead>\n  <tbody>\n    <tr>\n      <td>0</td>\n      <td>1253731120811839488</td>\n      <td>RT @HouseGOP: 🚨 President Trump just signed th...</td>\n      <td>0</td>\n      <td>2125</td>\n      <td>2020-04-24 17:02:47</td>\n      <td>Twitter for iPhone</td>\n      <td>None</td>\n      <td>None</td>\n      <td>2125</td>\n      <td>0</td>\n      <td>RT @HouseGOP:  President Trump just signed the...</td>\n      <td>president trump just signed the paycheck pr...</td>\n      <td>president trump signed paycheck protection pro...</td>\n      <td>0.000000</td>\n    </tr>\n    <tr>\n      <td>1</td>\n      <td>1253731010665230336</td>\n      <td>RT @FinancialCmte: #BREAKING: President @RealD...</td>\n      <td>0</td>\n      <td>1621</td>\n      <td>2020-04-24 17:02:20</td>\n      <td>Twitter for iPhone</td>\n      <td>None</td>\n      <td>None</td>\n      <td>1621</td>\n      <td>0</td>\n      <td>RT @FinancialCmte: #BREAKING: President @RealD...</td>\n      <td>breaking president  just signed legislation ...</td>\n      <td>breaking president signed legislation support ...</td>\n      <td>0.000000</td>\n    </tr>\n    <tr>\n      <td>2</td>\n      <td>1253730946752413696</td>\n      <td>RT @SenateGOP: ✓ SIGNED\\n\\nPresident @realdona...</td>\n      <td>0</td>\n      <td>1632</td>\n      <td>2020-04-24 17:02:05</td>\n      <td>Twitter for iPhone</td>\n      <td>None</td>\n      <td>None</td>\n      <td>1632</td>\n      <td>0</td>\n      <td>RT @SenateGOP:  SIGNED\\n\\nPresident @realdonal...</td>\n      <td>signedpresident  just signed phase  of coro...</td>\n      <td>signedpresident signed phase coronavirus relie...</td>\n      <td>0.000000</td>\n    </tr>\n    <tr>\n      <td>3</td>\n      <td>1253700113383534598</td>\n      <td>Great conversation with President Lenin Moreno...</td>\n      <td>39159</td>\n      <td>8753</td>\n      <td>2020-04-24 14:59:34</td>\n      <td>Twitter for iPhone</td>\n      <td>None</td>\n      <td>None</td>\n      <td>8753</td>\n      <td>39159</td>\n      <td>Great conversation with President Lenin Moreno...</td>\n      <td>great conversation with president lenin moreno...</td>\n      <td>great conversation president lenin moreno repu...</td>\n      <td>0.100000</td>\n    </tr>\n    <tr>\n      <td>4</td>\n      <td>1253700072895848449</td>\n      <td>RT @realDonaldTrump: Getting VERY good reviews...</td>\n      <td>0</td>\n      <td>14246</td>\n      <td>2020-04-24 14:59:24</td>\n      <td>Twitter for iPhone</td>\n      <td>None</td>\n      <td>None</td>\n      <td>14246</td>\n      <td>0</td>\n      <td>RT @realDonaldTrump: Getting VERY good reviews...</td>\n      <td>getting very good reviews of the job the fed...</td>\n      <td>getting good reviews job federal government co...</td>\n      <td>0.700000</td>\n    </tr>\n    <tr>\n      <td>5</td>\n      <td>1253699994516946945</td>\n      <td>Just spoke to President Juan Orlando Hernandez...</td>\n      <td>38266</td>\n      <td>7971</td>\n      <td>2020-04-24 14:59:05</td>\n      <td>Twitter for iPhone</td>\n      <td>None</td>\n      <td>None</td>\n      <td>7971</td>\n      <td>38266</td>\n      <td>Just spoke to President Juan Orlando Hernandez...</td>\n      <td>just spoke to president juan orlando hernandez...</td>\n      <td>spoke president juan orlando hernandez republi...</td>\n      <td>0.000000</td>\n    </tr>\n    <tr>\n      <td>6</td>\n      <td>1253697625573990400</td>\n      <td>Great News! Randall Stephenson, the CEO of hea...</td>\n      <td>69109</td>\n      <td>19194</td>\n      <td>2020-04-24 14:49:41</td>\n      <td>Twitter for iPhone</td>\n      <td>None</td>\n      <td>None</td>\n      <td>19194</td>\n      <td>69109</td>\n      <td>Great News! Randall Stephenson, the CEO of hea...</td>\n      <td>great news randall stephenson the ceo of heavi...</td>\n      <td>great news randall stephenson ceo heavily inde...</td>\n      <td>0.033333</td>\n    </tr>\n    <tr>\n      <td>7</td>\n      <td>1253695275585220608</td>\n      <td>I (or @VP) never gave Governor Brian Kemp an O...</td>\n      <td>43538</td>\n      <td>10237</td>\n      <td>2020-04-24 14:40:20</td>\n      <td>Twitter for iPhone</td>\n      <td>None</td>\n      <td>None</td>\n      <td>10237</td>\n      <td>43538</td>\n      <td>I (or @VP) never gave Governor Brian Kemp an O...</td>\n      <td>i or  never gave governor brian kemp an ok on ...</td>\n      <td>never gave governor brian kemp ok businesses o...</td>\n      <td>0.000000</td>\n    </tr>\n    <tr>\n      <td>8</td>\n      <td>1253690189144379392</td>\n      <td>Just spoke to President Nayib Bukele of El Sal...</td>\n      <td>55617</td>\n      <td>11067</td>\n      <td>2020-04-24 14:20:08</td>\n      <td>Twitter for iPhone</td>\n      <td>None</td>\n      <td>None</td>\n      <td>11067</td>\n      <td>55617</td>\n      <td>Just spoke to President Nayib Bukele of El Sal...</td>\n      <td>just spoke to president nayib bukele of el sal...</td>\n      <td>spoke president nayib bukele el salvador helpi...</td>\n      <td>-0.600000</td>\n    </tr>\n    <tr>\n      <td>9</td>\n      <td>1253688241947107331</td>\n      <td>Just spoke to my friend, President Joko Widodo...</td>\n      <td>66386</td>\n      <td>13034</td>\n      <td>2020-04-24 14:12:23</td>\n      <td>Twitter for iPhone</td>\n      <td>None</td>\n      <td>None</td>\n      <td>13034</td>\n      <td>66386</td>\n      <td>Just spoke to my friend, President Joko Widodo...</td>\n      <td>just spoke to my friend president joko widodo ...</td>\n      <td>spoke friend president joko widodo republic in...</td>\n      <td>0.000000</td>\n    </tr>\n  </tbody>\n</table>\n</div>"
     },
     "metadata": {},
     "execution_count": 2
    }
   ],
   "source": [
    "my_temp_dataset"
   ]
  },
  {
   "cell_type": "code",
   "execution_count": 3,
   "metadata": {},
   "outputs": [],
   "source": [
    "my_temp_dataset.to_csv('stemmed_senti.csv')"
   ]
  }
 ],
 "metadata": {
  "language_info": {
   "name": "python",
   "codemirror_mode": {
    "name": "ipython",
    "version": 3
   },
   "version": "3.7.4-final"
  },
  "orig_nbformat": 2,
  "file_extension": ".py",
  "mimetype": "text/x-python",
  "name": "python",
  "npconvert_exporter": "python",
  "pygments_lexer": "ipython3",
  "version": 3,
  "kernelspec": {
   "name": "python37464bitanacondavirtualenv61e39aa603104a298a0f9142bd93a04f",
   "display_name": "Python 3.7.4 64-bit ('Anaconda': virtualenv)"
  }
 },
 "nbformat": 4,
 "nbformat_minor": 2
}