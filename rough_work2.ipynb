{
 "nbformat": 4,
 "nbformat_minor": 2,
 "metadata": {
  "language_info": {
   "name": "python",
   "codemirror_mode": {
    "name": "ipython",
    "version": 3
   },
   "version": "3.7.4-final"
  },
  "orig_nbformat": 2,
  "file_extension": ".py",
  "mimetype": "text/x-python",
  "name": "python",
  "npconvert_exporter": "python",
  "pygments_lexer": "ipython3",
  "version": 3,
  "kernelspec": {
   "name": "python37464bitanacondavirtualenv61e39aa603104a298a0f9142bd93a04f",
   "display_name": "Python 3.7.4 64-bit ('Anaconda': virtualenv)"
  }
 },
 "cells": [
  {
   "cell_type": "code",
   "execution_count": 5,
   "metadata": {},
   "outputs": [],
   "source": [
    "import pandas as pd\n",
    "import numpy as np\n",
    "import tweepy"
   ]
  },
  {
   "cell_type": "code",
   "execution_count": 6,
   "metadata": {},
   "outputs": [],
   "source": [
    "# The auth methods\n",
    "auth = tweepy.OAuthHandler('PwIx3tXnoN6LNEjHMWtn2b7s2', '8vr859bsLSRyiijzMvFaACYqxnYNdLhcwTWhKEUPSrRSnrQziU')\n",
    "\n",
    "auth.set_access_token('150554502-Svlt33TXWClnGYpJ5G01SfVUYhXcEvXCaIfQW8nW', 'eiKA07ylhb5Y5dWWXTaRU09H39N8rVZMFQTOmNjD081n5')\n",
    "\n",
    "data_set = pd.DataFrame()\n",
    "data_string = []"
   ]
  },
  {
   "cell_type": "code",
   "execution_count": 8,
   "metadata": {},
   "outputs": [
    {
     "output_type": "stream",
     "name": "stdout",
     "text": "Meet the Upscalers https://t.co/faw13iId5J https://t.co/b2WoiF4UBn\n43 new #COVID19 positive cases &amp; 2 deaths reported today, taking the total number of positive cases in Tamil Nadu t… https://t.co/4pwnV1SdAP\nThere has been no confrontation between state govt &amp; Centre. Kerala is following directions issued by Centre. Barbe… https://t.co/Qwqm3I3AYi\nRevenge has been at the heart of drama since the ancient Greeks. The current wave, @rachelsllloyd tells “The Intell… https://t.co/oBZYhFeQDF\nJames Goodrich, a pioneering neurosurgeon, was renowned for developing a method that could separate twins who were… https://t.co/Opxs14k6DP\nThis is what a socially-distanced protest looks like https://t.co/wDYqlZY1ph https://t.co/U4ZTWLT93R\nYou won't need to sing \"happy birthday\" out loud any more with this Galaxy Watch app\n\nhttps://t.co/XrVe37crEO\nStraight-talking, as always 💪\n\n#F1\n\nhttps://t.co/jdmYQrb7Xn\nShelves upon shelves of OTC medications can make it hard to choose, but doctors break it down ⬇️ https://t.co/Fotlk2UEDP\nNurses from the Philippines and other developing countries have long made up for shortages in Western nations. Now… https://t.co/pELVT8T9W9\nA Michigan inmate who spent 44 years in prison died from Covid-19 weeks before he was to be released on parole.\n\nTh… https://t.co/LKVNLSKjDi\nBritish populists ridiculed experts, made up data and fetishised disruption. The covid-19 crisis has demonstrated t… https://t.co/Jr4Dqvu2N5\nAny extension would require an entirely new treaty, which might have to be ratified by all EU parliaments, a tortuo… https://t.co/Jb3r2jVxgF\nThe current drought in one of North America's driest areas has lasted 19 years so far https://t.co/xhUBXnkMcD\nStates can take stricter action but can't dilute Centre's lockdown guidelines: MHA \n\nThe ministry also wrote to the… https://t.co/pHZO0r5aYe\nThe #COVID19 congestion continues to amplify — at-home internet consumption is up 90% in pandemic-ravaged areas, wi… https://t.co/0PGGeaIeIW\n30 new #Coronavirus positive cases reported today in Dharavi. The total number of positive cases in the area increa… https://t.co/m6xL1vzfUq\nNations credited with fast response to coronavirus moving to gradually reopen businesses https://t.co/izNqV4JsNG\nTwo BMC employees posted in the Disaster Management Department of BMC have tested positive for #COVID19. Both were… https://t.co/yMp7I3A79o\nBolly Buzz: From #KanganaRanaut to #VarunDhawan these actors made headlines today\n\nVia @etimes \nhttps://t.co/gcftbVZUDK\nUber launches new delivery services as demand for ride-hailing plummets https://t.co/4Jti0azpAz https://t.co/V1pHFsjUP6\nPronto se van a cumplir 10 años de un gol muy especial ⚽😉 Lo podréis ver gratis, EN TRES DÍAS, en mi documental \"An… https://t.co/LlCdCAyrfe\nKiwi for Gmail 2 review: A better way to experience G Suite on your Mac https://t.co/OvJ89rm22R https://t.co/HEc4rsMiqh\nもうすぐ特別なゴールをマークしてから10年が経ちます⚽️😉今週の木曜日から私のドキュメンタリー「アンドレス・イニエスター誕生の秘密ー」でご覧下さい。 @rakutentv_japan のみで公開👍… https://t.co/QqZ3JHmWiO\nA Wisconsin creamery is keeping a refrigerator outside of its store fully stocked with free milk and other dairy pr… https://t.co/dLuSCPZYJO\nMake all Coronavirus-related equipment GST-free: Rahul Gandhi\n\n\"During this difficult time of Covid-19, we've been… https://t.co/wxlcdCsLWH\n💪🔋 Workout tips from @Gatorade Sports Nutrition &amp; Hydration! #makethedayscount https://t.co/hicVqcmbTx\n🏋️‍♂️ The #CulersAtHome WORKOUT OF THE WEEK!\n\n🔵🔴 Developed by Barça coaches and @BarcaInnoHub \n\n🤷‍♂️ How to do each… https://t.co/0JCbTKdALP\nAnalysis: President Trump wants to return to \"normal.\" That will be harder than he thinks, say scientists, doctors… https://t.co/gtwwO5dgds\nV good initiative https://t.co/UNMQ7TRv1o\n"
    }
   ],
   "source": [
    "api = tweepy.API(auth)\n",
    "\n",
    "public_tweets = api.home_timeline(count=30)\n",
    "for tweet in public_tweets:    \n",
    "    print(tweet.text)"
   ]
  },
  {
   "cell_type": "code",
   "execution_count": 13,
   "metadata": {},
   "outputs": [
    {
     "output_type": "error",
     "ename": "TypeError",
     "evalue": "'ResultSet' object is not callable",
     "traceback": [
      "\u001b[0;31m---------------------------------------------------------------------------\u001b[0m",
      "\u001b[0;31mTypeError\u001b[0m                                 Traceback (most recent call last)",
      "\u001b[0;32m<ipython-input-13-00cce96e508c>\u001b[0m in \u001b[0;36m<module>\u001b[0;34m\u001b[0m\n\u001b[1;32m      2\u001b[0m \u001b[0muser_timeline\u001b[0m \u001b[0;34m=\u001b[0m \u001b[0mapi\u001b[0m\u001b[0;34m.\u001b[0m\u001b[0muser_timeline\u001b[0m\u001b[0;34m(\u001b[0m\u001b[0muser_id\u001b[0m\u001b[0;34m)\u001b[0m\u001b[0;34m\u001b[0m\u001b[0;34m\u001b[0m\u001b[0m\n\u001b[1;32m      3\u001b[0m \u001b[0;34m\u001b[0m\u001b[0m\n\u001b[0;32m----> 4\u001b[0;31m \u001b[0;32mfor\u001b[0m \u001b[0mtweets\u001b[0m \u001b[0;32min\u001b[0m \u001b[0muser_timeline\u001b[0m\u001b[0;34m(\u001b[0m\u001b[0;34m)\u001b[0m\u001b[0;34m:\u001b[0m\u001b[0;34m\u001b[0m\u001b[0;34m\u001b[0m\u001b[0m\n\u001b[0m\u001b[1;32m      5\u001b[0m     \u001b[0mprint\u001b[0m\u001b[0;34m(\u001b[0m\u001b[0mtweets\u001b[0m\u001b[0;34m.\u001b[0m\u001b[0mtext\u001b[0m\u001b[0;34m)\u001b[0m\u001b[0;34m\u001b[0m\u001b[0;34m\u001b[0m\u001b[0m\n",
      "\u001b[0;31mTypeError\u001b[0m: 'ResultSet' object is not callable"
     ]
    }
   ],
   "source": [
    "user_id = 'realDonaldTrump'\n",
    "user_timeline = api.user_timeline(user_id)\n",
    "\n",
    "for tweets in user_timeline():\n",
    "    print(tweets.text)"
   ]
  },
  {
   "cell_type": "code",
   "execution_count": 15,
   "metadata": {},
   "outputs": [
    {
     "output_type": "stream",
     "name": "stdout",
     "text": "Donald J. Trump\n"
    }
   ],
   "source": [
    "user_info = api.get_user(user_id)\n",
    "print(user_info.name)"
   ]
  },
  {
   "cell_type": "code",
   "execution_count": 27,
   "metadata": {},
   "outputs": [
    {
     "output_type": "stream",
     "name": "stdout",
     "text": "@Deus_Abscondis @ClimateAudit This point assumes: 1. antibody testing is accurate (it is not, see NYT article on this subject) and 2. that having had #coronavirus once makes one immune (this is not known and people in China seem to be catching #COVID19 twice).Tweeted at: 2020-04-20 15:11:35\nSo many good news amidst #COVID19 situation. \n#IIT_Delhi churns out #lowcostN95\n#Poonawala gives dates for posible #Vaccine\n#DRDO takes up N95 with Surat textile group\n#mylabPCRKit validated Internationally\nResponse to \n@narendramodi call \n#coronavirusTweeted at: 2020-04-20 15:11:34\nI'm betting these are the same people who want guns in schools. https://t.co/FDjWfyE0A2 #coronavirusTweeted at: 2020-04-20 15:11:33\nHow the Covid-19 Pet Ownership Boom Has Impacted Pet Brands https://t.co/DDbUXbCRQG #CoronavirusTweeted at: 2020-04-20 15:11:33\nSFA and SPFL joint group move to ensure they are ready for football’s return after coronavirus crisis https://t.co/EewtUdKM7S #coronavirus #covid19Tweeted at: 2020-04-20 15:11:33\nEquipment for large-scale #coronavirus #testing #lab arrives from #China #Israel https://t.co/vpFJGf3OvATweeted at: 2020-04-20 15:11:31\nAll of my Art is now available on Face Masks\nhttps://t.co/jyY9q7nvQV\n#facemask #Birds #coronavirus https://t.co/ltdJOnS11eTweeted at: 2020-04-20 15:11:30\nPresident Donald Trump is being blasted for his apparent bragging about and celebrating “only” 60,000 to 65,000 #COVID19 #coronavirus deaths.\n\n https://t.co/RGGrYQAfSETweeted at: 2020-04-20 15:11:28\n@john_babers @JayCaruso The Jan. 14 tweet came less than two months before WHO declared COVID-19 to be a global pandemic.\n\"Preliminary investigations conducted by the Chinese authorities have found no clear evidence of human-to-human transmission of the novel #coronavirusTweeted at: 2020-04-20 15:11:28\nFight Against #Coronavirus \n\nThrough a sand-art animation, eminent sand artist \n@sudarsansand urges people to stop spitting in public places. \n\n#Odisha #COVID19 https://t.co/5BWx5dO1Y5Tweeted at: 2020-04-20 15:11:27\nAm reading feeds saying the Duke of Edinburgh has \"come out of retirement\" to fight coronavirus. I'm not sure allowing a statement to be published in your name really constitutes going back to work. @IainDale #PrincePhilip #coronavirusTweeted at: 2020-04-20 15:11:26\n#Employers should continue to meet automatic enrolment obligations despite #coronavirus disruption, says #TPR\n\nRead our latest blog at https://t.co/VVA0S3Bigs \n\n#COVID19 #Pensions https://t.co/QsXKmJ4GA5Tweeted at: 2020-04-20 15:11:26\n#COVID19: No symptoms, no problem, right? WRONG! \n\nPer @nresearchnews, up to 44% of secondary cases were transmitted by those not yet exhibiting #coronavirus symptoms. \n\nWear a mask, even if you feel fine.\n\nhttps://t.co/Dy2Yv4kTsz\n\n#StopTheSpread #InfectiousDiseases #PublicHealthTweeted at: 2020-04-20 15:11:26\n10 things you’re allowed to do outside during #coronavirus lockdown  https://t.co/eqfjXhLYg2 https://t.co/cqCMrJxKPxTweeted at: 2020-04-20 15:11:26\nSimple illustration of how Social Distancing works in Epidemiology &amp; managing Infectious Disease transmission.\n➖\n#covid #covid19 #coronavirus\n#socialdistancing #saferathome #shelterinplace\n➖\nSource: spinedocny 🙏 @… https://t.co/HN2rPtvVcDTweeted at: 2020-04-20 15:11:24\nHey @CBCNews @CBCPolitics please stop airing the #TrumpShow LIVE aka #Trump #WhiteHouse #coronavirus briefing https://t.co/EyRtZoHRhwTweeted at: 2020-04-20 15:11:24\nvery important\nrelation between flu shot and #coronavirus https://t.co/q9ehWxJM7ETweeted at: 2020-04-20 15:11:23\nThai King books entire luxury hotel in Germany for coronavirus self-isolation, with harem for 20 women. #Germany #Coronavirus #Thailand #Lockdown #Coronavirus #CoronaVirusUpdate #COVID #COVID19 #COVID2019 #COVID_19 #COVIDー19 #CoronavirusPandemic https://t.co/blNDOt8CGUTweeted at: 2020-04-20 15:11:22\nMrs C and I were out exercising recently and came across yet another reminder that ppl really appreciate the extraordinary efforts of #NHS staff. These chocs were anonymously placed on the windscreen of an ambulance crew dealing with an emergency. #coronavirus https://t.co/fK7fOrMrqSTweeted at: 2020-04-20 15:11:21\nDo not be afraid\n#MondayMotivation #coronavirus https://t.co/U5NmdzRL9lTweeted at: 2020-04-20 15:11:20\n"
    }
   ],
   "source": [
    "hashtag_phrase=\"#coronavirus\"\n",
    "for tweet in tweepy.Cursor(api.search, q=hashtag_phrase+' -filter:retweets', lang=\"en\", tweet_mode='extended').items(20):\n",
    "    #print(tweet.full_text.replace('\\n',' ').encode('utf-8'))\n",
    "    print(tweet.full_text + \"Tweeted at: \" + str(tweet.created_at))\n",
    "                \n",
    "                                   "
   ]
  },
  {
   "cell_type": "code",
   "execution_count": 30,
   "metadata": {
    "tags": [
     "outputPrepend"
    ]
   },
   "outputs": [
    {
     "output_type": "error",
     "ename": "NameError",
     "evalue": "name 'location' is not defined",
     "traceback": [
      "\u001b[0;31m---------------------------------------------------------------------------\u001b[0m",
      "\u001b[0;31mNameError\u001b[0m                                 Traceback (most recent call last)",
      "\u001b[0;32m<ipython-input-30-35299f52d361>\u001b[0m in \u001b[0;36m<module>\u001b[0;34m\u001b[0m\n\u001b[1;32m      1\u001b[0m \u001b[0mlocations_available\u001b[0m\u001b[0;34m=\u001b[0m \u001b[0mapi\u001b[0m\u001b[0;34m.\u001b[0m\u001b[0mtrends_available\u001b[0m\u001b[0;34m(\u001b[0m\u001b[0;34m)\u001b[0m\u001b[0;34m\u001b[0m\u001b[0;34m\u001b[0m\u001b[0m\n\u001b[0;32m----> 2\u001b[0;31m \u001b[0mprint\u001b[0m\u001b[0;34m(\u001b[0m\u001b[0mlocations_available\u001b[0m\u001b[0;34m.\u001b[0m\u001b[0m__getattribute__\u001b[0m\u001b[0;34m(\u001b[0m\u001b[0mlocation\u001b[0m\u001b[0;34m)\u001b[0m\u001b[0;34m)\u001b[0m\u001b[0;34m\u001b[0m\u001b[0;34m\u001b[0m\u001b[0m\n\u001b[0m",
      "\u001b[0;31mNameError\u001b[0m: name 'location' is not defined"
     ]
    }
   ],
   "source": [
    "locations_available= api.trends_available()\n",
    "print(locations_available.__getattribute__(location))"
   ]
  },
  {
   "cell_type": "code",
   "execution_count": 29,
   "metadata": {},
   "outputs": [
    {
     "output_type": "execute_result",
     "data": {
      "text/plain": "['__add__',\n '__class__',\n '__contains__',\n '__delattr__',\n '__delitem__',\n '__dir__',\n '__doc__',\n '__eq__',\n '__format__',\n '__ge__',\n '__getattribute__',\n '__getitem__',\n '__gt__',\n '__hash__',\n '__iadd__',\n '__imul__',\n '__init__',\n '__init_subclass__',\n '__iter__',\n '__le__',\n '__len__',\n '__lt__',\n '__mul__',\n '__ne__',\n '__new__',\n '__reduce__',\n '__reduce_ex__',\n '__repr__',\n '__reversed__',\n '__rmul__',\n '__setattr__',\n '__setitem__',\n '__sizeof__',\n '__str__',\n '__subclasshook__',\n 'append',\n 'clear',\n 'copy',\n 'count',\n 'extend',\n 'index',\n 'insert',\n 'pop',\n 'remove',\n 'reverse',\n 'sort']"
     },
     "metadata": {},
     "execution_count": 29
    }
   ],
   "source": [
    "dir(locations_available)"
   ]
  }
 ]
}